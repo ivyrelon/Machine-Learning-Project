{
  "cells": [
    {
      "cell_type": "markdown",
      "metadata": {
        "id": "ch-eIHaz9e-7"
      },
      "source": [
        "# Introduction\n",
        "\n",
        "I am identifying news items as \"true\" or \"fake\" for this project, which will be a binary classification issue - classifying the samples as positive (containing fake news) or negative (without fake news).\n",
        "\n",
        "Attribute:\n",
        "\n",
        "*   text - text of the article; could be incomplete\n",
        "*   title -title of a news article\n",
        "*   subject - subject of the news.\n",
        "*   date - date of a news article"
      ]
    },
    {
      "cell_type": "markdown",
      "metadata": {
        "id": "MRom26Fv9srm"
      },
      "source": [
        "Importing dataset -downloaded dataset from kaggle"
      ]
    },
    {
      "cell_type": "code",
      "execution_count": 140,
      "metadata": {
        "id": "ufflRCsil6Zb"
      },
      "outputs": [],
      "source": [
        "import pandas as pd\n",
        "import numpy as np\n",
        "import seaborn as sns\n",
        "import matplotlib.pyplot as plt\n",
        "from sklearn.model_selection import train_test_split\n",
        "from sklearn.metrics import accuracy_score"
      ]
    },
    {
      "cell_type": "code",
      "execution_count": 141,
      "metadata": {
        "colab": {
          "base_uri": "https://localhost:8080/",
          "height": 0
        },
        "id": "CLC8og7umRJy",
        "outputId": "b167697a-381f-49c9-f197-1a9dc88c8d1a"
      },
      "outputs": [
        {
          "output_type": "stream",
          "name": "stdout",
          "text": [
            "Drive already mounted at /content/drive; to attempt to forcibly remount, call drive.mount(\"/content/drive\", force_remount=True).\n"
          ]
        }
      ],
      "source": [
        "from google.colab import drive\n",
        "drive.mount('/content/drive')"
      ]
    },
    {
      "cell_type": "code",
      "execution_count": 142,
      "metadata": {
        "id": "k6JytP6dmZB7"
      },
      "outputs": [],
      "source": [
        "fake = pd.read_csv(\"/content/drive/MyDrive/ML Project/Fake.csv\")\n",
        "true = pd.read_csv(\"/content/drive/MyDrive/ML Project/True.csv\")"
      ]
    },
    {
      "cell_type": "code",
      "execution_count": 143,
      "metadata": {
        "colab": {
          "base_uri": "https://localhost:8080/",
          "height": 206
        },
        "id": "r08YshnJmkdD",
        "outputId": "73a21e66-0390-471f-83fa-c4e995cd7dd7"
      },
      "outputs": [
        {
          "output_type": "execute_result",
          "data": {
            "text/plain": [
              "                                               title  \\\n",
              "0   Donald Trump Sends Out Embarrassing New Year’...   \n",
              "1   Drunk Bragging Trump Staffer Started Russian ...   \n",
              "2   Sheriff David Clarke Becomes An Internet Joke...   \n",
              "3   Trump Is So Obsessed He Even Has Obama’s Name...   \n",
              "4   Pope Francis Just Called Out Donald Trump Dur...   \n",
              "\n",
              "                                                text subject  \\\n",
              "0  Donald Trump just couldn t wish all Americans ...    News   \n",
              "1  House Intelligence Committee Chairman Devin Nu...    News   \n",
              "2  On Friday, it was revealed that former Milwauk...    News   \n",
              "3  On Christmas day, Donald Trump announced that ...    News   \n",
              "4  Pope Francis used his annual Christmas Day mes...    News   \n",
              "\n",
              "                date  \n",
              "0  December 31, 2017  \n",
              "1  December 31, 2017  \n",
              "2  December 30, 2017  \n",
              "3  December 29, 2017  \n",
              "4  December 25, 2017  "
            ],
            "text/html": [
              "\n",
              "  <div id=\"df-f26fed25-96a8-400d-839a-5d8048b42dc3\">\n",
              "    <div class=\"colab-df-container\">\n",
              "      <div>\n",
              "<style scoped>\n",
              "    .dataframe tbody tr th:only-of-type {\n",
              "        vertical-align: middle;\n",
              "    }\n",
              "\n",
              "    .dataframe tbody tr th {\n",
              "        vertical-align: top;\n",
              "    }\n",
              "\n",
              "    .dataframe thead th {\n",
              "        text-align: right;\n",
              "    }\n",
              "</style>\n",
              "<table border=\"1\" class=\"dataframe\">\n",
              "  <thead>\n",
              "    <tr style=\"text-align: right;\">\n",
              "      <th></th>\n",
              "      <th>title</th>\n",
              "      <th>text</th>\n",
              "      <th>subject</th>\n",
              "      <th>date</th>\n",
              "    </tr>\n",
              "  </thead>\n",
              "  <tbody>\n",
              "    <tr>\n",
              "      <th>0</th>\n",
              "      <td>Donald Trump Sends Out Embarrassing New Year’...</td>\n",
              "      <td>Donald Trump just couldn t wish all Americans ...</td>\n",
              "      <td>News</td>\n",
              "      <td>December 31, 2017</td>\n",
              "    </tr>\n",
              "    <tr>\n",
              "      <th>1</th>\n",
              "      <td>Drunk Bragging Trump Staffer Started Russian ...</td>\n",
              "      <td>House Intelligence Committee Chairman Devin Nu...</td>\n",
              "      <td>News</td>\n",
              "      <td>December 31, 2017</td>\n",
              "    </tr>\n",
              "    <tr>\n",
              "      <th>2</th>\n",
              "      <td>Sheriff David Clarke Becomes An Internet Joke...</td>\n",
              "      <td>On Friday, it was revealed that former Milwauk...</td>\n",
              "      <td>News</td>\n",
              "      <td>December 30, 2017</td>\n",
              "    </tr>\n",
              "    <tr>\n",
              "      <th>3</th>\n",
              "      <td>Trump Is So Obsessed He Even Has Obama’s Name...</td>\n",
              "      <td>On Christmas day, Donald Trump announced that ...</td>\n",
              "      <td>News</td>\n",
              "      <td>December 29, 2017</td>\n",
              "    </tr>\n",
              "    <tr>\n",
              "      <th>4</th>\n",
              "      <td>Pope Francis Just Called Out Donald Trump Dur...</td>\n",
              "      <td>Pope Francis used his annual Christmas Day mes...</td>\n",
              "      <td>News</td>\n",
              "      <td>December 25, 2017</td>\n",
              "    </tr>\n",
              "  </tbody>\n",
              "</table>\n",
              "</div>\n",
              "      <button class=\"colab-df-convert\" onclick=\"convertToInteractive('df-f26fed25-96a8-400d-839a-5d8048b42dc3')\"\n",
              "              title=\"Convert this dataframe to an interactive table.\"\n",
              "              style=\"display:none;\">\n",
              "        \n",
              "  <svg xmlns=\"http://www.w3.org/2000/svg\" height=\"24px\"viewBox=\"0 0 24 24\"\n",
              "       width=\"24px\">\n",
              "    <path d=\"M0 0h24v24H0V0z\" fill=\"none\"/>\n",
              "    <path d=\"M18.56 5.44l.94 2.06.94-2.06 2.06-.94-2.06-.94-.94-2.06-.94 2.06-2.06.94zm-11 1L8.5 8.5l.94-2.06 2.06-.94-2.06-.94L8.5 2.5l-.94 2.06-2.06.94zm10 10l.94 2.06.94-2.06 2.06-.94-2.06-.94-.94-2.06-.94 2.06-2.06.94z\"/><path d=\"M17.41 7.96l-1.37-1.37c-.4-.4-.92-.59-1.43-.59-.52 0-1.04.2-1.43.59L10.3 9.45l-7.72 7.72c-.78.78-.78 2.05 0 2.83L4 21.41c.39.39.9.59 1.41.59.51 0 1.02-.2 1.41-.59l7.78-7.78 2.81-2.81c.8-.78.8-2.07 0-2.86zM5.41 20L4 18.59l7.72-7.72 1.47 1.35L5.41 20z\"/>\n",
              "  </svg>\n",
              "      </button>\n",
              "      \n",
              "  <style>\n",
              "    .colab-df-container {\n",
              "      display:flex;\n",
              "      flex-wrap:wrap;\n",
              "      gap: 12px;\n",
              "    }\n",
              "\n",
              "    .colab-df-convert {\n",
              "      background-color: #E8F0FE;\n",
              "      border: none;\n",
              "      border-radius: 50%;\n",
              "      cursor: pointer;\n",
              "      display: none;\n",
              "      fill: #1967D2;\n",
              "      height: 32px;\n",
              "      padding: 0 0 0 0;\n",
              "      width: 32px;\n",
              "    }\n",
              "\n",
              "    .colab-df-convert:hover {\n",
              "      background-color: #E2EBFA;\n",
              "      box-shadow: 0px 1px 2px rgba(60, 64, 67, 0.3), 0px 1px 3px 1px rgba(60, 64, 67, 0.15);\n",
              "      fill: #174EA6;\n",
              "    }\n",
              "\n",
              "    [theme=dark] .colab-df-convert {\n",
              "      background-color: #3B4455;\n",
              "      fill: #D2E3FC;\n",
              "    }\n",
              "\n",
              "    [theme=dark] .colab-df-convert:hover {\n",
              "      background-color: #434B5C;\n",
              "      box-shadow: 0px 1px 3px 1px rgba(0, 0, 0, 0.15);\n",
              "      filter: drop-shadow(0px 1px 2px rgba(0, 0, 0, 0.3));\n",
              "      fill: #FFFFFF;\n",
              "    }\n",
              "  </style>\n",
              "\n",
              "      <script>\n",
              "        const buttonEl =\n",
              "          document.querySelector('#df-f26fed25-96a8-400d-839a-5d8048b42dc3 button.colab-df-convert');\n",
              "        buttonEl.style.display =\n",
              "          google.colab.kernel.accessAllowed ? 'block' : 'none';\n",
              "\n",
              "        async function convertToInteractive(key) {\n",
              "          const element = document.querySelector('#df-f26fed25-96a8-400d-839a-5d8048b42dc3');\n",
              "          const dataTable =\n",
              "            await google.colab.kernel.invokeFunction('convertToInteractive',\n",
              "                                                     [key], {});\n",
              "          if (!dataTable) return;\n",
              "\n",
              "          const docLinkHtml = 'Like what you see? Visit the ' +\n",
              "            '<a target=\"_blank\" href=https://colab.research.google.com/notebooks/data_table.ipynb>data table notebook</a>'\n",
              "            + ' to learn more about interactive tables.';\n",
              "          element.innerHTML = '';\n",
              "          dataTable['output_type'] = 'display_data';\n",
              "          await google.colab.output.renderOutput(dataTable, element);\n",
              "          const docLink = document.createElement('div');\n",
              "          docLink.innerHTML = docLinkHtml;\n",
              "          element.appendChild(docLink);\n",
              "        }\n",
              "      </script>\n",
              "    </div>\n",
              "  </div>\n",
              "  "
            ]
          },
          "metadata": {},
          "execution_count": 143
        }
      ],
      "source": [
        "fake.head()"
      ]
    },
    {
      "cell_type": "code",
      "execution_count": 144,
      "metadata": {
        "colab": {
          "base_uri": "https://localhost:8080/",
          "height": 206
        },
        "id": "3jZIviN6moox",
        "outputId": "dd3ef08e-0c3c-4c20-d2f4-a1add3336e4e"
      },
      "outputs": [
        {
          "output_type": "execute_result",
          "data": {
            "text/plain": [
              "                                               title  \\\n",
              "0  As U.S. budget fight looms, Republicans flip t...   \n",
              "1  U.S. military to accept transgender recruits o...   \n",
              "2  Senior U.S. Republican senator: 'Let Mr. Muell...   \n",
              "3  FBI Russia probe helped by Australian diplomat...   \n",
              "4  Trump wants Postal Service to charge 'much mor...   \n",
              "\n",
              "                                                text       subject  \\\n",
              "0  WASHINGTON (Reuters) - The head of a conservat...  politicsNews   \n",
              "1  WASHINGTON (Reuters) - Transgender people will...  politicsNews   \n",
              "2  WASHINGTON (Reuters) - The special counsel inv...  politicsNews   \n",
              "3  WASHINGTON (Reuters) - Trump campaign adviser ...  politicsNews   \n",
              "4  SEATTLE/WASHINGTON (Reuters) - President Donal...  politicsNews   \n",
              "\n",
              "                 date  \n",
              "0  December 31, 2017   \n",
              "1  December 29, 2017   \n",
              "2  December 31, 2017   \n",
              "3  December 30, 2017   \n",
              "4  December 29, 2017   "
            ],
            "text/html": [
              "\n",
              "  <div id=\"df-8232d561-2e8a-4175-b46c-e076d9d4736c\">\n",
              "    <div class=\"colab-df-container\">\n",
              "      <div>\n",
              "<style scoped>\n",
              "    .dataframe tbody tr th:only-of-type {\n",
              "        vertical-align: middle;\n",
              "    }\n",
              "\n",
              "    .dataframe tbody tr th {\n",
              "        vertical-align: top;\n",
              "    }\n",
              "\n",
              "    .dataframe thead th {\n",
              "        text-align: right;\n",
              "    }\n",
              "</style>\n",
              "<table border=\"1\" class=\"dataframe\">\n",
              "  <thead>\n",
              "    <tr style=\"text-align: right;\">\n",
              "      <th></th>\n",
              "      <th>title</th>\n",
              "      <th>text</th>\n",
              "      <th>subject</th>\n",
              "      <th>date</th>\n",
              "    </tr>\n",
              "  </thead>\n",
              "  <tbody>\n",
              "    <tr>\n",
              "      <th>0</th>\n",
              "      <td>As U.S. budget fight looms, Republicans flip t...</td>\n",
              "      <td>WASHINGTON (Reuters) - The head of a conservat...</td>\n",
              "      <td>politicsNews</td>\n",
              "      <td>December 31, 2017</td>\n",
              "    </tr>\n",
              "    <tr>\n",
              "      <th>1</th>\n",
              "      <td>U.S. military to accept transgender recruits o...</td>\n",
              "      <td>WASHINGTON (Reuters) - Transgender people will...</td>\n",
              "      <td>politicsNews</td>\n",
              "      <td>December 29, 2017</td>\n",
              "    </tr>\n",
              "    <tr>\n",
              "      <th>2</th>\n",
              "      <td>Senior U.S. Republican senator: 'Let Mr. Muell...</td>\n",
              "      <td>WASHINGTON (Reuters) - The special counsel inv...</td>\n",
              "      <td>politicsNews</td>\n",
              "      <td>December 31, 2017</td>\n",
              "    </tr>\n",
              "    <tr>\n",
              "      <th>3</th>\n",
              "      <td>FBI Russia probe helped by Australian diplomat...</td>\n",
              "      <td>WASHINGTON (Reuters) - Trump campaign adviser ...</td>\n",
              "      <td>politicsNews</td>\n",
              "      <td>December 30, 2017</td>\n",
              "    </tr>\n",
              "    <tr>\n",
              "      <th>4</th>\n",
              "      <td>Trump wants Postal Service to charge 'much mor...</td>\n",
              "      <td>SEATTLE/WASHINGTON (Reuters) - President Donal...</td>\n",
              "      <td>politicsNews</td>\n",
              "      <td>December 29, 2017</td>\n",
              "    </tr>\n",
              "  </tbody>\n",
              "</table>\n",
              "</div>\n",
              "      <button class=\"colab-df-convert\" onclick=\"convertToInteractive('df-8232d561-2e8a-4175-b46c-e076d9d4736c')\"\n",
              "              title=\"Convert this dataframe to an interactive table.\"\n",
              "              style=\"display:none;\">\n",
              "        \n",
              "  <svg xmlns=\"http://www.w3.org/2000/svg\" height=\"24px\"viewBox=\"0 0 24 24\"\n",
              "       width=\"24px\">\n",
              "    <path d=\"M0 0h24v24H0V0z\" fill=\"none\"/>\n",
              "    <path d=\"M18.56 5.44l.94 2.06.94-2.06 2.06-.94-2.06-.94-.94-2.06-.94 2.06-2.06.94zm-11 1L8.5 8.5l.94-2.06 2.06-.94-2.06-.94L8.5 2.5l-.94 2.06-2.06.94zm10 10l.94 2.06.94-2.06 2.06-.94-2.06-.94-.94-2.06-.94 2.06-2.06.94z\"/><path d=\"M17.41 7.96l-1.37-1.37c-.4-.4-.92-.59-1.43-.59-.52 0-1.04.2-1.43.59L10.3 9.45l-7.72 7.72c-.78.78-.78 2.05 0 2.83L4 21.41c.39.39.9.59 1.41.59.51 0 1.02-.2 1.41-.59l7.78-7.78 2.81-2.81c.8-.78.8-2.07 0-2.86zM5.41 20L4 18.59l7.72-7.72 1.47 1.35L5.41 20z\"/>\n",
              "  </svg>\n",
              "      </button>\n",
              "      \n",
              "  <style>\n",
              "    .colab-df-container {\n",
              "      display:flex;\n",
              "      flex-wrap:wrap;\n",
              "      gap: 12px;\n",
              "    }\n",
              "\n",
              "    .colab-df-convert {\n",
              "      background-color: #E8F0FE;\n",
              "      border: none;\n",
              "      border-radius: 50%;\n",
              "      cursor: pointer;\n",
              "      display: none;\n",
              "      fill: #1967D2;\n",
              "      height: 32px;\n",
              "      padding: 0 0 0 0;\n",
              "      width: 32px;\n",
              "    }\n",
              "\n",
              "    .colab-df-convert:hover {\n",
              "      background-color: #E2EBFA;\n",
              "      box-shadow: 0px 1px 2px rgba(60, 64, 67, 0.3), 0px 1px 3px 1px rgba(60, 64, 67, 0.15);\n",
              "      fill: #174EA6;\n",
              "    }\n",
              "\n",
              "    [theme=dark] .colab-df-convert {\n",
              "      background-color: #3B4455;\n",
              "      fill: #D2E3FC;\n",
              "    }\n",
              "\n",
              "    [theme=dark] .colab-df-convert:hover {\n",
              "      background-color: #434B5C;\n",
              "      box-shadow: 0px 1px 3px 1px rgba(0, 0, 0, 0.15);\n",
              "      filter: drop-shadow(0px 1px 2px rgba(0, 0, 0, 0.3));\n",
              "      fill: #FFFFFF;\n",
              "    }\n",
              "  </style>\n",
              "\n",
              "      <script>\n",
              "        const buttonEl =\n",
              "          document.querySelector('#df-8232d561-2e8a-4175-b46c-e076d9d4736c button.colab-df-convert');\n",
              "        buttonEl.style.display =\n",
              "          google.colab.kernel.accessAllowed ? 'block' : 'none';\n",
              "\n",
              "        async function convertToInteractive(key) {\n",
              "          const element = document.querySelector('#df-8232d561-2e8a-4175-b46c-e076d9d4736c');\n",
              "          const dataTable =\n",
              "            await google.colab.kernel.invokeFunction('convertToInteractive',\n",
              "                                                     [key], {});\n",
              "          if (!dataTable) return;\n",
              "\n",
              "          const docLinkHtml = 'Like what you see? Visit the ' +\n",
              "            '<a target=\"_blank\" href=https://colab.research.google.com/notebooks/data_table.ipynb>data table notebook</a>'\n",
              "            + ' to learn more about interactive tables.';\n",
              "          element.innerHTML = '';\n",
              "          dataTable['output_type'] = 'display_data';\n",
              "          await google.colab.output.renderOutput(dataTable, element);\n",
              "          const docLink = document.createElement('div');\n",
              "          docLink.innerHTML = docLinkHtml;\n",
              "          element.appendChild(docLink);\n",
              "        }\n",
              "      </script>\n",
              "    </div>\n",
              "  </div>\n",
              "  "
            ]
          },
          "metadata": {},
          "execution_count": 144
        }
      ],
      "source": [
        "true.head()"
      ]
    },
    {
      "cell_type": "markdown",
      "metadata": {
        "id": "ERIEWEiL_DCO"
      },
      "source": [
        "## Inserting a column called \"class\" for fake and real news dataset to categorize fake and true news.\n",
        "#### Creating  category called \"class\" for fake and real news dataset to categorize fake and true news before I combined the dataset. Classified fake and true by - numerical value."
      ]
    },
    {
      "cell_type": "code",
      "execution_count": 145,
      "metadata": {
        "id": "zSpyNqsynBHb"
      },
      "outputs": [],
      "source": [
        "fake[\"class\"] = 0\n",
        "true[\"class\"] = 1"
      ]
    },
    {
      "cell_type": "markdown",
      "metadata": {
        "id": "_7VpTPSR_HtB"
      },
      "source": [
        "Lets check the shape of the dataset"
      ]
    },
    {
      "cell_type": "code",
      "execution_count": 146,
      "metadata": {
        "colab": {
          "base_uri": "https://localhost:8080/",
          "height": 0
        },
        "id": "CHyrOSj2nWvJ",
        "outputId": "21614b13-7a93-48e2-d513-a6e9c2aa9586"
      },
      "outputs": [
        {
          "output_type": "execute_result",
          "data": {
            "text/plain": [
              "((23481, 5), (21417, 5))"
            ]
          },
          "metadata": {},
          "execution_count": 146
        }
      ],
      "source": [
        "fake.shape, true.shape"
      ]
    },
    {
      "cell_type": "markdown",
      "source": [
        "#Removing the Reuters"
      ],
      "metadata": {
        "id": "QXRsdXogsXfG"
      }
    },
    {
      "cell_type": "code",
      "source": [
        "# Remove the Reuters, city and twitter parts from true dataset\n",
        "# Function with one accepting string statement.\n",
        "\n",
        "def remove_news_name(iLine):\n",
        "    # Split the string to list based on \") -\". Because it is observed that most of the real dataset have \"Reuters) - \"\n",
        "    line = iLine.split(') -')\n",
        "    # If the above split is successful then we will have 2 items in list and we take the second block in try else we go to except\n",
        "    try:\n",
        "      line = line[1]\n",
        "    except:\n",
        "      # The news that dont contain \") -\" contained \": -\". So we split and remove them by next try except block.\n",
        "      try:\n",
        "          line = iLine.split(': -')\n",
        "          line = line[1]\n",
        "      except:\n",
        "          # There are news with neither of both. Then we take the whole line. The frequency of such is <5%\n",
        "          print(line)\n",
        "          pass\n",
        "    return str(line)"
      ],
      "metadata": {
        "id": "eAPGQbDkgbOG"
      },
      "execution_count": 147,
      "outputs": []
    },
    {
      "cell_type": "code",
      "execution_count": 148,
      "metadata": {
        "colab": {
          "base_uri": "https://localhost:8080/",
          "height": 0
        },
        "id": "i_F32m1g_R7Q",
        "outputId": "4efaafb2-054b-4dae-d950-9affd4dc3429"
      },
      "outputs": [
        {
          "output_type": "stream",
          "name": "stdout",
          "text": [
            "['WASHINGTON - Some key U.S. senators still had concerns about the Republican tax bill in the Senate, as a procedural motion to formally open debate on the measure was approved on Wednesday.  Here is a list of Republicans pivotal to the bill’s fate. The moderate senator from Maine has qualms about Republicans’ plan to include in the tax bill a repeal of a federal fee imposed on people who do not comply with Obamacare’s “individual mandate.” The fee is meant to encourage young, healthy people to get health insurance so that premiums are affordable for old, sick people. Collins and others fear repealing the fine would drive up insurance premium costs, canceling out tax-cut gains that many of their constituents might get from the tax bill. Collins said Republican leaders had promised her to take up two healthcare provisions before the end of the year to help mitigate the impact of repealing the fee. Those provisions would help insurers cover expensive patients and continue Obamacare subsidy payments for low-income people for two years. Collins has also prepared an amendment to the tax bill to make state and local property tax deductible up to $10,000, a provision that is part of the House of Representatives’ tax bill. Both the Senate and House bills end deductibility of state and local tax income and sales tax. Unlike the House bill, the Senate bill ends property tax deductibility too. Collins sidestepped a question on whether she would vote for the tax bill. She said: “We’re doing this one step at a time.” The senator from Alaska will vote for the tax bill, she wrote on Twitter on Wednesday evening. Murkowski said a number of the bill’s features were “very attractive,” noting that it would lower tax rates, double the child tax credit and double the standard deduction. She said it also included a provision she had written, to open the Arctic National Wildlife Refuge, or ANWR, to oil and gas drilling. Murkowski said it was important to enact reforms separately to help stabilize the individual market in health insurance. The Montana Republican has concerns about the bill’s treatment of “Main Street” businesses. He said on Wednesday he had secured an agreement to increase a 17.4 percent deduction for owners of pass-through businesses to 20 percent. The senator from Wisconsin also has demanded more favorable treatment for “pass-through” businesses, which include sole proprietorships and partnerships, as a condition of his support. Corker, a deficit hawk from Tennessee, said on Tuesday he had the outlines of a deal adding a tax snap-back provision to the bill that would raise taxes automatically if economic growth targets are not hit in the future to offset a higher deficit. Corker said that arrangement would satisfy his concerns that the tax cuts could add too much to the national debt. As of Wednesday evening, the details had not been announced. The snap-back proposal also became a target of growing criticism among conservative Republicans and lobbyists. The tax bill was expected to add $1.4 trillion to the $20 trillion national debt over 10 years. The Arizona conservative said on Wednesday he was more comfortable with the tax bill because of indications there would be provisions in it to protect against ballooning the deficit. Flake told National Public Radio he was concerned about “gimmicks,” but liked other parts of the bill, especially the corporate tax cut. The Arizona maverick and former presidential nominee sidestepped questions on Monday about how he would vote on the tax bill, telling reporters in the hallway to “stay tuned.” Like Corker and Flake, Oklahoma’s Lankford questions whether tax revenues from economic growth will compensate for the expected increase in the national debt under the tax plan. He has been working with them to “trigger” more revenues if needed. The Kansas lawmaker is also wary of the impact on the national debt, pointing to his own state’s recent experience of fiscal problems following tax cuts. ']\n",
            "['The following statements\\xa0were posted to the verified Twitter accounts of U.S. President Donald Trump, @realDonaldTrump and @POTUS.  The opinions expressed are his own.\\xa0Reuters has not edited the statements or confirmed their accuracy.  @realDonaldTrump :     - With the ridiculous Filibuster Rule in the Senate, Republicans need 60 votes to pass legislation, rather than 51. Can’t get votes, END NOW![0637 EDT] - Another attack in London by a loser terrorist. These are sick and demented people who were in the sights of Scotland Yard. Must be proactive! [0642 EDT] - Loser terrorists must be dealt with in a much tougher manner. The internet is their main recruitment tool which we must cut off & use better! [0648 EDT] - The travel ban into the United States should be far larger, tougher and more specific-but stupidly, that would not be politically correct! [0654 EDT] - We have made more progress in the last nine months against ISIS than the Obama Administration has made in 8 years. Must be proactive & nasty! [0700 EDT] - ESPN is paying a really big price for its politics (and bad programming). People are dumping it in RECORD numbers. Apologize for untruth! [0720 EDT] - CHAIN MIGRATION cannot be allowed to be part of any legislation on Immigration![0900 EDT] - WEEKLY ADDRESS bit.ly/2wgKaKi [1209 EDT]  - Frank “FX” Giaccio- On behalf of @FLOTUS Melania & myself, THANK YOU for doing a GREAT job this morning! @NatlParkService gives you an A+! bit.ly/2wheSmx [1249 EDT] - NEVER forget our HEROES held prisoner or who have gone missing in action while serving their country. Proclamation: 45.wh.gov/POWMIARecognitionDay [1502 EDT] - Our hearts & prayers go out to the people of London, who suffered a vicious terrorist attack.... [1654 EDT] - We will defend our people, our nations and our civilization from all who dare to threaten our way of life...cont: here  [1858 EDT] - HAPPY 70th BIRTHDAY to the @USAirForce! The American people are eternally grateful. Thank you for keeping America PROUD, STRONG and FREE! [1954 EDT] -- Source link: (bit.ly/2jBh4LU) (bit.ly/2jpEXYR) ']\n",
            "[\"The White House on Wednesday disclosed a group of former lobbyists working in President Donald Trump’s administration who have been issued ethics waivers, following a request from the U.S. government’s ethics agency. The list of at least 11 waivers include White House adviser Kellyanne Conway and Trump's Chief of Staff Reince Priebus, according to a chart issued on the White House website. (bit.ly/1LPKWx8) Conway is permitted to “participate in communications and meetings involving former clients which are political, advocacy, trade or non-profit organizations,” while Priebus, a former Republican National Committee chairman, is allowed to have communications and meetings with the RNC, the document says. Shortly after taking office in January, Trump signed an executive order barring lobbyists who joined the administration from working on issues related to their prior work. But the administration has the power to grant waivers to particular hires, exempting them from that restriction. Also on the list is Michael Catanzaro, a special assistant to the president and a former oil and gas lobbyist, who is cleared to weigh in on energy policy. Daniel Epstein, associate counsel to the president, “may provide legal advice to the White House Office or any agency of the executive branch and to take positions adverse to Cause of Action Institute.” Shahira Knight, a special assistant to the president who formerly worked for Fidelity, a financial services company,  “may participate in broad policy matters and particular matters of general applicability relating to tax, retirement and financial services issues.” Andrew Olmem, a special assistant to Trump who worked as an attorney to the Senate Banking Committee during the financial crisis, is cleared to join meetings with former clients involving Puerto Rico’s fiscal issues, along with a wide range of activities involving financial regulation. Mick Mulvaney, director of the Office of Management and Budget (OMB), had promised in a letter on Friday that the White House would comply with a request from the Office of Government Ethics (OGE) to provide information on which former lobbyists are working in the administration.       Mulvaney said in the letter that the administration was not seeking to impede efforts by OGE to obtain that information, despite earlier protests from Walter Shaub, the agency’s director. Shaub, an appointee under President Barack Obama in the final year of a five-year term, had requested in April copies of waivers the Trump administration granted to former lobbyists now appointed to positions in the government. Those requests were sent to agencies across the administration, seeking waivers that would allow former lobbyists to work on issues they had been involved with as paid advocates.  But OMB requested a stay of that request, prompting a fierce response from Shaub. He called the request “highly unusual” and said his agency has the authority to take “corrective action proceedings” against agencies that refuse its requests. In his Friday response, Mulvaney said the requested stay was not an attempt to stifle OGE efforts but rather to provide more time to “ensure sufficient consideration was given to legal questions.” “OMB has never sought to impede OGE,” he wrote. Mulvaney closed the letter by saying the OMB did not grant any lobbyist waivers itself. \"]\n",
            "['Neil Gorsuch, President Donald Trump’s appointee to the U.S. Supreme Court who was confirmed by the Senate to the lifetime job on Friday in a 54-45 vote, will have an immediate impact on cases already pending before the justices. The nine-seat court has operated with only eight justices after the death of conservative Antonin Scalia on Feb. 13, 2016, with four liberals and four conservatives. Gorsuch’s confirmation restores a 5-4 conservative majority. The new justice could cast the deciding vote in new cases before the court as well as some cases already argued during the current term that ends in June. The court could decide to hear fresh arguments in cases in which they otherwise would be split 4-4. Here is a list of five such cases in which Gorsuch could be pivotal. Religious rights: Trinity Lutheran Church v. Comer A case from Missouri to be argued on April 19 in which a church contends the state violated the U.S. Constitution’s First Amendment guarantee of religious freedom by denying it funds for a playground project because of a state ban on aid to religious organizations. Employee class-action lawsuits: Epic Systems Corp v. Lewis A significant case for business and labor on whether companies can head off costly class-action lawsuits by forcing employees to give up their right to pursue work-related legal claims as a group in court. An issue that has divided the court in the past, this case is set to be argued in the next term, which starts in October. Housing discrimination: Bank of America v. Miami The eight-justice court appeared closely divided when it heard arguments on Nov. 8 on whether the city of Miami could pursue lawsuits accusing major banks of predatory mortgage lending to black and Hispanic home buyers. The court may need to reargue the case with Gorsuch on board to avoid a 4-4 split. Cross-border shooting: Hernandez v. Mesa A 4-4 split appeared possible when the court heard arguments in this civil rights case on Feb. 21. The court has been asked to revive a civil rights lawsuit filed by the family of a Mexican teenager against a U.S. Border Patrol agent who fatally shot the 15-year-old from across the border in Texas in 2010. Corporate liability: Jesner v. Arab Bank In a case to be heard next term, the court agreed on Monday to consider reviving litigation that seeks to hold Arab Bank Plc ARBK.AM financially liable for militant attacks in Israel and the Palestinian territories and accuses the Jordan-based bank of being the “paymaster” to militant groups. The question of whether companies can be held liable for actions overseas under a federal law called the Alien Tort Statute is one the court also took up in 2013 but failed to decide.  ']\n",
            "[\"WASHINGTON The clock began running out this week on a strategy that has provided U.S. Republicans in Congress with their only notable legislative successes this year: aggressive use of an obscure U.S. law known as the Congressional Review Act (CRA).  On his 75th day in power, President Donald Trump has yet to offer any major legislation or win passage of a bill he favors, but House of Representatives Majority Leader Kevin McCarthy has notched numerous small-scale victories with his strategy.  Vice President Mike Pence told business leaders at the White House on Tuesday that Trump would sign more CRA resolutions soon and roll back an “avalanche of red tape” from the administration of President Barack Obama, a Democrat.  REUTERS COMMENTARYWar College: One tank to rule them allThe right way to address the Marines United Facebook GroupIn legal battles against travel ban, Trump's own statements are his worst enemy Since Trump took office on Jan. 20, McCarthy has led Congress in churning out 13 resolutions under the CRA killing Obama-era regulations, most of concern to business interests.  Trump has signed 11 of these into law, not only rolling back the rules they targeted but also barring agencies from writing “substantially similar” regulations in the future.  White House spokesman Sean Spicer said on Tuesday the number of resolutions signed over two months showed Trump is “vastly different” from past presidents in rolling back regulations.  On Monday Trump signed a CRA resolution repealing broadband privacy protections. He has also signed resolutions killing rules meant to expand background checks for mentally ill gun purchasers, change public school assessments, and reduce coal waste runoff into streams.  Last Friday was the deadline for introducing any new CRA resolutions on regulations enacted by Obama’s administration. Now Republicans must complete voting on resolutions already in the legislative pipeline by mid-May.  Democrats assail the reversals as harming the environment, education and checks on Wall Street, with many saying the regulations were killed in order to please big-money lobbyists.  Representative Louise Slaughter, the senior Democrat on the Rules Committee that sends resolutions to the House floor for votes, said in an interview “of course it benefits the lobbyists.”  But she said fumbles around healthcare and tax reform also pushed CRA resolutions to the fore.  “Partly I think it’s because they don’t have anything else to do,” she said about Republicans’ eagerness. “Other than that I think it’s just another ‘take that Obama.’”  McCarthy, a Californian and the No. 2 House Republican, saw the CRA’s potential before the election. Written in 1996 and successfully used only once before 2017, the law was originally meant to restore the balance of power between Congress and the federal bureaucracy. But lobbyists and lawmakers recognized it could be used as a policy weapon, if the stars aligned.  Under the law, resolutions only need simple majorities in each chamber to go on for the president’s signature. So one party must control both the legislative and executive branches for it to work. The law sets a short time span for introducing disapproval resolutions: 60 legislative days after a regulation is finalized, meaning it can only be used right after a president of an opposing party leaves office.  The stars aligned on Nov. 8, when Republicans captured the White House, Senate and House. For weeks Republican lawmakers bombarded McCarthy with lists of regulations to repeal and lobbying groups laid plans. The first disapproval resolutions were introduced on Jan. 30.  Right after the election, McCarthy told his party to “go through each regulation on our priority list,” he said.  “If you look at Article One of the Constitution, this isn’t the role of these agencies. The agencies have become too big,” McCarthy said in an interview with Reuters.  The first resolutions sailed through, primarily because Republicans had opposed the regulations long before they were finalized. McCarthy said so many lawmakers objected to the stream pollution rule that wiping it off the books was easy.  Even though the CRA effort is winding down, McCarthy’s brief campaign showed that aggressive use of the law could succeed, and provided Republicans with some modest, but needed successes in a time when they are struggling with larger matters.  “After years of talk about cutting red tape, it is now actually happening,” House Speaker Paul Ryan said on Tuesday. “We are reversing the Obama administration’s most recent and last regulatory onslaught.”  \"]\n",
            "['ABU DHABI - U.S. President Donald Trump’s defense secretary arrived in the United Arab Emirates on Saturday for talks with one of Washington’s closest allies in the Middle East. Jim Mattis, on his debut trip to the region as Pentagon chief, was expected to meet Abu Dhabi Crown Prince Sheikh Mohammed bin Zayed al-Nahayan and U.S. embassy representatives. U.S. officials have not disclosed details about his agenda. In late January, Trump and the Crown Prince spoke by telephone and the White House said they had discussed a proposal for safe zones for Syrian refugees displaced by the conflict. Mattis, a retired Marine general who is reviewing U.S. war plans against Islamic State in Syria and Iraq, is a familiar figure to Gulf Arab rulers. A former leader of Central Command, which oversees U.S. military operations in the region, Mattis said in his Senate confirmation hearings that Iran was “the biggest destabilising force in the Middle East and its policies are contrary to our interests.” Such views play well with Gulf Arabs, who hope Trump’s administration will check what they see as a surge of Iranian support for paramilitary allies in Syria, Iraq, Yemen and Lebanon and for fellow Shi’ite Muslims in Bahrain and Saudi Arabia’s oil-producing Eastern Province. The United Arab Emirates is also a key U.S. ally in the fight against al Qaeda in Yemen. ']\n",
            "[\"Federal appeals court judge Neil Gorsuch, the U.S. Supreme Court pick of President Donald Trump, is a conservative intellectual known for backing religious rights and seen as very much in the mold of Antonin Scalia, the justice he was chosen to replace.  Gorsuch, who has not shied away from needling liberals on occasion, is 49 and could influence the high court for decades to come in the lifetime post, if confirmed by the Republican-led Senate. He is the youngest Supreme Court nominee since Republican President George H.W. Bush in 1991 picked Clarence Thomas, who was 43 at the time.  DON’T MISS For hardline West Bank settlers, Jared Kushner's their man He currently serves as a judge on the 10th U.S. Circuit Court of Appeals in Denver, the city where he was born. He was appointed to that post in 2006 by Republican President George W. Bush.  Gorsuch, who is white, adds little diversity to the court compared with the justices appointed by Democratic President Barack Obama, both of whom were women, one becoming the first Latina justice.  But he offers geographical diversity to a court dominated by justices from the east and west coasts. As an Episcopalian, he would be the only Protestant on the court, which has three Jewish justices and five Catholics.  EXCLUSIVE Poll: A third of Americans think travel ban will make them safer Gorsuch is seen by analysts as a jurist similar to Scalia, who died on Feb. 13, 2016. Scalia, praised by Gorsuch as “a lion of the law,” was known not only for his hard-line conservatism but for interpreting the U.S. Constitution based on what he considered its original meaning, and laws as written by legislators. Like Scalia, Gorsuch is known for sharp writing skills.  “It is the role of judges to apply, not alter, the work of the people’s representatives,” Gorsuch said on Tuesday at the White House event announcing the nomination in remarks that echoed Scalia’s views.  Trump, a Republican, had the chance to nominate Gorsuch because the Republican-led U.S. Senate last year refused to consider Obama’s nominee, appeals court judge Merrick Garland.  Democrats, angered by the treatment of Garland, and opposing Gorsuch’s conservative views, may seek to block his nomination.  Trump may have favored Gorsuch for the job in hopes of a smoother confirmation process than for other potential candidates such as appeals court judge William Pryor, who has called the 1973 Supreme Court ruling legalizing abortion “the worst abomination of constitutional law in our history.”  The federal government is familiar territory for Gorsuch, who is the son of Anne Burford, the first woman to head the U.S. Environmental Protection Agency. She served as Republican President Ronald Reagan’s top environmental official but resigned in 1983, just 22 months into the job, amid a fight with Congress over documents on the EPA’s use of a fund created to clean up toxic waste dumps nationwide.  She was criticized by environmentalists for cutting the agency’s enforcement efforts against polluters and slowing payments for cleaning up toxic waste.  The high court is also familiar ground for Gorsuch, who served as a clerk for two justices including a current member of the court, Anthony Kennedy, a conservative who often casts a deciding vote in close decisions. If confirmed, he would become the first clerk to join a former boss on the Supreme Court. Gorsuch also served as a clerk for Justice Byron White, a John F. Kennedy appointee, who retired from the court in 1993.  Gorsuch has strong, Ivy League academic qualifications: attending Columbia University and, like several of the other justices on the court, Harvard Law School, graduating the same year as Obama. He completed a doctorate in legal philosophy at Oxford University, spent several years in private practice and worked in George W. Bush’s Justice Department.  In a 2005 article in the conservative National Review magazine, Gorsuch criticized American liberals’ “overweening addiction to the courtroom” to implement a social agenda “on everything from gay marriage to assisted suicide.” In his Senate confirmation hearing for his appellate court judgeship, he said the point of the article could be applied to groups across the political spectrum.  In 2013,\\xa0Gorsuch\\xa0played a role in a high-profile ruling involving arts-and-crafts retailer\\xa0Hobby Lobby, allowing owners of private companies to object on religious grounds to an\\xa0Obamacare\\xa0provision requiring employers to provide health insurance covering birth control for women.  The decision, later upheld by the U.S. Supreme Court, said the provision violated a federal law called the Religious Freedom Restoration Act. In a concurrence, Gorsuch\\xa0expressed sympathy for the choice faced by the evangelical Christian owners of the company “between exercising their faith\\xa0or saving their business.”  Gorsuch also criticized an important legal doctrine that directs courts to defer to federal agencies’ interpretation of statutes. Last August, in a case over immigration rules, Gorsuch called the doctrine the “elephant in the room” that concentrates federal power “in a way that seems more than a little difficult to square with the Constitution.”  He has written extensively on the topic of assisted suicide and euthanasia, arguing against legalization. In written questions related to his Senate confirmation hearings, he was asked whether his writings would make him biased in any case on the matter before him. He said his personal views would play no role in his decisions as a judge.  Gorsuch is married with two teenage daughters, and lives outside of Boulder, Colorado.  Friends and former clerks said he was a lover of the outdoors, describing him as an excellent skier, a fly fisherman and a runner.  “We used to joke that he should be the face of Colorado tourism,” former Gorsuch clerk Jane Nitze said.  \"]\n",
            "['The following bullet points are from the U.S. President-Elect Donald Trump’s Twitter account. Reuters has not edited the tweets.     -- Source link: (bit.ly/2jBh4LU) ']\n",
            "['DAVOS, Switzerland - The global economy is in better shape than it’s been in years. Stock markets are booming, oil prices are on the rise again and the risks of a rapid economic slowdown in China, a major source of concern a year ago, have eased. And yet, as political leaders, CEOs and top bankers make their annual trek up the Swiss Alps to the World Economic Forum in Davos, the mood is anything but celebratory. Beneath the veneer of optimism over the economic outlook lurks acute anxiety about an increasingly toxic political climate and a deep sense of uncertainty surrounding the U.S. presidency of Donald Trump, who will be inaugurated on the final day of the forum. Last year, the consensus here was that Trump had no chance of being elected. His victory, less than half a year after Britain voted to leave the European Union, was a slap at the principles that elites in Davos have long held dear, from globalization and free trade to multilateralism. Trump is the poster child for a new strain of populism that is spreading across the developed world and threatening the post-war liberal democratic order. With elections looming in the Netherlands, France, Germany, and possibly Italy, this year, the nervousness among Davos attendees is palpable. “Regardless of how you view Trump and his positions, his election has led to a deep, deep sense of uncertainty and that will cast a long shadow over Davos,” said Jean-Marie Guehenno, CEO of International Crisis Group, a conflict resolution think-tank. Moises Naim of the Carnegie Endowment for International Peace was even more blunt: “There is a consensus that something huge is going on, global and in many respects unprecedented. But we don’t know what the causes are, nor how to deal with it.” The titles of the discussion panels at the WEF, which runs from Jan. 17-20, evoke the unsettling new landscape. Among them are “Squeezed and Angry: How to Fix the Middle Class Crisis”, “Politics of Fear or Rebellion of the Forgotten?”, “Tolerance at the Tipping Point?” and “The Post-EU Era”. The list of leaders attending this year is also telling. The star attraction will be Xi Jinping, the first Chinese president ever to attend Davos. His presence is being seen as a sign of Beijing’s growing weight in the world at a time when Trump is promising a more insular, “America first” approach and Europe is pre-occupied with its own troubles, from Brexit to terrorism. British Prime Minister Theresa May, who has the thorny task of taking her country out of the EU, will also be there. But Germany’s Angela Merkel, a Davos regular whose reputation for steady, principled leadership would have fit well with the WEF’s main theme of “Responsive and Responsible Leadership”, will not. Perhaps the central question in Davos, a four-day affair of panel discussions, lunches and cocktail parties that delve into subjects as diverse as terrorism, artificial intelligence and wellness, is whether leaders can agree on the root causes of public anger and begin to articulate a response. A WEF report on global risks released before Davos highlighted “diminishing public trust in institutions” and noted that rebuilding faith in the political process and leaders would be a “difficult task”. Guy Standing, the author of several books on the new “precariat”, a class of people who lack job security and reliable earnings, believes more people are coming around to the idea that free-market capitalism needs to be overhauled, including those that have benefited most from it. “The mainstream corporate types don’t want Trump and far-right authoritarians,” said Standing, who has been invited to Davos for the first time. “They want a sustainable global economy in which they can do business. More and more of them are sensible enough to realize that they have overreached.” But Ian Bremmer, president of U.S.-based political risk consultancy Eurasia Group, is not so sure. He recounted a recent trip to Goldman Sachs headquarters in New York where he saw bankers “rejoicing in the elevators” at the surge in stock markets and the prospect of tax cuts and deregulation under Trump. Both Goldman CEO Lloyd Blankfein and his JP Morgan counterpart Jamie Dimon will be in Davos. “If you want to find people who are going to rally together and say capitalism is fundamentally broken, Davos is not the place to go,” Bremmer said. Suma Chakrabarti, president of the European Bank for Reconstruction and Development (EBRD), believes a “modern version of globalization” is possible but acknowledges it will take time to emerge. “It is going to be a long haul in persuading a lot of people that there is a different approach. But you don’t have to throw the baby out with the bath water,” he told Reuters. Still, some attendees worry that the pace of technological change and the integrated, complex nature of the global economy have made it more difficult for leaders to shape and control events, let alone reconfigure the global system. The global financial crisis of 2008/9 and the migrant crisis of 2015/16 exposed the impotence of politicians, deepening public disillusion and pushing people towards populists who offered simple explanations and solutions. The problem, says Ian Goldin, an expert on globalization and development at the University of Oxford, is that on many of the most important issues, from climate change to financial regulation, only multilateral cooperation can deliver results. And this is precisely what the populists reject. “The state of global politics is worse than it’s been in a long time,” said Goldin. “At a time when we need more coordination to tackle issues like climate change and other systemic risks, we are getting more and more insular.” ']\n",
            "['Republican members of Congress are complaining that U.S. intelligence agencies are refusing to brief them widely on a classified CIA report that concluded Russia hacked Democratic Party data in an effort to help Donald Trump win the presidency. The Republicans said Director of National Intelligence James Clapper has refused their requests for full briefings of Congress’ two intelligence committees. U.S. government officials said the leaders of Congress and the chairmen of the two intelligence committees, known as the “Gang of Eight,” have been briefed on the Central Intelligence Agency’s conclusion. Nevertheless, Representative Devin Nunes, the California Republican who chairs the House Intelligence Committee and is a member of President-elect Trump’s transition team as well as the Gang of Eight, has called for a briefing for his entire committee on the CIA assessment. “The committee is vigorously looking into reports of cyber-attacks during the election campaign, and in particular we want to clarify press reports that the CIA has a new assessment that it has not shared with us,” Nunes said.Representative Ron Johnson, chairman of the House Homeland Security Committee, said his panel also has asked for a briefing but the CIA refused. “It is disappointing that the CIA would provide information on this issue to the Washington Post and NBC but will not provide information to elected members of Congress,” Johnson said in a statement on Friday. Three U.S. government sources, who all asked for anonymity to discuss classified information, told Reuters that while the full congressional committees have not been briefed, the congressional leadership has, which is the standard procedure for briefing Congress on sensitive intelligence. The sources said that Nunes was personally briefed on the CIA finding. A congressional official denied Nunes was briefed, however. The Office of the Director of National Intelligence (ODNI) said in a statement that because President Barack Obama last week ordered the intelligence community to conduct a full-scale “review of foreign efforts to influence recent presidential elections – from 2008 to the present,” the agencies would not comment further until the study is completed. ODNI, which oversees all 16 U.S. intelligence agencies, said that when the review is complete, the U.S. intelligence community “stands ready to brief Congress.” The office said it also would make\\xa0the study “available to the public consistent with protecting intelligence sources and methods.” The CIA based its conclusion about Russia hacking to influence the election not on irrefutable evidence but largely on its analysis of the fact that the Russians hacked both political parties while only publicizing information damaging to Democrats and their presidential candidate, Hillary Clinton, said a U.S. official familiar with the agency’s work, who also requested anonymity. Two of the government sources said on Friday that the Federal Bureau of Investigation now backs the CIA assessment that the Russian hacks were aimed at helping Trump win. The ODNI also agrees with the assessment, all three government sources said. There was no immediate comment from the FBI. The FBI, which has responsibility for counterintelligence investigations inside the United States, initially did not endorse the CIA’s finding because it did not meet the standards of evidence necessary to win a conviction in a U.S. court or identify individuals whose hacking violated American law, one source said.The debate over Russian hacking also is opening a rift between Trump and some Republican members of Congress. The president-elect continues to dismiss the intelligence agencies’ conclusion that Russian President Vladimir Putin directed the hacking. On Friday, Senator Richard Burr, Republican chairman of the Senate Intelligence Committee, announced his committee will conduct a review in the new year of U.S. intelligence on Russian activities and its cyber activity more broadly. The review will include questioning of both Obama and Trump officials, “including the issuance of subpoenas if necessary to compel testimony,” Burr said in a statement. ']\n",
            "['Over the course of the U.S. presidential campaign, Donald Trump changed his mind on many issues. But he’s been consistent on one foreign policy question: he wants to end American support for Syrian opposition groups fighting Bashar al-Assad’s regime. Trump argues that the United States should expend all of its efforts on fighting Islamic State instead.  \"I’ve had an opposite view of many people regarding Syria,” Trump told the Wall Street Journal on Nov. 11, in his first interview after he won the White House. “My attitude was you’re fighting Syria, Syria is fighting ISIS, and you have to get rid of ISIS. Russia is now totally aligned with Syria, and now you have Iran, which is becoming powerful, because of us, is aligned with Syria. … Now we’re backing rebels against Syria, and we have no idea who these people are.”  Even if Trump goes ahead with his threat to cut off aid to Syrian rebels fighting the Assad regime – especially those supported by a covert CIA program which provides training and anti-tank missiles – the president-elect will face another major test of his Syria policy soon after he’s inaugurated on Jan. 20. The United States is supporting two military campaigns simultaneously in Syria: one against Assad’s government and the other against Islamic State. Trump has made clear that he doesn’t view the fight against Assad as a U.S. priority. But will Trump continue a separate Pentagon support and training program for the Syrian Democratic Forces, a coalition of rebel groups, which is leading a ground offensive to oust Islamic State from the city of Raqqa, capital of its self-proclaimed caliphate?  That campaign started on Nov. 6 with a mobilization of about 30,000 rebels to encircle Raqqa and cut it off from all sides, to deny Islamic State the ability to resupply weapons and fighters. The battle to push the jihadists out of Raqqa could take months. If it falters under a fledging Trump administration, Islamic State would have a safe base from which it would unleash new attacks in Syria and Iraq, and against the West.  U.S. military planners pushed for the Raqqa offensive to start soon after the long-awaited invasion to recapture Iraq’s second-largest city, Mosul, from the militants began in mid-October. Pentagon officials say they fear that Islamic State operatives, including some who fled the Mosul offensive, will use Raqqa to plot attacks against Western targets. “There’s a sense of urgency about what we have to do here because we’re just not sure what they’re [jihadists] up to, and where, and when,” the top U.S. military commander in Iraq, Lt. General Stephen Townsend, said at a news conference on Oct. 26\\xa0 in Baghdad. “But we know that this plot planning is emanating from Raqqa.”  Trump says he wants to avoid direct U.S. involvement in the Syrian conflict, which has expanded into a regional proxy war. Russia and Iran, along with allied militias like Lebanon’s Hezbollah, are helping Assad consolidate control and recapture territory he lost to the rebels and jihadist groups. Assad and his backers have rarely fought directly against Islamic State, which controls Raqqa and other parts of eastern Syria. Turkey, Saudi Arabia, Qatar and the United States are backing various rebel factions that are fighting Assad and his allies, and, at times, Islamic State.  Under Barack Obama’s administration, the CIA has funneled up to $1 billion a year in weapons, including light arms, ammunition and anti-tank missiles, to Syrian rebel groups fighting the Assad regime that were deemed moderate by U.S. officials. But some of these rebels have been forced into battlefield alliances with jihadists, including al Qaeda affiliated groups.  While the offensive against Islamic State in Raqqa began in the waning days of the Obama administration, it needs support from the incoming Trump administration to bear fruit. But the Raqqa operation is already alienating American allies, especially Turkey, which is critical of the Syrian Democratic Forces. The SDF is a coalition of Kurdish, Sunni Arab, Christian and Turkmen rebel groups that is anchored by the People’s Protection Units (known by its Kurdish acronym, YPG), which includes thousands of Syrian Kurdish fighters.  Turkish leaders view the YPG and other Syrian Kurdish groups as allies of the Kurdistan Workers’ Party (known as the PKK), which has waged an insurgency against the Turkish government since the 1980s, seeking autonomy for Kurdish areas. Turkish President Recep Tayyip\\xa0Erdogan insists that Washington must not allow the YPG to take a leading role in expelling Islamic State from Raqqa, a largely Sunni Arab city.  During the presidential campaign, Trump argued the United States should arm and help Kurdish factions, both in Iraq and Syria. “I’m a big fan of the Kurdish forces,” he said in July. If Trump follows through on his praise of the Kurds, that would be good news for the SDF and its largest militia, the YPG.  But once in office, Trump would also have to balance the objections of allies like Turkey and Erdogan, its increasingly autocratic president. Among his first top appointments, Trump named Michael Flynn, a retired general and former head of the Defense Intelligence Agency, as his national security adviser. Flynn, who once worked as a paid lobbyist for a prominent Turkish businessman, has expressed strong support for Erdogan’s government and argued that Washington should be more sympathetic to its concerns.  In late August, Turkey sent several hundred of its special forces into Syria, and began carrying out air strikes to help rebel factions allied with Ankara consolidate control of territory near the Turkish-Syrian border. The Turkish-backed rebels have fought both Islamic State jihadists and occasionally the U.S.-backed YPG militia.  In October, Erdogan said he told Obama in a phone call that Turkey was capable of ousting Islamic State from Raqqa on its own. Other Turkish officials argued that the campaign to retake Raqqa should not begin until Iraqi forces complete their offensive against Islamic State in Mosul, which has slowed in recent weeks.  But U.S. officials are keen to isolate Raqqa and use Syrian forces to encircle it, mainly because of worries about Islamic State operatives fleeing from Mosul and plotting new attacks against the West. That concern is genuine because the jihadist group – even as it was weakened over the past year, after intensive U.S.-led bombing and defeats by its opponents in Iraq and Syria – has shown a significant ability to adapt and inflict new terror.  In the coming months, Islamic State will find new ways to endure an American-orchestrated offensive on Raqqa. It will try to take advantage of the change in U.S. administration. And once he’s in office, Trump will discover that fighting and containing Islamic State inevitably means wading into Syria’s complicated war.  ']\n",
            "['CHARLOTTE, North Carolina - Donald Trump’s promise to revive small town America faces a tough challenge in an economy that for decades has been wired to direct income and opportunities toward urban hubs and the better educated. Little in the president-elect’s so far sketchy economic plans indicates the trend can be reversed any time soon, according to interviews with experts on income inequality and  recent occupational trends. The manufacturing jobs Trump pledges to bring back have disappeared as much because of automation as the trade deals he has promised to rewrite, and that process will only continue. A promised infrastructure revamp would boost middle wage jobs but for only as long as the programs last, economists point out. During President Barack Obama’s eight years in office incomes for the best off continued to diverge, despite nearly 10 million new jobs and recent strength in those paying middle-tier wages. On a pre-tax basis, the share of income to the top fifth of households increased from 50.4 percent to 51.4 percent between 2008 and 2015 at the expense of all the others, according to census estimates. (Graphic:tmsnrt.rs/2elimH2) Without the sort of tax and redistribution policies Republicans have traditionally opposed, Trump may struggle to make good on his promise to help those left behind in the global economy, economists who study inequality trends say.  “We have 30 to 40 years to catch up on...Lots of money has gone to the top and to change that is going to be a long and slow process,” said David Madland, a senior fellow at the Center for American Progress, a think tank with close ties to Democratic nominee Hillary Clinton’s campaign.  Trump campaigned promising to shake up a Washington establishment he argued was responsible for destroying middle class jobs with bad trade deals. The message hit home across rural America and mid-sized cities, where voters felt they missed out on the fruits of the seven-year economic recovery that big cities may have enjoyed. Charlotte has been growing fast as a financial hub that attracts college educated talent from around the country, and Democratic nominee Hillary Clinton did better there than Obama did in 2012, handily beating Trump by 137,000 votes. But in the state’s textile and furniture belt just northwest from here, Trump’s promise of economic renewal and anxieties of a shrinking white majority more than offset Clinton’s urban victory, giving him 76 out of 100 North Carolina’s counties. The Catawaba County region, one of the nation’s hardest-hit by cheap imports from China, now has a more diverse economy and even the furniture industry has begun adding jobs. But many still live in poverty and rely on disability and social services for support. “The trade argument was as prominent as any. That is certainly the bet that the Trump campaign has made,” said      John Dinan, a political scientist at Wake Forest University. Trump has not highlighted income inequality the way Clinton did, but to help low-wage industries such as textiles or offer a “new deal” for blacks, he would need to tackle the income gap. Recent data show how hard it may be if Trump relies on economic growth alone: Despite a record jump in household income and a continued surge in middle wage jobs nationally, the effect on income inequality was “statistically insignificant” according to census estimates. Under Obama, after tax income for the bottom fifth of households did increase by about 18 percent, or $2,200, according to a recent Council of Economic Advisers study. But that was made possible by higher taxes on the wealthy, more benefits for the poor and, in large part, by an estimated $1,900 gain from health coverage extended under the Affordable Care Act. Trump has vowed to roll Obamacare back. Instead, Trump has proposed to strike better trade deals and offered a familiar Republican recipe - tax cuts for businesses meant to spur investment and jobs. He has been ambiguous about a possible increase in the federal minimum wage typically opposed by Republicans, but advocated by many economists as a way to help the disenfranchised workers Trump focused on in his campaign. Economists say that even if economic growth accelerates under Trump, it may not do much to counter the downward pressures on wages and middle income jobs from automation, technology and other longstanding trends. Brookings Institution senior fellow Isabel V. Sawhill said researchers on inequality agree on one point: it is hard to move the needle. “Even when you distribute all of the dividends from growth in a progressive fashion you don’t change things very much,” Sawhill said. “You shift things at the margin.”  (Correct paragraph 2 to remove extraneous word.) ']\n",
            "['LAS VEGAS - As Republican presidential nominee Donald Trump prepared to go head-to-head with Democratic rival Hillary Clinton in their third and final debate in Las Vegas on Wednesday, hundreds of hospitality workers and protesters gathered outside the hotel Trump co-owns near the Las Vegas Strip.  Demonstrators waved signs and banners next to what organizers called a “wall” of taco trucks. That was a reference to Trump’s proposal to build a wall on the U.S. border with Mexico, as well as a riff on comments by Trump supporter Marco Gutierrez who said that without action on immigration reform, “You’re going to have taco trucks on every corner.” “We have fought for our rights and we don’t want Donald Trump to take them away from us,” said Las Vegas resident Miguel Faria. “If this man gets the presidency then everything will be ruined.”  Several protesters wore sashes printed with the phrases “Miss Piggy” and “Miss Housekeeping,” using the names that Clinton has said Trump called a former beauty queen who had gained weight and who was Latina. The protest was organized by the Culinary Union, which represents about 57,000 workers in Nevada, the majority of whom are Latino. Luis Hernandez, a musician with the norteño band “Los Tigres del Norte,” encouraged Latino voters to head to the polls on Nov. 8.  “We can’t just go on hoping someone will vote on our behalf,” he told Reuters. “We need to go out and vote because the Hispanic vote is going to make the difference in these elections.” Among the speakers at the protest was civil rights leader the Rev. Jesse Jackson, who said he hoped the candidates would stick to policies at Wednesday’s debate, instead of attacking each other. “We all as Americans live under one big tent. Hillary represents that higher ground. I hope that tonight they will not wallow in snake politics but will fly like eagles and take us all to higher ground,” Jackson told Reuters.  According to Bethany Khan, the Culinary Union’s communications director, workers at the Trump International Hotel voted to unionize in December 2015 but still do not have a contract.  Some protesters blamed that on Trump, who owns 50 percent of the property.  “He says he’s the greatest negotiator but he’s not coming to the table to support the workers that give him money and make a profit for him,” said Maria Teresa Liedermann. ']\n",
            "['After going through a week reminiscent of Napoleon’s at Waterloo, Republican presidential nominee Donald Trump will likely claim that Indiana Governor Mike Pence’s performance in Tuesday’s vice-presidential debate gave a boost to their campaign.  That would be overstating it.  The debate probably changed few votes in the 2016 presidential election. The question is whether it will change any votes in the 2020 contest.  In this year’s race, the debate was something of a wash. Virginia Senator Tim Kaine, the Democratic vice-presidential nominee, came across like an over-caffeinated prosecutorial chipmunk – interrupting at every occasion. And at moments that weren’t occasions at all.  A gentle soul who’s uncomfortable in the attack-dog role that the Clinton campaign has assigned him, Kaine plainly overcompensated by piping up whenever Pence sought to evade debate moderator Elaine Quijano’s questions.  And because Pence spent the evening evading, Kaine spent the evening interrupting. Though at the start, the interruptions actually preceded the evasions, and often interrupted Quijano’s interjections as well.  Pence surely had the better podium manner (no great achievement), even if his response to all Kaine’s and Quijano’s questions about the true man of the hour – Trump – was to change the subject. Or, if pressed, to deny that Trump had said what, in fact, Trump had said.  When the 10-second clips are aired and re-aired, Kaine’s attacks on Trump and Pence’s non-responses will redound mildly to Clinton’s advantage.  But what does the debate tell us about the future of both parties? Pence was surely playing to the GOP’s religious right on Tuesday, with his anti-choice religiosity.  In that sense, he was trying to supplant Texas Senator Ted Cruz as the Holy Rollers’ favorite son in the 2020 Republican primaries. (I’m assuming, of course, that Trump will not be running for his second term.)  Pence would bring some clear advantages to this contest. Unlike Cruz, Pence didn’t desert the party’s nominee (though Cruz came slinking back last week and finally endorsed Trump). Pence hasn’t waged a scorched-earth war against the Republican leadership. He doesn’t bear a disquieting resemblance to Bela Lugosi. For all these reasons, Pence will likely be the religious right’s candidate to take on President Hillary Clinton in 2020.  Should Pence become the nominee, however, the GOP standard-bearer would likely only widen the already-yawning gap between Republicans and a majority of the American electorate. The affirmation of traditional right-wing positions that Pence delivered last night – against progressive taxation and all regulation, against a woman’s right to choose – would yield the party precious little support among millennials, who will be by far the largest age group in the 2020 electorate.  As for Kaine, it’s hard to think of any wing of the Democratic Party that would flock to him as a future standard bearer after last night’s gravitas-free performance. It’s increasingly unclear why Clinton chose him to be her running mate, because that apparently meant miscasting him as her surrogate Trump-attacker.  In both his convention speech and his debate performance, Kaine has shown himself not up to the task. Some alternatives to Kaine – Labor Secretary Tom Perez comes to mind – would clearly have been better suited to the role. Perez would also have been better suited to help Clinton win more support from the one constituency that she most needs to do better: millennials. Many still don’t see Clinton as signifying any change or embodying the values that Vermont Senator Bernie Sanders championed.  Kaine is a man of many virtues, and certainly could step into the presidency if he had to. But as a candidate and as a politician able to speak to younger voters and the Sanderistas – that is, the future of the Democratic Party – he’s been distinctly underwhelming.  Meanwhile, Quijano jumped around, one topic to another, almost as manically as Kaine. Moderating is no easy job, but it must be said that Quijano shaped an uncommonly disjointed evening.  More important,, both her questions on the economy – still the American public’s No. 1 concern – focused on the debt and balancing the budget. At a time when the disabling effects of economic inequality and the need for greater public investment in infrastructure are belatedly receiving the recognition they deserve – and when the candidates’ differences on these and other economic issues are vast – the size of the debt was hardly the topic on which the public needed to hear from the candidates.  Between Quijano’s topic-hopping, Kaine’s interruptions and Pence’s evasions, the debate flashed by as cacophonously and at times as incomprehensibly as a game of pinball.  Despite all the clamor, it was resoundingly clear by evening’s end that Kaine is not the Democrats’ future leader, and Pence, while he could be the Republicans’, is not likely to be America’s.  ']\n",
            "['The following timeline charts the origin and spread of the Zika virus from its discovery nearly 70 years ago: 1947: Scientists researching yellow fever in Uganda’s Zika Forest identify the virus in a rhesus monkey 1948: Virus recovered from Aedes africanus mosquito in Zika Forest 1952: First human cases detected in Uganda and Tanzania 1960s-80s: Zika detected in mosquitoes and monkeys across equatorial Africa 1960s–80s: Zika found in equatorial Asia, including India, Indonesia, Malaysia and Pakistan 2007: Zika spreads from Africa and Asia, first large outbreak on Pacific island of Yap 2012: Researchers identify two distinct lineages of the virus, African and Asian 2013–14: Zika outbreaks in French Polynesia, Easter Island, the Cook Islands and New Caledonia. Retrospective analysis shows possible link to birth defects and severe neurological complications in babies in French Polynesia March 2, 2015: Brazil reports illness characterized by skin rash in northeastern states July 17: Brazil reports detection of neurological disorders in newborns associated with history of infection Oct. 22: Colombia confirms cases of Zika Oct. 30: Brazil reports increase in microcephaly, abnormally small heads, among newborns Nov. 11: Brazil declares public health emergency  November 2015-January 2016: Cases reported in Suriname, Panama, El Salvador, Mexico, Guatemala, Paraguay, Venezuela, French Guiana,  Martinique, Puerto Rico, Guyana, Ecuador, Barbados, Bolivia, Dominican Republic, Nicaragua, Curacao, Jamaica Feb. 1: World Health Organization (WHO) declares public health emergency of international concern Feb. 2: First case of Zika transmission in United States; local health officials say likely contracted through sex, not mosquito bite Feb. 5: U.S. Centers for Disease Control and Prevention says virus being actively transmitted in 30 countries, mostly in the Americas Feb. 8: U.S. President Barack Obama requests $1.9 billion to fight Zika Feb. 18: CDC adds Aruba and Bonaire to countries and territories with active outbreaks, bringing total to 32 Feb. 23: CDC adds Trinidad and Tobago and Marshall Islands to countries and territories with active outbreaks, bringing total to 34 Feb. 25: Brazil says confirmed microcephaly cases number more than 580 and considers most of them to be related to Zika infections in the mothers, with an additional 4,100 suspected cases of microcephaly Feb. 27: France detects first sexually transmitted case of Zika  March 8: WHO advises pregnant women to avoid areas with Zika outbreak and said sexual transmission of the virus is “relatively common” March 19: CDC adds Cuba to countries and territories with active outbreaks, bringing total to 38 March 22: CDC adds Dominica to countries and territories with active outbreaks, bringing total to 39 March 31: The World Health Organization says there is a strong scientific consensus that Zika can cause the birth defect microcephaly as well as Guillain-Barre syndrome, a rare neurological disorder that can result in paralysis, though conclusive proof may take months or years  April 1: CDC adds Kosrae, Federated States of Micronesia to countries and territories with active outbreaks, bringing total to 40 April 4: CDC adds Fiji to countries and territories with active outbreaks, bringing total to 41 April 13: The CDC concludes that infection with the Zika virus in pregnant women is a cause of the birth defect microcephaly and other severe brain abnormalities in babies. CDC adds St. Lucia to countries and territories with active outbreaks, bringing total to 42 April 18: CDC adds Belize to countries and territories with active outbreaks, bringing total to 43 April 25: Canada confirms first sexually transmitted Zika case April 29: Puerto Rico reports first death related to Zika, according to the CDC. The island territory also confirms 683 Zika cases, including 65 pregnant women, and five suspected cases of Guillain-Barre syndrome from Zika May 4: Panama confirms four microcephaly cases tied to Zika May 6: Spain has first case of Zika-related brain defect in a fetus       May 9: CDC adds Papua New Guinea, Saint Barthelemy and Peru to countries and territories with active outbreaks, bringing total to 46 May 12: CDC adds Grenada to countries and territories with active outbreaks, bringing total to 47 May 13: Puerto Rico reports first case of Zika-related microcephaly May 20: WHO says an outbreak of Zika virus on the African island chain of Cape Verde is of the same strain as the one blamed for birth abnormalities in Brazil May 26: CDC adds Argentina to countries and territories with active outbreaks, bringing total to 48 June 9: WHO updates guidelines on prevention of sexual transmission of the Zika virus, including advising women living in areas where the virus is being transmitted to delay getting pregnant June 14: El Salvador confirms first case of microcephaly linked to Zika June 30: CDC adds Anguilla to countries and territories with active outbreaks, bringing total to 49  July 8: CDC confirms a Utah resident’s death from the previous month is the first Zika-related death in the continental United States July 14: CDC adds Saint Eustatius to countries and territories with active outbreaks, bringing total to 50 July 15: New York City’s health department reports the first female-to-male transmission of the Zika virus. July 18: CDC reports the caregiver of Utah man who died of Zika tested positive for virus, raising questions about its spread July 19: Florida health officials investigate a case of Zika virus infection that may have been caused by local mosquito bite July 22: New York City health officials reports first baby born with Zika-related birth defect July 25: Spain reports first case in Europe of baby born with Zika-related defect; CDC issues updated recommendations for preventing and testing for Zika infection, warning that the virus can be transmitted through unprotected sex with an infected female partner July 26: Honduras detects 8 cases of babies with Zika-related defect; CDC adds Saba to countries and territories with active outbreaks with total at 51 July 27: Paraguay reports first cases of microcephaly linked to Zika July 29: Florida authorities report what is believed to be the first evidence of local Zika transmission in the continental United States Aug. 2: CDC adds Antigua, Barbuda, and Turks and Caicos to countries and territories with active outbreaks, bringing total to 54 Aug. 3: U.S. researchers said they launched Zika vaccine clinical trial Aug. 11: CDC adds Cayman Islands to countries and territories with active outbreaks, bringing total to 55 Aug. 12: The U.S. Department of Health and Human Services declares a public health emergency in Puerto Rico over Zika with 10,690 laboratory-confirmed cases Aug. 13: Brazil reports 1,835 confirmed cases of microcephaly Aug. 16: Haiti reports first case of microcephaly linked to Zika Aug. 17: Guatemala confirms first case of newborn with microcephaly linked to Zika Aug. 19: Florida governor says five cases of Zika are believed to have been contracted in Miami Beach, the second area in Miami-Dade county where the virus is spreading. Aug. 25: CDC adds The Bahamas and the United States to countries and territories with active outbreaks, bringing total to 57 Aug. 26: FDA recommends that all blood donated in the United States and its territories be tested for Zika virus, starting with 11 states in the first phase; Nicaragua confirms first microcephaly birth linked to Zika Aug. 27-29: Singapore confirms first case of locally transmitted Zika virus, which rise to 56 cases two days later Aug. 30: Confirmed cases in Singapore rise to 82, with some of the latest infections detected beyond the area of initial outbreak. Several countries advise pregnant women or those trying to conceive to avoid traveling to the city-state. Australia, Taiwan, South Korea and the United States issue travel warnings Aug. 31: CDC adds Singapore and the British Virgin Islands to countries and territories with active outbreaks, bringing tally to 58 (The CDC groups together Antigua and Barbuda in its updated official count) Sept. 3: Malaysia detects first case of locally transmitted Zika Sept. 5: Philippines confirms first case of Zika virus likely to have been transmitted locally Sept. 6: Florida confirms 56 locally transmitted cases, 577 travel-related infections, and 80 infections involving pregnant women Sept. 8: Singapore reports 283 cases of locally transmitted Zika virus Sept. 10: Singapore locally transmitted Zika cases rise to 329 SOURCES: World Health Organization, U.S. Centers for Disease Control and Prevention, Reuters ']\n",
            "['Global health officials are racing to better understand the Zika virus behind a major outbreak that began in Brazil last year and has spread to almost 60 countries.  The following are some questions and answers about the virus and current outbreak: How do people become infected? Zika is transmitted to people through the bite of infected female mosquitoes, primarily the Aedes aegypti mosquito, the same type that spreads dengue, chikungunya and yellow fever. The Pan American Health Organization (PAHO) said Aedes aegypti mosquitoes are found in all countries in the Americas except Canada and continental Chile, and the virus will likely reach all countries and territories of the region where Aedes mosquitoes are found. The virus can also be transmitted through sex, from either a male or female partner who has been infected, and a few cases of apparent infection via blood transfusion have been reported. How do you treat Zika? There is no treatment or vaccine for Zika infection. Companies and scientists are racing to develop a safe and effective vaccine for Zika, but a preventative shot is not expected to be ready for widespread use for at least two or three years. How dangerous is it? The U.S. Centers for Disease Control and Prevention concluded that infection with the Zika virus in pregnant women is a cause of the birth defect microcephaly, a condition defined by unusually small heads that can result in developmental problems, and other severe brain abnormalities in babies. The CDC said that since the causal relationship had been established, several important questions must still be answered with studies that could take years. The World Health Organization in an updated assessment said the “most likely explanation” is that Zika virus infection during pregnancy is a cause of congenital brain abnormalities including microcephaly. In addition, the agency said infection is a trigger of Guillain-Barre syndrome (GBS), a rare neurological disorder that can result in paralysis. The update from the WHO came after considering months of research. Its previous statement, based on a rapid assessment of evidence, said there was strong scientific consensus that Zika virus caused GBS, microcephaly and other neurological disorders. Brazil recently reported 1,835 confirmed cases of microcephaly believed to be linked to Zika infections in pregnant women. It is investigating more than 3,200 suspected cases of microcephaly. Current research indicates the greatest microcephaly risk is associated with infection during the first trimester of pregnancy, but health officials have warned an impact could be seen in later weeks. Recent studies have shown evidence of Zika in amniotic fluid, placenta and fetal brain tissue. What are the symptoms of Zika infection?     People infected with Zika may have a mild fever, skin rash, conjunctivitis, muscle and joint pain and fatigue that can last for two to seven days. But as many as 80 percent of people infected never develop symptoms. How can Zika be contained? Efforts to control the spread of the virus focus on eliminating mosquito breeding sites and taking precautions against mosquito bites such as using insect repellent and mosquito nets. U.S. and international health officials have advised pregnant women to avoid travel to Latin American and Caribbean countries, sections of Miami, Florida in the United States and Singapore where they may be exposed to Zika. They are also advising that men and women who have traveled to Zika outbreak areas use condoms or abstain from sex for six months to prevent sexual transmission of the virus. How widespread is the outbreak? Active Zika outbreaks have been reported in at least 58 countries or territories, most of them in the Americas, according to the U.S. Centers for Disease Control and Prevention (CDC). Brazil has been the country most affected. (1.usa.gov/1ovAJyh) Africa (1): Cape Verde  Americas (48): Anguilla, Antigua and Barbuda, Argentina, Aruba, The Bahamas, Barbados, Belize, Bolivia, Bonaire, Brazil, British Virgin Islands, Cayman Islands, Colombia, Costa Rica, Cuba, Curaçao, Dominica, Dominican Republic, Ecuador, El Salvador, French Guiana, Grenada, Guadeloupe, Guatemala, Guyana, Haiti, Honduras, Jamaica, Martinique, Mexico, Nicaragua, Panama, Paraguay, Peru, Saba, Puerto Rico, Saint Barthelmy, Saint Lucia, Saint Martin, Saint Vincent and the Grenadines, Saint Eustatius, St. Maarten, Suriname, Trinidad and Tobago, Turks and Caicos, United States, U.S. Virgin Islands and Venezuela. Asia (1): Singapore Oceania/Pacific Islands (8): American Samoa, Fiji, Kosrae, Federated States of Micronesia, Marshall Islands, New Caledonia, Papua New Guinea, Samoa and Tonga.  What is the history of the Zika virus? The Zika virus is found in tropical locales with large mosquito populations. Outbreaks of Zika have been recorded in Africa, the Americas, Southern Asia and the Western Pacific. The virus was first identified in Uganda in 1947 in rhesus monkeys and was first identified in people in 1952 in Uganda and Tanzania, according to the WHO.  What other complications are associated with Zika? Zika has also been associated with other neurological disorders, including serious brain and spinal cord infections. The long-term health consequences of Zika infection are unclear. Other uncertainties surround the incubation period of the virus and how Zika interacts with other viruses that are transmitted by mosquitoes, such as dengue. ']\n",
            "['U.S. President Barack\\xa0Obama\\xa0visited a street market in Luang Prabang on Wednesday (September 7), where he greeted residents and tasted fresh\\xa0coconut. He walked near the river of Mekong where women sell\\xa0coconut\\xa0drinks and tasted the local refreshment, posing for photographs and conversing with locals. Obama\\xa0arrived in Laos Tuesday morning (September 6), becoming the first sitting U.S. president to visit landlocked Laos, where the United States waged a “secret war” while fighting in Vietnam, dropping an estimated two million tonnes of bombs on the country. Obama’s visit follows his attendance at the G20 summit in the Chinese city of Hangzhou. He is also due to attend an annual international gathering in the Southeast Asian region.']\n",
            "['ALGONAC, MICH.—Parker Fox drifted out of the Donald Trump rally in a sort of euphoric daze, along with the thousands emptying into the parking lot alongside him. “After leaving a Trump rally, you’re very pro-Trump,” he recalled a few weeks later, describing a noisy communion with people who understood that politics mattered, unlike some people he could name at his high school. “It was so enthusiastic and so energetic you could feel it in your body. It gave you chills.” He’d barely had time to calm down when he learned through Facebook that his other favorite presidential candidate would also be passing through his quiet corner of eastern Michigan—Bernie Sanders. In fact, the U.S. senator from Vermont would be at the same community college the very next day. This thrilled Fox: his first presidential election as a voter—he was 18—and the two most crowd-whipping, pundit-defying, establishment-bucking candidates in the entire race were practically paying him personal visits.  As it turned out, the residents of this part of Michigan were especially fond of the two men who had done the most to upend the 2016 presidential race. Both Sanders and Trump won the state, with Sanders’ narrow win in the Democratic contest stupefying pollsters who had predicted a comfortable lead for Hillary Clinton. Both did especially well in St. Clair County, with double-digit victories over their rivals. And, down at the precinct level, they barnstormed Algonac, a town of about 4,056 people about an hour’s drive from Detroit on a curve of the St. Clair River in the county’s southern end corner, and neighboring Clay, home to another 9,066 or so, including Fox and his family. In some Algonac and Clay precincts, Sanders and Trump won more than two thirds of the votes. Residents have a needlessly unflattering nickname for Algonac: The Swamp, derived, apparently, from the reed marshes that engulf the town’s edges and which are prettily dive-bombed by feeding birds and buzz with hidden insects. If Sanders and Trump were the two insurgents of 2016, then the Algonac Swamp must be a sort of encampment of their guerrilla foot soldiers. What might such a place be like, down in the trenches? An editor’s working hypothesis was that a town full of Trump and Sanders fans might turn out to be the Angriest Town in America, and so that became our shorthand before my visit in April, only to be laughed at when I finally got the chance to broach the label with residents.   Of course, no one can persist in a permanent state of anger, especially in an entire town. Contempt, on the other hand, can smolder indefinitely, and Algonac reeked of contempt: It would take longer than a week’s visit to find someone here who does not think Washington is, on the whole, a besmirched place of selfish politicians in thrall to the powerful moneyed interests who keep them in office. Clinton, fairly or otherwise, is generally seen here as the very embodiment of this; Sanders and Trump the only possible saviors, Trump because he’s never held elected office, and Sanders, despite his decades in Congress, because he is still viewed as a cranky outsider. Nonetheless, for a small minority, the idea of a President Trump sends them into a panic.  Fox is young enough to have never had his heart broken by a politician, but he’s heard his father, Jerry, go off at the dinner table enough times to pick up some of his parents’ wariness. “He might get a lot of this because I work for the auto industry,” said Jerry, who has a job at a nearby Chrysler truck factory and is a competitive walleye fisherman on the side. Father and son were sitting on couches in the family’s comfy living room, with large windows looking out onto surrounding woods where deer and turkeys roam. Jerry had also been struggling over whether he preferred Trump or Sanders, and so had decided to let his politics-inhaling son make the call for him. “I’ve always heard dad saying, you know, ‘There goes another plant to Mexico,’” Fox said, doing an angry-dad voice, as Jerry gave a smiling “it’s true” nod of recognition. And so Fox marveled to hear Trump lambast companies for moving production abroad, or Sanders’ refrain that 60,000 factories have closed down in America since 2001. The rallies were like a Fox family dinner blown up to stadium size. COMPASSION VERSUS WALL-BUILDING Should either candidate want to make a movie adaptation of their campaign speeches, they could do worse than to set it in Algonac and Clay: A few strip-mall businesses and a scattering of mostly two-story, middle-class homes, none too far from the teal waters of the St. Clair River, along which massive freighters creep carrying goods to and from Canada. To wander around Algonac, a predominantly Republican place, is to encounter familiar stump-speech lines made manifest. There’s the town’s old Chris-Craft power boat factory that made Algonac a proud little manufacturing hub until it closed in 1960, a hole that’s never quite been filled or forgotten. Algonac falls within the gravitational pull of Detroit’s Big Three automobile companies; the factories of General Motors, Ford and Fiat Chrysler are major employers, and families’ fortunes are tied to international trade deals that both Trump and Sanders deride. Ford, in particular, has come under attack from Trump for expanding its manufacturing in Mexico. The only other language besides English on the signs at the nearest major airport, Detroit Metropolitan, is Japanese, viewed by some residents as an unnecessary concession to visiting Japanese automobile executives. When talk turns to immigration—Sanders in terms of compassion, Trump in terms of wall-building—people here are reminded of the U.S. Border Patrol officers they see boating up and down the Canadian border, which floats somewhere halfway across the St. Clair River. Both candidates decry what they say is the undue influence of American billionaires on politics. In Algonac, they tend to picture Manuel Moroun, a Detroit businessman, in the local version of this role. He proposed building a bridge that was widely opposed here, connecting the mainland to Harsens Island, a peaceful outpost of Clay Township, home to about 1,200 people and a couple of bald eagles and currently accessible only by a small, 12-car ferry. Regulators denied the $45 million plan in June. In some ways, voters have changed little since the 1980s, when pollster Stan Greenberg first visited neighboring Macomb County and announced that he had discovered the Reagan Democrat. The belief persists that the system is so rigged that politicians’ largesse only flows to those much richer than you, or much poorer, leaving you to struggle unaided. The difference this time—and everyone agrees it’s different this time—is that there were two viable-seeming chances to send a man to Washington who would be the very personification of your contempt. Some were voting for Trump only in his capacity as a stink bomb. “You guys know the story, I’m sure, of Jesus Christ in the temple, when he goes into the temple and he turns everything upside down,” said Jay DeBoyer, the only person dressed in a suit on a weekday afternoon in Johnnie Lega’s, a popular riverside Algonac dive bar filled with nautical-themed clutter. He worked behind the bar years ago when he was a student before becoming a salesman for a company that made trusses and other lumber products for the home-building industry. Now DeBoyer is the county clerk, whose job includes running elections here. He has a close-shaved head and silver goatee, his suit fits well, and he speaks in neat paragraphs of political analysis. He was evoking a rare moment in the Gospels, in which the normally sanguine Christ appears to get angry at the corrupting quality of money, as he explained why the county’s primary results were more or less as he anticipated. “Now, we can argue from a Christian perspective, was that Christ-like? We can have that debate, that discussion. But for every circumstance there’s a reaction and there’s a resolution.” In his analogy, Christ was Trump, but Sanders, too, and also, in a sense, the voters themselves, newly awakened at the possibility of disruption. “In these non-engaged individuals who are becoming engaged, they want him to go into the temple and turn the tables upside down,” DeBoyer said. “That means we need to shake it up. We need to come back to the people in control.” In DeBoyer’s view, this may be the first election in which the so-called culture wars will not prove decisive. DeBoyer is a Republican, though he declined to say for whom he voted. He’s pro-gun and opposes abortion, but is unfazed, for example, by Trump’s difficulty in stating what his policy on abortion access would be. Most Trump voters he knows don’t care if they only agree with “two in 10 things” that Trump says, according to DeBoyer. They just want a change. He described his family’s finances to explain why. “I don’t have a bunch of debt. I have a mortgage and a couple of car payments. I don’t have a pension; I have to save in a 401k like everyone else. It’s impossible for me to save enough money to pay for my kids to go to college.” He has a 13-year-old son and a 17-year-old daughter, who is applying to Duke. “Mathematically impossible. I live in a $125,000 house, I drive a Dodge pick-up truck and a Jeep, I don’t have any credit card debt. None of that. And it’s mathematically impossible for me to save enough for retirement and enough to send my kids to college. Household income of $100,000, with no debt. Do you understand how a person in my exact financial category gets sucked into that world, between those two? If I tend to lean to the left, I’m all in with Bernie Sanders. If I tend to lean right, I’m all in with Donald Trump. Frankly, even if he’s wrong, what he’s saying are the only options I have, the only hope I got.” Leaving Johnnie Lega’s to head into Algonac proper, you pass by the taxidermy store of Paul Burczycki—a Trump supporter with qualms. He is angry with the government not least because his insurance payments went up with the passage of the Affordable Care Act. “Trump’s a tough guy to vote for,” he said. “He’s a loose cannon. Maybe that’s all part of his master plan.” Further down the road, on the right, there’s Peter Beauregard’s Algonac Harbour Club on the right, a marina and restaurant on the spot of the old Chris-Craft factory.  He’s a Trump fan, too. “I’m a lifetime Republican who has been disenchanted like, I guess, a lot of people in our town, so I’m definitely for the outsider,” Beauregard said, “and I’ve upset several of my local colleagues who are Republicans. If you’re a Republican you either love him or you hate him. There’s nobody on the fence.” Life here revolves around the water. Almost as many driveways are graced by boats as cars. Garfield Wood, a pioneering boat builder and racer who once lived in Algonac, broke the water speed record in 1932, tearing along the St. Clair in a boat powered by airplane engines at 124.86 miles per hour. Chris-Craft made a landing craft used by the U.S. military in the D-Day invasion at Normandy, as well as mahogany-hulled powerboats that are still cherished by nostalgic collectors. The Michigan Senate is contemplating a bill that would recognize Clay Township, Algonac’s neighbor, as “the sturgeon angling capital” of the state, and some residents think it will sail through committee. It’s beautiful in the summer, residents say, with people boating in the sunshine and the restaurants busy with seasonal visitors. Nevertheless, multiple residents liked to efface the town using the same little shorthand list, as if they’d all memorized it from the same source: Algonac? It’s three dollar stores, one grocery store, three pharmacies, and that’s about it. About 97 percent of the residents are white, according to the last census, compared to 74 percent for the United States as a whole. Both Trump and Sanders have found their most reliable support among those in this racial group. It is only after several days in Algonac, at the annual American Indian Festival at the local high school, that I find someone willing to say she is a Clinton supporter, if in a limited sense. Ringed by chairs in the school gym, dancers moved to throbbing drums; fox furs, tribal jewelry and dreamcatchers were for sale at stalls around the gym’s edge, many run by members of tribes from Walpole Island, just across the Canadian border. Susan Wrobel, the festival’s organizer and a lifelong Algonac resident, runs a weekly community meeting where she teaches children Anishinaabemowin, the language of her Ojibwe tribe. She said elders there have been “shaking their heads” in wonder and fear that Trump could become president. “I was very pleased whether it was Hillary or Bernie, I actually I like them both,” she said. She had just bought some new earrings, which danced as she spoke. “So I chose the Republican ticket to vote for my favorite Republican, and that was Kasich. I love Kasich. He’s the only one that talked about doing something about the national debt, and I loved that. So I thought, well, the Democratic ticket’s taken care of for me.” Michigan’s primaries are open to all voters regardless of party affiliation, and strategic voting is common. A few days after this conversation, John Kasich, the Ohio governor, would drop out of the race. Once again, it was time for the Algonac-Clay Historical Society’s monthly meeting. Some of the women at the society are particularly interested in the Victorian era and were making final arrangements for a forthcoming talk on Victorian hair fashions. “Hats and tea cups are encouraged,” noted the flyer. Trump struck them as unnecessarily crude. “I don’t like the name calling,” said Marilynn Genaw, who was in charge of ordering the strawberries they’d need for the tea. “It’s good manners not to say something derogatory about an individual.” She was still deciding on how to vote. Joan Bulley, a former Algonac bank teller and the town’s de facto historian-in-residence, could also do without Trump’s brusqueness, but wonders if it points to an underlying virtue. “One thing about Donald Trump is he tells it as it is,” she said. “I don’t care for his rudeness, his insults, but he gets things done.” Sanders, she said, is at least “a little bit more dignified” in his speeches.  She dislikes Clinton. “She doesn’t tell the truth. I don’t like that.” Bulley’s grievance with the federal government is that she has never quite forgiven it for transforming the city’s waterfront under the “urban renewal” push of the 1960s and 1970s. “Urban renewal demolished our town” she said. She pointed to an exhibit in the society’s museum, a little hand-drawn map of the businesses that used to line a walkable, 19th-century main street on the riverfront: Koch’s Jewelry Store, the Starlight Dance Pavilion, the Algonac Theatre. For the most part, those buildings were demolished and replaced with a pleasant, if quiet, boardwalk backed by tidy lawns, and, on the other side, the sort of boxy, parking-lot-fringed architecture that lures chain stores and franchise restaurants. She kept pointing at the exhibits. “This was Henry’s on the corner,” she said, referring to one of her favorite restaurants. “It’s now a parking lot, which is stupid. If they would have saved some of these stores we would at least have something to attract people.” As the historical society meeting breaks up for homemade snacks and cake, I meet Bud Zeigler, 85, who spent 12 years sanding down Chris-Craft powerboats on the assembly line until the factory moved to Florida, taking some of his colleagues with it. Soon after, he ended up as a carpenter making Pontiacs at General Motors down the road, working there for 30 years until retirement. His complaint about the government is that it’s always the same old faces in charge, who never seem to get things done. “I voted for Bernie Sanders,” he said. “I just wanted to break it up a little bit. Because everybody figures this one is favored, that one is favored, well, give the other guy a chance.” He chuckles a bit at this. “Somewhere along the line you’ve got to get somebody in there that maybe can change things a bit with a new thought in their head, without having the same ones always running for office, families running, you know?” Even in late April, there was little doubt that it’d be Clinton versus Trump come November. Trump thinks he can flip Michigan, a state that has reliably gone with theDemocratic presidential candidate for years, to support him. At the Schoolhouse Grille, a buzzing restaurant on Harsens Island, two women stepped outside at the end of the Saturday night dinner rush. Sheltering from the drizzle in an outdoor bar area, the two friends discussed how they would approach the polling booths in November. Kristin Bane, who owns the restaurant and was seeking to escape the kitchen’s heat, is a Democrat who voted for Sanders. She likes Obama not least because she also spent part of her childhood in Hawaii, opposes fracking and thinks the government should spend more on education. Nancy Bryson, who came out for a smoke and whose family runs the island’s ferry service to the mainland, most admires the two presidents Bush. “I enjoy listening to Bernie,” Bryson said. “I do. And I think that there are so many things that he’s saying that I’m, ‘You know what? I agree with you wholeheartedly. But I don’t want the government to tell me that I have to do that. I don’t want to be taxed to do that.’” Bryson argued that Trump would help bring the country back to its founding principle. Bane was unconvinced. “How can we vote for a man who’s proposing to build a wall that we have spent so many years breaking down in other countries?” Bane said as Bryson lit a cigarette.  “My grandfathers and my uncles have died because they were trying to break down walls in other countries so that we could live free—and we want to build one? That’s the wrong message.” “OK, I disagree with you there but I love you,” Bryson replied. Her mother was an immigrant, she explained, arriving at Ellis Island from Copenhagen as a 12-year-old girl. The barriers to immigration are higher than they were in the Ellis Island era, but Bryson said there was still no good reason to immigrate to the United States through anything but the legal channels.  “I’ve been wanting to have this conversation for a long time,” Bane said, without backing down on her point. “It’s good that we can do this and not get angry and stomp our feet about it.” They found common ground in their dislike for Clinton. “And Benghazi?” Bryson said. “I mean it’s just unforgivable what happened there.” “I think she’s a professional liar,” Bane said.“I agree.” Still, for Bane, the idea of having to vote for someone other than Sanders in November left her anguished. “I could say, ‘Oh, you know, change, yes change, I want change, and so Trump is the quickest way to a change in government.’ I could tell myself that hopefully it’s going to work out for the best. But I can’t get past some of these issues like the wall, and I can’t get past some of these issues like abortion. ‘A woman should go to jail.’ What the fuck?” It became apparent that Bryson was not aware that Trump has said he now opposes abortions. This new information was absorbed quickly.  “Oh, he’s going anti?” she said. “Well you know what, here’s the bottom line, he’s just trying to buy the Christian base.” Neither was surprised at how well Sanders and Trump had done in Michigan.”The common ground with them is change,” Bane said. “Anti-establishment,” Bryson said. “Here’s how I feel,” Bane said, in a sort of closing statement. ”I would hope that Bernie would get in at least to in to run against Trump. I have no time for Hillary Clinton. And when it comes down to it I more than likely will not vote for her. And if it comes down to her and Trump, even though I cringe and I think what’s going to happen, I at least will have some hope of some kind of change. Something’s going to shift if he gets in there. Something’s got to give. And at least there would be that hope still attached to him. With her, I almost fear her. I think she’s a dangerous woman. I think she’s an extremely dangerous woman.” Again, she worried about Trump’s wall and his position on abortion. “A painful change is still change.”The two women smiled at each other and hugged and then hurried through the drizzle back into the restaurant. Fox and his parents were approaching November with less trepidation. After attending the Trump and Sanders rallies in quick succession, he made up his mind and informed his parents, who were similarly torn between the two, of his decision. Fox thinks women should be allowed to have abortions and that same-sex couples should be able to marry, views he attributes to his age, and here he felt he parted company with Trump. “I couldn’t find anything with Bernie I disagree about. At all. And that’s the reason. As simple as it gets.” Also, he said, “it seemed like Trump didn’t need my help,” he said, which was part of his father’s thinking, too. They would vote for Trump in November instead. Fox’s mother, Tracy, came in from work and sat down in an armchair opposite her sons; her husband moved to sit at the floor by her feet. The family talked politics for another hour as the room darkened, illuminated only by a muted CNN flashing on the television. “Both of my guys won,” Fox said with satisfaction, “so that’s cool.” This report first appeared in “The American Voter,” Reuters’ special election issue. Download the full magazine from iTunes or Google Play.']\n",
            "['Global health officials are racing to better understand the Zika virus behind a major outbreak that began in Brazil last year and has spread to many countries in the Americas.  The following are some questions and answers about the virus and current outbreak: How do people become infected? Zika is transmitted to people through the bite of infected female mosquitoes, primarily the Aedes aegypti mosquito, the same type that spreads dengue, chikungunya and yellow fever. The Pan American Health Organization (PAHO) said Aedes mosquitoes are found in all countries in the Americas except Canada and continental Chile, and the virus will likely reach all countries and territories of the region where Aedes mosquitoes are found. How do you treat Zika? There is no treatment or vaccine for Zika infection. Companies and scientists are racing to develop a safe and effective vaccine for Zika, but the World Health Organization (WHO) had said early in 2016 that it would take at least 18 months to start large-scale clinical trials of potential preventative shots. A vaccine is not expected to be ready for widespread use for at least two or three years. U.S. government researchers said they started their first clinical trial of a Zika vaccine. How dangerous is it? The U.S. Centers for Disease Control and Prevention concluded that infection with the Zika virus in pregnant women is a cause of the birth defect microcephaly and other severe brain abnormalities in babies. The CDC said now that the causal relationship has been established, several important questions must still be answered with studies that could take years. According to the World Health Organization, there is strong scientific consensus that Zika can cause the birth defect microcephaly in babies, a condition defined by unusually small heads that can result in developmental problems. In addition, the agency said it could cause Guillain-Barre syndrome, a rare neurological disorder that can result in paralysis. Conclusive proof of the damage caused by Zika may take months or years. Brazil reports the number of confirmed cases of microcephaly at more than 1,700 as doctors and Brazilian health officials find that some suspected cases of microcephaly are not the disorder. Suspected ones under investigation had declined to 3,257. Brazil registered 91,387 likely cases of the Zika virus from February until April 2. Current research in Brazil indicates the greatest microcephaly risk is associated with infection during the first trimester of pregnancy, but health officials have warned an impact could be seen in later weeks. Recent studies have shown evidence of Zika in amniotic fluid, placenta and fetal brain tissue. What are the symptoms of Zika infection?     People infected with Zika may have a mild fever, skin rash, conjunctivitis, muscle and joint pain and fatigue that can last for two to seven days. But as many as 80 percent of people infected never develop symptoms. The symptoms are similar to those of dengue or chikungunya, which are transmitted by the same type of mosquito. How can Zika be contained? Efforts to control the spread of the virus focus on eliminating mosquito breeding sites and taking precautions against mosquito bites such as using insect repellent and mosquito nets. U.S. and international health officials have advised pregnant women to avoid travel to Latin American and Caribbean countries where they may be exposed to Zika. How widespread is the outbreak? Active Zika outbreaks have been reported in at least 54 countries or territories, most of them in the Americas, according to the U.S. Centers for Disease Control and Prevention (CDC). Brazil has been the country most affected. (1.usa.gov/1ovAJyh) Africa (1): Cape Verde  Americas (45): Anguilla, Antigua, Argentina, Aruba, Barbados, Barbuda, Belize, Bolivia, Bonaire, Brazil, Colombia, Costa Rica, Cuba, Curaçao, Dominica, Dominican Republic, Ecuador, El Salvador, French Guiana, Grenada, Guadeloupe, Guatemala, Guyana, Haiti, Honduras, Jamaica, Martinique, Mexico, Nicaragua, Panama, Paraguay, Peru, Saba, Puerto Rico, Saint Barthelmy, Saint Lucia, Saint Martin, Saint Vincent and the Grenadines, Saint Eustatius, St. Maarten, Suriname, Trinidad and Tobago, Turks and Cacos, U.S. Virgin Islands and Venezuela. Oceania/Pacific Islands (8): American Samoa, Fiji, Kosrae, Federated States of Micronesia, Marshall Islands, New Caledonia, Papua New Guinea, Samoa, and Tonga.  What is the history of the Zika virus? The Zika virus is found in tropical locales with large mosquito populations. Outbreaks of Zika have been recorded in Africa, the Americas, Southern Asia and the Western Pacific. The virus was first identified in Uganda in 1947 in rhesus monkeys and was first identified in people in 1952 in Uganda and Tanzania, according to the WHO.  Can Zika be transmitted through sexual contact? The World Health Organization (WHO) said sexual transmission is “relatively common” and has advised pregnant women not to travel to areas with ongoing outbreaks of Zika virus. It also  advised women living in areas where the virus is being transmitted to delay getting pregnant. The U.S. CDC is investigating about a dozen cases of possible sexual transmission. Those cases involved possible transmission of the virus from men to their sex partners. But the CDC issued updated recommendations for preventing and testing for Zika infection on July 25, warning that the virus can be transmitted through unprotected sex with an infected female partner. A reported case of female-to-male sexual transmission in New York City, and limited human and non-human primate data indicating that Zika virus RNA can be detected in vaginal secretions, led to the new warning, the agency said. CDC’s expanded warnings on sexual exposure to Zika now  caution against sex without a condom or other barrier method of protection with any person, male or female, who has traveled to or lives in an area with Zika, including female to female transmission with a pregnant partner. British health officials reported Zika was found in a man’s semen two months after he was infected, suggesting the virus may linger in semen long after infection symptoms fade. The PAHO said Zika can be transmitted through blood, but this is an infrequent transmission mechanism. There is no evidence Zika can be transmitted to babies through breast milk. The WHO has identified Zika cases in Argentina, Chile, France, Italy and New Zealand as likely caused by sexual transmission.  What other complications are associated with Zika? Zika has also been associated with other neurological disorders, including serious brain and spinal cord infections. The long-term health consequences of Zika infection are unclear. Other uncertainties surround the incubation period of the virus and how Zika interacts with other viruses that are transmitted by mosquitoes, such as dengue. ']\n",
            "['The following timeline charts the origin and spread of the Zika virus from its discovery nearly 70 years ago: 1947: Scientists researching yellow fever in Uganda’s Zika Forest identify the virus in a rhesus monkey 1948: Virus recovered from Aedes africanus mosquito in Zika Forest 1952: First human cases detected in Uganda and Tanzania 1954: Virus found in Nigeria 1960s-80s: Zika detected in mosquitoes and monkeys across equatorial Africa 1969–83: Zika found in equatorial Asia, including India, Indonesia, Malaysia and Pakistan 2007: Zika spreads from Africa and Asia, first large outbreak on Pacific island of Yap 2012: Researchers identify two distinct lineages of the virus, African and Asian 2013–14: Zika outbreaks in French Polynesia, Easter Island, the Cook Islands and New Caledonia. Retrospective analysis shows possible link to birth defects and severe neurological complications in babies in French Polynesia March 2, 2015: Brazil reports illness characterized by skin rash in northeastern states July 17: Brazil reports detection of neurological disorders in newborns associated with history of infection Oct. 5: Cape Verde has cases of illness with skin rash  Oct. 22: Colombia confirms cases of Zika Oct. 30: Brazil reports increase in microcephaly, abnormally small heads, among newborns Nov. 11: Brazil declares public health emergency  November 2015-January 2016: Cases reported in Suriname, Panama, El Salvador, Mexico, Guatemala, Paraguay, Venezuela, French Guiana,  Martinique, Puerto Rico, Guyana, Ecuador, Barbados, Bolivia, Dominican Republic, Nicaragua, Curacao, Jamaica Feb. 1: World Health Organization (WHO) declares public health emergency of international concern Feb. 2: First case of Zika transmission in United States; local health officials say likely contracted through sex, not mosquito bite Feb. 5: U.S. Centers for Disease Control and Prevention says virus being actively transmitted in 30 countries, mostly in the Americas Feb. 8: U.S. President Barack Obama requests $1.8 billion to fight Zika Feb. 12: Brazil investigating potential link between Zika infections and 4,314 suspected cases of microcephaly. Of those, 462 confirmed as microcephaly and 41 determined to be linked to virus  Feb. 17: Brazil investigating potential link between Zika and 4,443 suspected cases of microcephaly. Of those, 508 confirmed as microcephaly and most of those cases are linked to the virus. WHO seeks $56 million to fight Zika. Feb. 18: CDC adds Aruba and Bonaire to countries and territories with active outbreaks, bringing total to 32. Feb. 23: CDC investigating 14 cases of possible sexual transmission of Zika. CDC also adds Trinidad and Tobago and Marshall Islands to countries and territories with active outbreaks, bringing total to 34. Feb. 25: Brazil says confirmed microcephaly cases number more than 580 and considers most of them to be related to Zika infections in the mothers. Brazil is investigating an additional 4,100 suspected cases of microcephaly. Feb. 27: France detects first sexually transmitted case of Zika.  Feb. 29: CDC adds St. Maarten, and Saint Vincent and the Grenadines to countries and territories with active outbreaks, bringing total to 36. March 1: Brazil says confirmed microcephaly cases rose to 641 and considers most of them to be related to Zika infections in the mothers. Brazil is investigating an additional 4,222 suspected cases of microcephaly. March 8: WHO advises pregnant women to avoid areas with Zika outbreak and said sexual transmission of the virus is “relatively common.” March 9: CDC adds New Caledonia to countries and territories with active outbreaks, bringing total to 37. March 15: Cuba reports first case of Zika contracted in the country. March 16: Cape Verde identifies first case of microcephaly. March 18: CDC says during Jan. 1, 2015 to Feb. 26, 2016, 116 residents of the United States had evidence of recent Zika virus infection based on laboratory testing. Brazil says confirmed microcephaly cases rose to 863 and considers most of them to be related to Zika infections in the mothers. Brazil is investigating an additional 4,268 suspected cases of microcephaly. March 19: CDC adds Cuba to countries and territories with active outbreaks, bringing total to 38. March 21: South Korea confirms first case of Zika. March 22: CDC adds Dominica to countries and territories with active outbreaks, bringing total to 39. Bangladesh confirms first case of Zika virus. Brazil says confirmed microcephaly cases rose to 907 and considers most of them to be related to Zika infections in the mothers. Brazil is investigating an additional 4,293 suspected cases of microcephaly. March 29: Brazil says confirmed microcephaly cases rose to 944 and considers most of them to be related to Zika infections in the mothers. Brazil said the number of suspected cases of microcephaly dropped slightly to 4,291. March 31: According to the World Health Organization, there is a strong scientific consensus that Zika can cause the birth defect microcephaly as well as Guillain-Barre syndrome, a rare neurological disorder that can result in paralysis, though conclusive proof may take months or years.  April 1: CDC adds Kosrae, Federated States of Micronesia to countries and territories with active outbreaks, bringing total to 40. April 4: CDC adds Fiji to countries and territories with active outbreaks, bringing total to 41. April 5: Vietnam reports first Zika infections. April 6: Brazil says confirmed microcephaly cases rose to 1,046 and considers most of them to be related to Zika infections in the mothers. The number of suspected cases of microcephaly dropped to 4,046. April 7: St. Lucia confirms first two cases of Zika, contracted locally. April 12: Brazil says confirmed microcephaly cases rose to 1,113 and considers most of them to be related to Zika infections in the mothers. The number of suspected cases of microcephaly dropped to 3,836. It was the second week in a row that the overall total figure fell. April 13: The U.S. Centers for Disease Control and Prevention concluded that infection with the Zika virus in pregnant women is a cause of the birth defect microcephaly and other severe brain abnormalities in babies. The CDC said now that the causal relationship has been established, several important questions must still be answered with studies that could take years. CDC adds St. Lucia to countries and territories with active outbreaks, bringing total to 42. April 14: Colombia confirms two microcephaly cases linked to Zinka. April 18: Peru reports first case of sexually transmitted Zika virus. CDC adds Belize to countries and territories with active outbreaks, bringing total to 43. April 19: Chilean authorities find Zika mosquito for first time in decades. April 25: Canada confirms first sexually transmitted Zika case. April 26: Brazil says the number of confirmed cases of microcephaly climbed to 1,198 from 1,168 in the week through April 23, but suspected ones under investigation continued to decline to 3,710 from 3,741 a week ago. Brazil registered 91,387 likely cases of the Zika virus from February until April 2, the health ministry said, in its first national report on the epidemic. April 29: Puerto Rico reports first death related to Zika, according to the CDC. The country also confirmed 683 Zika cases, including 65 pregnant women, and five suspected cases of Guillain-Barre syndrome from Zika, the CDC reported. May 4: Panama confirms four microcephaly cases tied to Zika. May 6: Spain gets first case of Zika-related brain defect in a fetus.       May 9: CDC adds Papua New Guinea, Saint Barthelemy and Peru to countries and territories with active outbreaks, bringing total to 46. Honduras suspects first case of microcephaly in Zika patient. May 11: Brazil says the number of confirmed cases of microcephaly dropped to 1,326 in the week through May 7 as doctors and Brazilian health officials find that some suspected cases of microcephaly are not the disorder. Suspected ones under investigation continued to decline to 3,433. May 12: CDC adds Grenada to countries and territories with active outbreaks, bringing total to 47. May 13: Puerto Rico reports first case of Zika-related microcephaly. May 20: WHO says an outbreak of Zika virus on the African island chain of Cape Verde is of the same strain as the one blamed for birth abnormalities in Brazil. May 24: Brazil reports the number of confirmed cases of microcephaly at 1,434 for the latest week to May 21. Suspected ones under investigation declined to 3,257. May 26: CDC adds Argentina to countries and territories with active outbreaks, bringing total to 48. June 9: WHO issues updated guidelines on prevention of sexual transmission of the Zika virus, including advising women living in areas where the virus is being transmitted to delay getting pregnant. June 14: El Salvador confirms first case of microcephaly linked to Zika. June 23: CDC reports seven babies in the United States with microcephaly or other Zika-related birth defects such as serious brain abnormalities, and five lost pregnancies from either miscarriage, stillbirth or termination. June 28: First baby with Zika-related birth defect microcephaly born in Florida. June 30: CDC adds Anguilla to countries and territories with active outbreaks, bringing total to 49. Guinea-Bissau confirms three cases of Zika, government says. Spain records first case of sexually transmitted Zika virus, health authorities said. July 8: CDC confirmed that a Utah resident’s death last month is the first Zika-related death in the continental United States. July 14: CDC adds Saint Eustatius to countries and territories with active outbreaks, bringing total to 50. July 15: New York City’s health department reports the first female-to-male transmission of the Zika virus. July 18: CDC reports that caregiver of Utah man who died of Zika tested positive for virus. July 19: Florida health officials are investigating a case of Zika virus infection that does not appear to have stemmed from travel to another region with an outbreak. July 21: CDC reports 400 pregnant women in U.S. with evidence of Zika infection, up from 346 a week ago. The health agency also reports three more babies born in U.S. with birth defects linked to the Zika virus, bringing total to 12. Florida Department of Health said it was investigating a non travel-related case of Zika in Broward County, marking the second such case in the U.S. July 22: New York City health officials reports first baby born with Zika-related birth defect. July 25: Spain reports first case in Europe of baby born with Zika-related defect. CDC issues updated recommendations for preventing and testing for Zika infection, warning that the virus can be transmitted through unprotected sex with an infected female partner. July 26: Honduras detects 8 cases of babies with Zika-related defect. CDC adds Saba to countries and territories with active outbreaks, bringing total to 51. July 27: Paraguay reports first cases of microcephaly linked to Zika. July 29: Florida authorities report what is believed to be the first evidence of local Zika transmission in the continental United States. Aug. 1: Florida identifies 10 more cases of Zika virus caused by mosquitoes, bringing total to 14. CDC issues guidelines for pregnant women who live in and traveled to affected area in a Miami neighborhood. Aug. 2: Health authorities in Florida add one more case of locally transmitted Zika, bringing total to 15. CDC adds Antigua, Barbuda, and Turks and Cacos to countries and territories with active outbreaks, bringing total to 54. Aug. 3: U.S. researchers said they launched Zika vaccine clinical trial. Aug. 4: Cuba reports two cases of locally transmitted Zika. Aug. 5: Florida health authorities report another locally transmitted case, bringing total to 16. Aug. 8: Florida said it was investigating new case of locally transmitted Zika in Palm Beach County. Aug. 9: Texas health officials said death of infant born with microcephaly is linked to Zika, the first casualty in the state associated with the virus. Cayman Islands reports two locally transmitted Zika cases. Florida announces four more cases of locally transmitted Zika, bringing total to 21. Aug. 11: Florida reports three additional cases of locally transmitted Zika, bringing total to 25.  SOURCES: World Health Organization, U.S. Centers for Disease Control and Prevention, Reuters ']\n",
            "['Global health officials are racing to better understand the Zika virus behind a major outbreak that began in Brazil last year and has spread to many countries in the Americas.  The following are some questions and answers about the virus and current outbreak: How do people become infected? Zika is transmitted to people through the bite of infected female mosquitoes, primarily the Aedes aegypti mosquito, the same type that spreads dengue, chikungunya and yellow fever. The Pan American Health Organization (PAHO) said Aedes mosquitoes are found in all countries in the Americas except Canada and continental Chile, and the virus will likely reach all countries and territories of the region where Aedes mosquitoes are found. How do you treat Zika? There is no treatment or vaccine for Zika infection. Companies and scientists are racing to develop a safe and effective vaccine for Zika, but the World Health Organization (WHO) had said early in 2016 that it would take at least 18 months to start large-scale clinical trials of potential preventative shots. A vaccine is not expected to be ready for widespread use for at least two or three years. U.S. government researchers said they started their first clinical trial of a Zika vaccine. How dangerous is it? The U.S. Centers for Disease Control and Prevention concluded that infection with the Zika virus in pregnant women is a cause of the birth defect microcephaly and other severe brain abnormalities in babies. The CDC said now that the causal relationship has been established, several important questions must still be answered with studies that could take years. According to the World Health Organization, there is strong scientific consensus that Zika can cause the birth defect microcephaly in babies, a condition defined by unusually small heads that can result in developmental problems. In addition, the agency said it could cause Guillain-Barre syndrome, a rare neurological disorder that can result in paralysis. Conclusive proof of the damage caused by Zika may take months or years. Brazil reports the number of confirmed cases of microcephaly at more than 1,700 as doctors and Brazilian health officials find that some suspected cases of microcephaly are not the disorder. Suspected ones under investigation had declined to 3,257. Brazil registered 91,387 likely cases of the Zika virus from February until April 2. Current research in Brazil indicates the greatest microcephaly risk is associated with infection during the first trimester of pregnancy, but health officials have warned an impact could be seen in later weeks. Recent studies have shown evidence of Zika in amniotic fluid, placenta and fetal brain tissue. What are the symptoms of Zika infection?     People infected with Zika may have a mild fever, skin rash, conjunctivitis, muscle and joint pain and fatigue that can last for two to seven days. But as many as 80 percent of people infected never develop symptoms. The symptoms are similar to those of dengue or chikungunya, which are transmitted by the same type of mosquito. How can Zika be contained? Efforts to control the spread of the virus focus on eliminating mosquito breeding sites and taking precautions against mosquito bites such as using insect repellent and mosquito nets. U.S. and international health officials have advised pregnant women to avoid travel to Latin American and Caribbean countries where they may be exposed to Zika. How widespread is the outbreak? Active Zika outbreaks have been reported in at least 54 countries or territories, most of them in the Americas, according to the U.S. Centers for Disease Control and Prevention (CDC). Brazil has been the country most affected. (1.usa.gov/1ovAJyh) Africa (1): Cape Verde  Americas (45): Anguilla, Antigua, Argentina, Aruba, Barbados, Barbuda, Belize, Bolivia, Bonaire, Brazil, Colombia, Costa Rica, Cuba, Curaçao, Dominica, Dominican Republic, Ecuador, El Salvador, French Guiana, Grenada, Guadeloupe, Guatemala, Guyana, Haiti, Honduras, Jamaica, Martinique, Mexico, Nicaragua, Panama, Paraguay, Peru, Saba, Puerto Rico, Saint Barthelmy, Saint Lucia, Saint Martin, Saint Vincent and the Grenadines, Saint Eustatius, St. Maarten, Suriname, Trinidad and Tobago, Turks and Cacos, U.S. Virgin Islands and Venezuela. Oceania/Pacific Islands (8): American Samoa, Fiji, Kosrae, Federated States of Micronesia, Marshall Islands, New Caledonia, Papua New Guinea, Samoa, and Tonga.  What is the history of the Zika virus? The Zika virus is found in tropical locales with large mosquito populations. Outbreaks of Zika have been recorded in Africa, the Americas, Southern Asia and the Western Pacific. The virus was first identified in Uganda in 1947 in rhesus monkeys and was first identified in people in 1952 in Uganda and Tanzania, according to the WHO.  Can Zika be transmitted through sexual contact? The World Health Organization (WHO) said sexual transmission is “relatively common” and has advised pregnant women not to travel to areas with ongoing outbreaks of Zika virus. It also  advised women living in areas where the virus is being transmitted to delay getting pregnant. The U.S. CDC is investigating about a dozen cases of possible sexual transmission. Those cases involved possible transmission of the virus from men to their sex partners. But the CDC issued updated recommendations for preventing and testing for Zika infection on July 25, warning that the virus can be transmitted through unprotected sex with an infected female partner. A reported case of female-to-male sexual transmission in New York City, and limited human and non-human primate data indicating that Zika virus RNA can be detected in vaginal secretions, led to the new warning, the agency said. CDC’s expanded warnings on sexual exposure to Zika now  caution against sex without a condom or other barrier method of protection with any person, male or female, who has traveled to or lives in an area with Zika, including female to female transmission with a pregnant partner. British health officials reported Zika was found in a man’s semen two months after he was infected, suggesting the virus may linger in semen long after infection symptoms fade. The PAHO said Zika can be transmitted through blood, but this is an infrequent transmission mechanism. There is no evidence Zika can be transmitted to babies through breast milk. The WHO has identified Zika cases in Argentina, Chile, France, Italy and New Zealand as likely caused by sexual transmission.  What other complications are associated with Zika? Zika has also been associated with other neurological disorders, including serious brain and spinal cord infections. The long-term health consequences of Zika infection are unclear. Other uncertainties surround the incubation period of the virus and how Zika interacts with other viruses that are transmitted by mosquitoes, such as dengue. ']\n",
            "['The following timeline charts the origin and spread of the Zika virus from its discovery nearly 70 years ago: 1947: Scientists researching yellow fever in Uganda’s Zika Forest identify the virus in a rhesus monkey 1948: Virus recovered from Aedes africanus mosquito in Zika Forest 1952: First human cases detected in Uganda and Tanzania 1954: Virus found in Nigeria 1960s-80s: Zika detected in mosquitoes and monkeys across equatorial Africa 1969–83: Zika found in equatorial Asia, including India, Indonesia, Malaysia and Pakistan 2007: Zika spreads from Africa and Asia, first large outbreak on Pacific island of Yap 2012: Researchers identify two distinct lineages of the virus, African and Asian 2013–14: Zika outbreaks in French Polynesia, Easter Island, the Cook Islands and New Caledonia. Retrospective analysis shows possible link to birth defects and severe neurological complications in babies in French Polynesia March 2, 2015: Brazil reports illness characterized by skin rash in northeastern states July 17: Brazil reports detection of neurological disorders in newborns associated with history of infection Oct. 5: Cape Verde has cases of illness with skin rash  Oct. 22: Colombia confirms cases of Zika Oct. 30: Brazil reports increase in microcephaly, abnormally small heads, among newborns Nov. 11: Brazil declares public health emergency  November 2015-January 2016: Cases reported in Suriname, Panama, El Salvador, Mexico, Guatemala, Paraguay, Venezuela, French Guiana,  Martinique, Puerto Rico, Guyana, Ecuador, Barbados, Bolivia, Dominican Republic, Nicaragua, Curacao, Jamaica Feb. 1: World Health Organization (WHO) declares public health emergency of international concern Feb. 2: First case of Zika transmission in United States; local health officials say likely contracted through sex, not mosquito bite Feb. 5: U.S. Centers for Disease Control and Prevention says virus being actively transmitted in 30 countries, mostly in the Americas Feb. 8: U.S. President Barack Obama requests $1.8 billion to fight Zika Feb. 12: Brazil investigating potential link between Zika infections and 4,314 suspected cases of microcephaly. Of those, 462 confirmed as microcephaly and 41 determined to be linked to virus  Feb. 17: Brazil investigating potential link between Zika and 4,443 suspected cases of microcephaly. Of those, 508 confirmed as microcephaly and most of those cases are linked to the virus. WHO seeks $56 million to fight Zika. Feb. 18: CDC adds Aruba and Bonaire to countries and territories with active outbreaks, bringing total to 32. Feb. 23: CDC investigating 14 cases of possible sexual transmission of Zika. CDC also adds Trinidad and Tobago and Marshall Islands to countries and territories with active outbreaks, bringing total to 34. Feb. 25: Brazil says confirmed microcephaly cases number more than 580 and considers most of them to be related to Zika infections in the mothers. Brazil is investigating an additional 4,100 suspected cases of microcephaly. Feb. 27: France detects first sexually transmitted case of Zika.  Feb. 29: CDC adds St. Maarten, and Saint Vincent and the Grenadines to countries and territories with active outbreaks, bringing total to 36. March 1: Brazil says confirmed microcephaly cases rose to 641 and considers most of them to be related to Zika infections in the mothers. Brazil is investigating an additional 4,222 suspected cases of microcephaly. March 8: WHO advises pregnant women to avoid areas with Zika outbreak and said sexual transmission of the virus is “relatively common.” March 9: CDC adds New Caledonia to countries and territories with active outbreaks, bringing total to 37. March 15: Cuba reports first case of Zika contracted in the country. March 16: Cape Verde identifies first case of microcephaly. March 18: CDC says during Jan. 1, 2015 to Feb. 26, 2016, 116 residents of the United States had evidence of recent Zika virus infection based on laboratory testing. Brazil says confirmed microcephaly cases rose to 863 and considers most of them to be related to Zika infections in the mothers. Brazil is investigating an additional 4,268 suspected cases of microcephaly. March 19: CDC adds Cuba to countries and territories with active outbreaks, bringing total to 38. March 21: South Korea confirms first case of Zika. March 22: CDC adds Dominica to countries and territories with active outbreaks, bringing total to 39. Bangladesh confirms first case of Zika virus. Brazil says confirmed microcephaly cases rose to 907 and considers most of them to be related to Zika infections in the mothers. Brazil is investigating an additional 4,293 suspected cases of microcephaly. March 29: Brazil says confirmed microcephaly cases rose to 944 and considers most of them to be related to Zika infections in the mothers. Brazil said the number of suspected cases of microcephaly dropped slightly to 4,291. March 31: According to the World Health Organization, there is a strong scientific consensus that Zika can cause the birth defect microcephaly as well as Guillain-Barre syndrome, a rare neurological disorder that can result in paralysis, though conclusive proof may take months or years.  April 1: CDC adds Kosrae, Federated States of Micronesia to countries and territories with active outbreaks, bringing total to 40. April 4: CDC adds Fiji to countries and territories with active outbreaks, bringing total to 41. April 5: Vietnam reports first Zika infections. April 6: Brazil says confirmed microcephaly cases rose to 1,046 and considers most of them to be related to Zika infections in the mothers. The number of suspected cases of microcephaly dropped to 4,046. April 7: St. Lucia confirms first two cases of Zika, contracted locally. April 12: Brazil says confirmed microcephaly cases rose to 1,113 and considers most of them to be related to Zika infections in the mothers. The number of suspected cases of microcephaly dropped to 3,836. It was the second week in a row that the overall total figure fell. April 13: The U.S. Centers for Disease Control and Prevention concluded that infection with the Zika virus in pregnant women is a cause of the birth defect microcephaly and other severe brain abnormalities in babies. The CDC said now that the causal relationship has been established, several important questions must still be answered with studies that could take years. CDC adds St. Lucia to countries and territories with active outbreaks, bringing total to 42. April 14: Colombia confirms two microcephaly cases linked to Zika. April 18: Peru reports first case of sexually transmitted Zika virus. CDC adds Belize to countries and territories with active outbreaks, bringing total to 43. April 19: Chilean authorities find Zika mosquito for first time in decades. April 25: Canada confirms first sexually transmitted Zika case. April 26: Brazil says the number of confirmed cases of microcephaly climbed to 1,198 from 1,168 in the week through April 23, but suspected ones under investigation continued to decline to 3,710 from 3,741 a week ago. Brazil registered 91,387 likely cases of the Zika virus from February until April 2, the health ministry said, in its first national report on the epidemic. April 29: Puerto Rico reports first death related to Zika, according to the CDC. The country also confirmed 683 Zika cases, including 65 pregnant women, and five suspected cases of Guillain-Barre syndrome from Zika, the CDC reported. May 4: Panama confirms four microcephaly cases tied to Zika. May 6: Spain gets first case of Zika-related brain defect in a fetus.       May 9: CDC adds Papua New Guinea, Saint Barthelemy and Peru to countries and territories with active outbreaks, bringing total to 46. Honduras suspects first case of microcephaly in Zika patient. May 11: Brazil says the number of confirmed cases of microcephaly dropped to 1,326 in the week through May 7 as doctors and Brazilian health officials find that some suspected cases of microcephaly are not the disorder. Suspected ones under investigation continued to decline to 3,433. May 12: CDC adds Grenada to countries and territories with active outbreaks, bringing total to 47. May 13: Puerto Rico reports first case of Zika-related microcephaly. May 20: WHO says an outbreak of Zika virus on the African island chain of Cape Verde is of the same strain as the one blamed for birth abnormalities in Brazil. May 24: Brazil reports the number of confirmed cases of microcephaly at 1,434 for the latest week to May 21. Suspected ones under investigation declined to 3,257. May 26: CDC adds Argentina to countries and territories with active outbreaks, bringing total to 48. June 9: WHO issues updated guidelines on prevention of sexual transmission of the Zika virus, including advising women living in areas where the virus is being transmitted to delay getting pregnant. June 14: El Salvador confirms first case of microcephaly linked to Zika. June 23: CDC reports seven babies in the United States with microcephaly or other Zika-related birth defects such as serious brain abnormalities, and five lost pregnancies from either miscarriage, stillbirth or termination. June 28: First baby with Zika-related birth defect microcephaly born in Florida. June 30: CDC adds Anguilla to countries and territories with active outbreaks, bringing total to 49. Guinea-Bissau confirms three cases of Zika, government says. Spain records first case of sexually transmitted Zika virus, health authorities said. July 8: CDC confirmed that a Utah resident’s death last month is the first Zika-related death in the continental United States. July 14: CDC adds Saint Eustatius to countries and territories with active outbreaks, bringing total to 50. July 15: New York City’s health department reports the first female-to-male transmission of the Zika virus. July 18: CDC reports that caregiver of Utah man who died of Zika tested positive for virus. July 19: Florida health officials are investigating a case of Zika virus infection that does not appear to have stemmed from travel to another region with an outbreak. July 21: CDC reports 400 pregnant women in U.S. with evidence of Zika infection, up from 346 a week ago. The health agency also reports three more babies born in U.S. with birth defects linked to the Zika virus, bringing total to 12. Florida Department of Health said it was investigating a non travel-related case of Zika in Broward County, marking the second such case in the U.S. July 22: New York City health officials reports first baby born with Zika-related birth defect. July 25: Spain reports first case in Europe of baby born with Zika-related defect. CDC issues updated recommendations for preventing and testing for Zika infection, warning that the virus can be transmitted through unprotected sex with an infected female partner. July 26: Honduras detects 8 cases of babies with Zika-related defect. CDC adds Saba to countries and territories with active outbreaks, bringing total to 51. July 27: Paraguay reports first cases of microcephaly linked to Zika. July 29: Florida authorities report what is believed to be the first evidence of local Zika transmission in the continental United States. Aug. 1: Florida identifies 10 more cases of Zika virus caused by mosquitoes, bringing total to 14. CDC issues guidelines for pregnant women who live in and traveled to affected area in a Miami neighborhood. Aug. 2: Health authorities in Florida add one more case of locally transmitted Zika, bringing total to 15. CDC adds Antigua, Barbuda, and Turks and Cacos to countries and territories with active outbreaks, bringing total to 54. Aug. 3: U.S. researchers said they launched Zika vaccine clinical trial. Aug. 4: Cuba reports two cases of locally transmitted Zika. Aug. 5: Florida health authorities report another locally transmitted case, bringing total to 16. Aug. 9: Texas health officials said death of infant born with microcephaly is linked to Zika, the first casualty in the state associated with the virus. Cayman Islands reports first locally transmitted Zika case. SOURCES: World Health Organization, U.S. Centers for Disease Control and Prevention, Reuters ']\n",
            "['MIDDLETOWN, CONN. - Two years ago, Judy Konopka and Craig Diangelo lost their jobs in the IT department of what was then known as Northeast Utilities, a regional electricity provider, when the company decided to replace about 220 employees with guest workers from India. In order to receive a more lucrative separation package, they had to train their foreign replacements both here and overseas.  Both had trouble finding new work. Konopka, 56, is still looking. Diangelo, 64, is working as a contractor for a company that provides no benefits, making substantially less than he did before. He views himself as a victim of globalization, a casualty of offshoring—and he credits Donald Trump, the presumptive Republican presidential nominee who has cast himself as the champion of displaced and disaffected U.S. workers, for bringing the issue to light.  “I’ll vote for him,” says Diangelo, over dinner at a Thai restaurant on this town’s Main Street. Two others at the table murmur in assent.  He continues, his voice rising: “I wasn’t planning on retiring early. I wasn’t planning on making $35,000 less. I’ve had to cut back a lot. I basically live paycheck to paycheck.”  “I could never vote for Hillary Clinton,” Diangelo says, citing Clinton’s support of the North American Free Trade Agreement, passed while her husband, Bill, was president, as well as her advocacy of the proposed Trans-Pacific Partnership, a trade pact that’s still being negotiated by the Obama administration. (Challenged by Bernie Sanders, Clinton has since retracted her support of TPP.) Even Konopka, who favors Clinton (she calls Trump “the biggest idiot”), has to admit Clinton’s support of trade deals such as NAFTA gives her pause. When Northeast Utilities fired her after 21 years, “I felt betrayed.” Konopka took advantage of a federal trade assistance program to improve her skills in web design, then discovered she couldn’t compete with designers outside the country who were willing to work for much less. Now, to get by, she sells vintage books on the web. “It’s starting to get really scary,” she says.  This presidential election is, purportedly, the Year of the Angry Voter, with images of scuffles at Trump rallies occupying cable-news screens. But as befitting someone who lives in a place called Middletown, Konopka is more typical of voters: consumed by a stomach-churning uncertainty, a vague sense of something lost, and an inescapable belief that an array of powerful forces—corporations, politicians, government—aren’t looking out for them.  Economists and pundits have been struggling to explain why, with unemployment below 5 percent and a bounty of positive economic indicators, voters seem so dismayed, so distrustful. It might be something as simple as bargaining power.  In his best-known book, The Art of the Deal, Trump advises every negotiator to “use your leverage.” But increasingly, U.S. workers, white-and blue-collar alike, feel they have none. They’ve seen their power erode as they are tossed into a global labor pool, as companies consolidate and shed jobs to please Wall Street, as unions wither, state budgets tighten, technology advances and iconic brands such as Nabisco pack up and move to Mexico.  The squeeze is on.  “There’s a feeling among workers that not only are they replaceable, but that they will be replaced,” says Gary Chaison, a professor of industrial relations at Clark University in nearby Worcester, Massachusetts. “That there is no security anymore, that someone is making a profit by letting them go.”  “Trump,” he adds, “has tapped into that very well.”  According to Reuters/Ipsos polling, 71 percent of Trump supporters either have had to take a lower-paying job in the last few years, have a family member who has had to do so, or have a family member whose home has been threatened by foreclosure. In a sign of how widespread the phenomenon has become, 63 percent of Clinton supporters reported the same dismal tally.  “People feel more insecure about trade than terrorism,” Chaison tells me. “Everyone knows someone who has lost their job.”  What bothers Diangelo most is that he was let go by a company that still valued his skill—just not him. “The sad part is that my job is still there,” he says. “It didn’t go away. I went away.”  None of this should feel particularly new. The United States has been bleeding middle-class workers—especially in the industrial and manufacturing sectors—as long as Bruce Springsteen has been around to sing about it. Candidates adorned with hard hats vowing to bring back factory jobs have become a set-piece of modern politics.  The United States has lost more than 5 million manufacturing jobs in the past 15 years as the trade deficit has mushroomed, according to the Economic Policy Institute, a liberal think tank in Washington. Wage growth in almost all sectors has flatlined over that time, including for the bottom 70 percent of fouryear college graduates—and growth overall has been anemic, at under 2 percent. And while the 9 million jobs vaporized in the flash of the Great Recession have been recovered, the majority of them are of lesser quality than the ones they replaced.  Perhaps most fundamentally, the relationship between employee and employer has shifted. Workers’ share of the pie has decreased substantially since the 1970s, when the country’s corporate and industrial base began to erode. Last year, workers’ share dropped to 75.5 percent of corporate income, even as technology has made workforces more productive and efficient. U.S. corporate profits, meantime, returned to pre-recession levels in 2012. Workers “sense that the recovery is only partial. It helps employers more than it helps workers,” Chaison says.  If workers’ sense of slippage seems familiar, the way their discontent is rippling through our politics feels newly transformative. Voters threw out the Republicans running Congress in 2006, then two years later elected the first African-American president, an outsider who vowed reform. Souring on him, they replaced Democrats then controlling Congress with another set of Republicans in 2010 and 2014, making governance as unstable as the business sector. In a period of war, terrorism and economic chaos, all that churn might best be viewed as a deeply frustrated electorate trying to use what little leverage they have to change a system they consider to be otherwise unaccountable.  Trump has been the main beneficiary of that frustration. He makes those in the crowd feel like they matter, that they finally have a bully of their own who can push back at what they view as an alliance of unprincipled corporate culture and an enabling government. “You’re looking at a situation where the jobs are being ripped out of our states, out of our country, like candy from a baby,” Trump said at a rally this spring.  It has been Trump, along with Democrat Sanders, who has pushed the issue of job losses to countries such as China, Mexico and India to the forefront. Trump has threatened to slap a tax on imports and tear up trade deals. In Indiana earlier this year, he ripped air conditioner manufacturer Carrier for announcing it would lay off 2,100 workers and move its operations to Mexico. He gave Nabisco the same treatment, pledging he would no longer eat Oreos. He has slammed companies such as Apple and Boeing for their overseas operations, as well.  Few presidential candidates have such temerity to challenge well-known American brands, but clearly it is resonating. “They might not like everything he says, but they believe he says what he thinks,” Lewis Gossett, president of the South Carolina Manufacturers Alliance, told me last summer. “I think we’re repeating a time in history when the very rich are removed from the very poor.”  Michael Smith is one of the Americans Trump rallies for. Smith was among 600 Nabisco employees laid off at the bakery on Chicago’s South Side earlier this year, after the company announced it was transferring some work to Mexico. He got the news at 3 a.m. “It was,” Smith tells me, “a dark night when all your livelihood passes in front of you, and you feel like you’ve been given the royal shaft.”  Smith operated the machines that wrapped Oreo cookies and Ritz crackers. With overtime, he could clear $85,000 a year. He’s 59 and wasn’t thinking he would have to re-enter the job market.  The day before, Smith had shown up at a shareholders meeting in Chicago to confront Irene Rosenfeld, the chief executive of Mondelez International, the holding company that oversees the Nabisco brand, about the move to Mexico. While sympathetic, Rosenfeld said it was her duty to maximize the corporation’s value to its shareholders worldwide by cutting costs.  “There are two types of CEO mindsets,” Smith responded, “those who care about shareholders and those who care about the shareholders and the people.”  In our conversation, Smith didn’t begrudge the company’s legal right to relocate the jobs, but he questions a CEO who earned more than $40 million in compensation over the last two years exhorting the virtues of cost-cutting to a room full of laid-off blue-collar workers. “That’s not good citizenship,” he says. “Wealth comes from the workers. That profitability comes from us.”  Clinton met with a small group of the Nabisco workers in March, the day before the Illinois primary. But the visit didn’t leave Smith with much hope that as president she could do much either for the workers’ situation or to reverse the demands of a globalized economy. In part, that’s due to Clinton’s support of NAFTA, which Smith terms an “infection,” but also because of the lobbying might of Mondelez, a $30 billion company, and other big corporations.  Smith is the unusual American voter who says he hasn’t decided between Clinton and Trump. He’ll focus on the election later. First, he has to keep his household afloat and his daughter in school at Columbia College in Chicago. He has six months’ salary to cushion him.  He’s trying to stay optimistic about finding work, saying his wife and daughter are counting on him. But, he concedes, “I think I have been a little bit in denial. Even people of faith have bouts of depression.”  Angela Valero gives a one-word reply when I ask her about a potential Clinton-Trump matchup: “Ugh.” I might as well be asking about who’s going to win the next regatta on Mars, so far is the election from her daily concerns.  Valero’s dream job was to be a corrections officer. She was finally hired on by the state of Connecticut last fall. The single mother of an 8-year-old girl thought that, at last, she had a reliable, stable position with benefits.  But after completing an academy training course and being posted as a guard at the state maximum-security facility in nearby Uncasville, she found out this spring that she was being laid off, a consequence of a decision made by Connecticut’s Democratic governor, Dannel Malloy, and the state legislature to not raise taxes on the wealthy to cover a budget shortfall. Lawmakers worried that the state’s richest residents would relocate to Florida, which has no state income tax, or other states with lower taxes.  During the downturn, Connecticut lost a bevy of high-paying jobs in the financial services sector in the corporate hub of Stamford and elsewhere. The jobs created during the recovery were less lucrative, resulting in lower tax revenue. In addition, the state was spooked when General Electric, responding to an effort by the legislature to raise business taxes, announced it was relocating its headquarters from Fairfield to Boston. Aetna, the health insurer based in Hartford, also threatened to leave the state.  That shelved any notion of new taxes. The state looked to trim its public workforce instead. “Easy targets,” says Lori Pelletier, president of the state AFL-CIO.  Rape counselors, child-service workers, prison guards began receiving pink slips. Ultimately, 2,500 or more state workers could be let go. Pelletier contrasted that with the 200 jobs GE is moving to Boston—something that drew substantial media attention.  The state of Massachusetts and the city of Boston helped recruit GE with a generous benefit package, including $25 million in property tax relief for a corporation that critics have long held pays little in U.S. taxes. “Angela last year paid more taxes than GE,” Pelletier says. “And she’s the one losing her job.”  Valero tells me she has little faith that anyone in Washington can help her. She doesn’t sleep more than four hours a night, kept up by worrying about paying the electric bill and keeping her house. She has no idea whether she’ll ever be recalled to work.  Throughout the interview, she stays stoic, determined, like the corrections office she was trained to be. Only at the end of our conversation does she slip a bit. “I held back the tears,” she says with relief.  Ron Ozer greets me at the door with the sheepishness of someone who isn’t used to being at home during the workday. Ozer, 53, was laid off from DuPont Co. in January after a 23-year career. A Ph.D in chemical engineering, he has more than 20 patents to his name. He worked on long-term projects at the DuPont Experimental Station in Wilmington, Delaware, one of the more storied research facilities in the country, where products such as nylon, Lycra and Kevlar were created.  “Some of the great developments in American industry came out of that site,” Ozer says. “It was a time when America was growing so dramatically.”  But a lack of growth and pressure from investors forced DuPont to announce a merger with another giant, Dow Chemical. In advance of the merger, it has begun to shed jobs. In Delaware alone, DuPont plans to dump 1,700 workers—many in the area of long-term research, which can be expensive without yielding immediate rewards to shareholders. Ozer’s group was eviscerated.  The $130 billion merger of DuPont and Dow blends two U.S. companies that date back to the 19th century. Barry Lynn, an economist at the New America think tank, says that industry consolidation chills the labor market, sapping demand for skilled workers such as Ozer. Dominant companies can use their market power to charge customers more or make suppliers pay less—all without having to grow and create jobs to survive. Indeed, the push from Wall Street is to cull and cut, not grow. And when companies do expand today it’s largely through acquisition, not investment.  “That’s a huge amount of the energy that’s behind Trump,” Lynn says, “the sense of power being consolidated and being out of control and harming me and my family and my community.”  Ozer will try to take advantage of his contacts at DuPont to become a consultant, but admits that’s a gamble. Asked if he thinks he can replicate the six-figure salary he enjoyed at DuPont, he laughs. “I’m not confident of that.”  His chief concern is his two daughters, both of whom are out of college. In order to give his youngest a leg up in the market, he sent her to private Haverford College in Pennsylvania (tuition: $46,000)—going deep into debt to do so. “I have a lot of possibilities, but I need things to start turning into dollars soon,” he says.  For Sara Blackwell, representing U.S. workers displaced by the federal H1-B visa program began as a gig. Now, it’s a full-blown cause.  The Tampa lawyer has been giving away clients who would distract her from her work. She jokes she’s stopped sleeping and exercising. Recently, she launched a website called ProtectUSworkers.com. “I speak to an average of 10 people a day who are victims of this,” she tells me. “The more I learn about this, the more I have to fight.”  She began by representing IT workers at Walt Disney World in Florida who were replaced by guest workers from India brought in on temporary visas by outsourcing firms that contracted with Disney. She has filed a long-shot conspiracy lawsuit in federal court.  Blackwell contends that the practice of outsourcing low-end, back-office IT jobs to cut costs has become endemic. Globalization, she says, is systematically lowering the standard of living of American workers. “It’s a race to the bottom,” she says.  The Disney case garnered the attention of some in the U.S. Senate, including Jeff Sessions, a Republican from Alabama who now is at the forefront of a fight against the American tech industry, which wants to expand the guest-worker program citing a lack of domestic qualified engineers and programmers.  But those tech companies are at the back of the line. According to Ron Hira, a professor at Howard University who tracks applications, outsourcing firms have been crowding out tech companies in the race to acquire the highly coveted H1-B visas, which are capped at 85,000 a year.  Sessions, who is also a fierce opponent of immigration reform, was one of the first U.S. politicians to embrace Trump—and Blackwell has spoken out against the program at several Trump rallies.  She also has consulted with the outsourced employees who worked at Northeast Utilities in Connecticut, including Craig Diangelo.  Part of Diangelo’s frustration—and part of what is driving him toward Trump—is that Washington has done so little to curb what he views as abuses of the H1-B program. There is a greater push now on Capitol Hill to broaden the program rather than rein it in. “There’s nobody to help us,” he tells me. “There’s nobody to say you can’t do this.”  Richard Blumenthal, a U.S. senator from Connecticut, has been part of efforts to expand the program, but also to reform it. “It’s a desperately serious problem,” he says.  He told me that even though there is some bipartisan consensus on reform, efforts still aren’t moving forward, consumed by the same paralysis that’s stalling everything else.  “There are powerful forces against us,” Blumenthal says, “including the companies that exploit these programs.”  To Diangelo, that’s the dilemma of the modern, middle-class voter. He worked hard for years, lost his job when his only transgression was being too old and making too much money, was humiliated when he had to train his replacement, and then watched how state and federal politicians have been able to do nothing to help him.  Why shouldn’t he support Donald Trump? What’s worth preserving? He’s a tech worker, sipping Pinot Grigio over pad thai. He’s no militant or conspiracist. Yet...  “There is going to be an uprising,” he says. “People are starting to say: `I’ve had enough of this. I’ve really had enough.’”  \\xa0This report first appeared in “The American Voter,” Reuters’ special election issue, available on iTunes or Google Play.']\n",
            "['PITTSBURGH, Pa. - Democratic presidential candidate Hillary Clinton toured the U.S. Rust Belt on Saturday, promising to reject bad international trade deals during a factory visit and securing the endorsement of investor Mark Cuban at a Pittsburgh rally. The Dallas Mavericks owner, who said as recently as last month that there was a “good chance” he would vote for Donald Trump, instead criticized the Republican nominee’s leadership in front of an energetic crowd. “Leadership is not yelling and screaming and intimidating,” Cuban said. “You know what we call a person like that in Pittsburgh? A jagoff!” Cuban added, using disparaging Pittsburgh slang. Cuban had spoken with Clinton campaign chairman John Podesta several times in recent weeks and called him on Thursday to say he was ready to endorse Clinton, a campaign aide said. Clinton, along with her running-mate Tim Kaine, a U.S. senator from Virginia, is on a three-day tour of Pennsylvania and Ohio after becoming the first woman to accept a major U.S. party’s presidential nomination at the Democratic convention in Philadelphia on Thursday. Pennsylvania and Ohio are two states in the U.S. Rust Belt that are dealing with job losses caused by the decline in U.S. manufacturing. Neither leans heavily in favor of either political party but both voted for Obama in 2008 and 2012.  Trump has zeroed in on white, working-class voters in the region as critical to his campaign and plans to visit both states early next week.  In a visit earlier on Saturday to Johnstown Wire Technologies in Johnstown, Pennsylvania, Clinton told the largely union crowd there that she would create good-paying jobs by investing in infrastructure and reject a pending Asia trade deal that has become a flashpoint in the U.S. presidential campaign. “We are going to say ‘no’ to unfair trade deals, we’re going to stand up to China,” Clinton said.  “I feel strongly about this and I need your help,” she added. The pending Trans Pacific Partnership (TPP) negotiated by President Barack Obama has drawn criticism from both Clinton and Trump. Clinton says it does not do enough to protect U.S. workers. Trump has said he would rip it up and questioned whether Clinton would keep her stance if she wins the Nov. 8 presidential election. Leo Gerard, the president of the United Steelworkers, which represents roughly 200 of the 260 workers employed by Johnstown Wire Technologies, assured the crowd in his introduction of Clinton that Republicans have been “telling lies” about Clinton’s stance on the deal.  Cambria County, where Johnstown Wire Technologies is based, is 94-percent white and has a median household income of $42,000. Clinton and Kaine will continue their jobs-focused tour that began in Philadelphia, continuing on to Youngstown and Columbus. They are trying to contrast their plan to use infrastructure investments to create jobs with that of Trump, whom Clinton said Friday has a “downbeat vision of America.” “We are visiting places that prove what Americans can do,” Clinton said in Johnstown. “This country and our people have what it takes to get ahead and stay ahead if they have the leadership that gives us that chance.” ']\n",
            "['In a speech weighted with America’s complicated racial history, Democrat Hillary Clinton laced into Republican presidential rival Donald Trump on Wednesday, accusing him of fueling divisions among Americans over race and religion. “His campaign is as divisive as any we have seen in our lifetimes,” Clinton said at a campaign appearance at the Illinois state house in Springfield. “It is built on stoking mistrust and pitting American against American. It’s there in everything he says and everything he promises to do as president.” Clinton ticked off Trump’s proposals to ban Muslims from entering the country, create a database of Muslims already in the country and step up deportations by creating a special deportation force as policies intended to drive Americans apart. She lambasted Trump’s decision to re-tweet an image from a neo-Nazi and his statements about women. “We need a president who can help pull us together, not split us apart,” Clinton said. The two presumptive nominees are heading into July nominating conventions where they are to formally become the Democratic and Republican candidates who will square off in the Nov. 8 presidential election. Clinton’s speech comes a week after a sniper shot and killed five Dallas police officers during a protest of police killings of black men in Louisiana and Minnesota. She addressed these incidents and other race-related deaths in Springfield. Clinton’s speech on Wednesday carried the echo of history. The state house in the Illinois capital of Springfield was the site where President Abraham Lincoln delivered an anti-slavery speech during his campaign for the U.S. Senate in 1858, warning that “a house divided against itself cannot stand.” As the 16th president of the United States, he went on to guide the country through most of the Civil War. Clinton acknowledged that while “the challenges we face today do not approach those of Lincoln’s time,” the country’s “long struggle with race is far from finished.”  The Illinois state house is also where President Barack Obama, the first African-American to hold the highest office in America, launched his first campaign for president in 2007. Trump spent months “trying to discredit the citizenship and legitimacy of our first black president,” Clinton said.  Trump was loudly fixated on the issue of Obama’s birthplace during the 2012 presidential campaign and had also suggested that Obama was a Muslim, despite clear evidence that the president was born in Hawaii and is a Christian. Clinton acknowledged that she has made some missteps on race. She faced early criticism from the Black Lives Matter movement for past statements, such as one in the 1990s, when she was first lady, calling violent minority youth “super predators.” She told the Washington Post earlier this year that she “shouldn’t have used those words.” “As someone in the middle of a hotly fought political campaign I cannot stand here and claim that my words and actions haven’t sometimes fueled the partisanship that often stands in the way of progress, so I recognize I have to do better, too,” she added. ']\n",
            "['SACRAMENTO, Calif. - There is no guarantee California will vote to legalize recreational marijuana in November, but political operative and father of four Daniel Conway has already staked his future on it. Conway left his job as chief of staff to Sacramento’s celebrity mayor, former Phoenix Suns NBA basketball star Kevin Johnson, to help start the marijuana investment company Truth Enterprises. He is one of hundreds in the most populous U.S. state already pushing ahead with plans to enter a market experts say will be worth $4 billion by 2020. “I’m someone of an age and of a demographic that sees the legalization and normalization of marijuana as inevitable,” said Conway, 35. “This was a chance not just to build companies but to build an industry.” With a population of nearly 40 million people, and a thriving medical marijuana trade legalized 20 years ago, California already has the United States’ largest legal marijuana market. Legalization of recreational pot would generate an estimated $1 billion in additional taxes per year. If voters in November approve a measure to legalize and tax marijuana that qualified last Tuesday for the ballot, California would be the fifth U.S. state - and by far the largest - to allow marijuana for recreational use, joining Colorado, Washington, Oregon and Alaska, as well as the District of Columbia. A similar ballot initiative failed in California in 2010, but recent polls show strong support for legalization. The latest effort is backed by mainstream leaders including Lieutenant Governor Gavin Newsom, who helped negotiate the regulations and taxes it would impose. Eight other states, including Nevada and Maine, also have recreational or medical marijuana proposals headed for their 2016 ballots. California’s sheer size as the world’s 6th largest economy means a decision by its voters to legalize marijuana could accelerate the trend elsewhere. “I don’t believe there will be any precedent in the United States that can compare to it except for maybe the Gold Rush,” said Leslie Bocskor, whose Nevada-based private equity firm, Electrum Partners, advises and invests in marijuana-related businesses. The lure of wealth in an uncharted industry is so great that thousands of people are jostling for position, said Bocskor. Since January, 115 new California companies have joined the National Cannabis Industry Association, bringing total membership in the state to 330, said Deputy Director Taylor West. New companies include cultivators, dispensaries, laboratories, law partnerships, accountants, software developers, insurers and more, she said. Their challenge is to set up an infrastructure for a business that is not yet legal. Conway and his business partner, General Hydroponics CEO Ross Haley, for example, recently purchased farmland in Northern California that they hope to use to grow marijuana but would not say where before the measure is passed. Newport Beach-based Terra Tech is trying to prepare for recreational sales while building a legal business within the state’s medical marijuana marketplace, which has annual sales of $2.7 billion. The company spent more than $800,000 designing and remodeling its Oakland dispensary to look more like a high-end lounge than a drab medical clinic, said CEO Derek Peterson. It also developed colorful packaging for its marijuana instead of dispensing it in prescription bottles. Despite such optimism, passage of the California measure is not certain. It is opposed by many of the same law enforcement and health care groups who helped defeat the 2010 initiative. But this time backers have the deep pockets of former Facebook president Sean Parker, support from Newsom - a Democrat expected to run for governor in 2018 - and a switch in attitude among voters who saw legalization come on line in other states. The measure would allow adults age 21 and older to possess up to one ounce of marijuana, cultivate up to six plants and sets rules for commercial cultivation, manufacture and sale. It includes rules aimed at keeping cannabis products from children, preventing impaired driving and requiring licenses for sellers. Newsom said he is backing it as a way to responsibly manage legalization, which he views as inevitable but necessary to handle carefully. “As a guy with four kids, who doesn’t like the drug, doesn’t like the smell, doesn’t want my kids to think it’s normalized, this is my number one concern,” Newsom said.']\n",
            "['WASHINGTON - Republican Donald Trump said on Thursday that if elected president Nov. 8 he would be open to drawing NATO forces into the fight against Islamic State militants in a new mission for an alliance he has called obsolete. Trump made the comments in an interview with ABC News. The presumptive Republican presidential nominee has for months raised questions about the money the United States pours into NATO, which he says needs to be reconfigured to take account of today’s threats. “I like the idea of using NATO and also neighbors that aren’t in NATO and take them out. You gotta take them out,” Trump said. Under President Barack Obama, the United States has relied heavily on U.S. airstrikes to attack Islamic State targets in Syria and Iraq. Republicans have criticized this policy as not enough to stop the militants. Trump said the idea of using the Cold War-era alliance would be to ease the load on American forces. “I don’t want to get too much of ours involved. I want NATO to be involved,” Trump said. “We spend a tremendous amount of money on NATO. We take care of countries that frankly should be taking care of themselves in terms of economically.” Trump’s comments came amid an uproar over a meeting between former President Bill Clinton and Attorney General Loretta Lynch at a time when Clinton’s wife, Democratic presidential candidate Hillary Clinton, is under federal investigation. The private meeting took place on Lynch’s plane after she landed in Phoenix on Monday night and Bill Clinton was leaving the airport after a rally he held for his wife earlier that day. Hillary Clinton is under an FBI investigation for her use of a private email server when she was President Barack Obama’s first-term secretary of state. Trump told conservative radio talk show host Mike Gallagher that the meeting was proof of his charge that the U.S. political system is “rigged” in favor of political elites. “It’s unheard of,” Trump told ABC News. “You have this massive investigation on emails and they’d have a meeting like this.” Lynch, appointed to her position by Obama more than a year ago, said she did not discuss the email investigation or other pending matters before the Justice Department with Bill Clinton.  \\xa0\\xa0\\xa0\\xa0“When I was landing at the airport, I did see President Clinton at the Phoenix airport as I was leaving and he spoke to myself and my husband on the plane,” Lynch told reporters.  \\xa0\\xa0\\xa0\\xa0“Our conversation was a great deal about grandchildren. It was primarily social and about our travels. He mentioned the golf he played in Phoenix and he mentioned travels he had to West Virginia...But there was no discussion of any matter pending for the department or any matter pending before any other body,” Lynch said. The Federal Bureau of Investigation is investigating Hillary Clinton about her email use and has already interviewed some of her aides. The investigation into whether laws were broken as a result of the server kept in her New York home has overshadowed Clinton’s campaign. Obama is preparing to campaign with Hillary Clinton for the first time in her 2016 White House bid. They are to appear together in Charlotte, North Carolina, on Tuesday. A Reuters/Ipsos poll this week showed Clinton 11 points ahead of the billionaire businessman    At the White House, spokesman Josh Earnest made clear that Obama believes an impartial investigation is crucial and noted that Lynch had said the conversation was benign.  \\xa0\\xa0\\xa0“I think the bottom line is simply that both the president and the attorney general understand how important it is for the Department of Justice to conduct investigations that are free of political interference,” Earnest told reporters.  U.S. Senator John Cornyn of Texas, the No. 2 Senate Republican, cited the incident in renewing his call for an independent counsel to take over the Clinton probe from the FBI. ']\n",
            "[' ']\n",
            "['The following timeline charts the origin and spread of the Zika virus from its discovery nearly 70 years ago: 1947: Scientists researching yellow fever in Uganda’s Zika Forest identify the virus in a rhesus monkey 1948: Virus recovered from Aedes africanus mosquito in Zika Forest 1952: First human cases detected in Uganda and Tanzania 1954: Virus found in Nigeria 1960s-80s: Zika detected in mosquitoes and monkeys across equatorial Africa 1969–83: Zika found in equatorial Asia, including India, Indonesia, Malaysia and Pakistan 2007: Zika spreads from Africa and Asia, first large outbreak on Pacific island of Yap 2012: Researchers identify two distinct lineages of the virus, African and Asian 2013–14: Zika outbreaks in French Polynesia, Easter Island, the Cook Islands and New Caledonia. Retrospective analysis shows possible link to birth defects and severe neurological complications in babies in French Polynesia March 2, 2015: Brazil reports illness characterized by skin rash in northeastern states July 17: Brazil reports detection of neurological disorders in newborns associated with history of infection Oct. 5: Cape Verde has cases of illness with skin rash  Oct. 22: Colombia confirms cases of Zika Oct. 30: Brazil reports increase in microcephaly, abnormally small heads, among newborns Nov. 11: Brazil declares public health emergency  November 2015-January 2016: Cases reported in Suriname, Panama, El Salvador, Mexico, Guatemala, Paraguay, Venezuela, French Guiana,  Martinique, Puerto Rico, Guyana, Ecuador, Barbados, Bolivia, Dominican Republic, Nicaragua, Curacao, Jamaica Feb. 1: World Health Organization (WHO) declares public health emergency of international concern Feb. 2: First case of Zika transmission in United States; local health officials say likely contracted through sex, not mosquito bite Feb. 5: U.S. Centers for Disease Control and Prevention says virus being actively transmitted in 30 countries, mostly in the Americas Feb. 8: U.S. President Barack Obama requests $1.8 billion to fight Zika Feb. 12: Brazil investigating potential link between Zika infections and 4,314 suspected cases of microcephaly. Of those, 462 confirmed as microcephaly and 41 determined to be linked to virus  Feb. 17: Brazil investigating potential link between Zika and 4,443 suspected cases of microcephaly. Of those, 508 confirmed as microcephaly and most of those cases are linked to the virus. WHO seeks $56 million to fight Zika. Feb. 18: CDC adds Aruba and Bonaire to countries and territories with active outbreaks, bringing total to 32. Feb. 23: CDC investigating 14 cases of possible sexual transmission of Zika. CDC also adds Trinidad and Tobago and Marshall Islands to countries and territories with active outbreaks, bringing total to 34. Feb. 25: Brazil says confirmed microcephaly cases number more than 580 and considers most of them to be related to Zika infections in the mothers. Brazil is investigating an additional 4,100 suspected cases of microcephaly. Feb. 27: France detects first sexually transmitted case of Zika.  Feb. 29: CDC adds St. Maarten, and Saint Vincent and the Grenadines to countries and territories with active outbreaks, bringing total to 36. March 1: Brazil says confirmed microcephaly cases rose to 641 and considers most of them to be related to Zika infections in the mothers. Brazil is investigating an additional 4,222 suspected cases of microcephaly. March 8: WHO advises pregnant women to avoid areas with Zika outbreak and said sexual transmission of the virus is “relatively common.” March 9: CDC adds New Caledonia to countries and territories with active outbreaks, bringing total to 37. March 15: Cuba reports first case of Zika contracted in the country. March 16: Cape Verde identifies first case of microcephaly. March 18: CDC says during Jan. 1, 2015 to Feb. 26, 2016, 116 residents of the United States had evidence of recent Zika virus infection based on laboratory testing. Brazil says confirmed microcephaly cases rose to 863 and considers most of them to be related to Zika infections in the mothers. Brazil is investigating an additional 4,268 suspected cases of microcephaly. March 19: CDC adds Cuba to countries and territories with active outbreaks, bringing total to 38. March 21: South Korea confirms first case of Zika. March 22: CDC adds Dominica to countries and territories with active outbreaks, bringing total to 39. Bangladesh confirms first case of Zika virus. Brazil says confirmed microcephaly cases rose to 907 and considers most of them to be related to Zika infections in the mothers. Brazil is investigating an additional 4,293 suspected cases of microcephaly. March 29: Brazil says confirmed microcephaly cases rose to 944 and considers most of them to be related to Zika infections in the mothers. Brazil said the number of suspected cases of microcephaly dropped slightly to 4,291. March 31: According to the World Health Organization, there is a strong scientific consensus that Zika can cause the birth defect microcephaly as well as Guillain-Barre syndrome, a rare neurological disorder that can result in paralysis, though conclusive proof may take months or years.  April 1: CDC adds Kosrae, Federated States of Micronesia to countries and territories with active outbreaks, bringing total to 40. April 4: CDC adds Fiji to countries and territories with active outbreaks, bringing total to 41. April 5: Vietnam reports first Zika infections. April 6: Brazil says confirmed microcephaly cases rose to 1,046 and considers most of them to be related to Zika infections in the mothers. The number of suspected cases of microcephaly dropped to 4,046. April 7: St. Lucia confirms first two cases of Zika, contracted locally. April 12: Brazil says confirmed microcephaly cases rose to 1,113 and considers most of them to be related to Zika infections in the mothers. The number of suspected cases of microcephaly dropped to 3,836. It was the second week in a row that the overall total figure fell. April 13: The U.S. Centers for Disease Control and Prevention concluded that infection with the Zika virus in pregnant women is a cause of the birth defect microcephaly and other severe brain abnormalities in babies. The CDC said now that the causal relationship has been established, several important questions must still be answered with studies that could take years. CDC adds St. Lucia to countries and territories with active outbreaks, bringing total to 42. April 14: Colombia confirms two microcephaly cases linked to Zinka. April 18: Peru reports first case of sexually transmitted Zika virus. CDC adds Belize to countries and territories with active outbreaks, bringing total to 43. April 19: Chilean authorities find Zika mosquito for first time in decades. April 25: Canada confirms first sexually transmitted Zika case. April 26: Brazil says the number of confirmed cases of microcephaly climbed to 1,198 from 1,168 in the week through April 23, but suspected ones under investigation continued to decline to 3,710 from 3,741 a week ago. Brazil registered 91,387 likely cases of the Zika virus from February until April 2, the health ministry said, in its first national report on the epidemic. April 29: Puerto Rico reports first death related to Zika, according to the CDC. The country also confirmed 683 Zika cases, including 65 pregnant women, and five suspected cases of Guillain-Barre syndrome from Zika, the CDC reported. May 4: Panama confirms four microcephaly cases tied to Zika. May 6: Spain gets first case of Zika-related brain defect in a fetus.       May 9: CDC adds Papua New Guinea, Saint Barthelemy and Peru to countries and territories with active outbreaks, bringing total to 46. Honduras suspects first case of microcephaly in Zika patient. May 11: Brazil says the number of confirmed cases of microcephaly dropped to 1,326 in the week through May 7 as doctors and Brazilian health officials find that some suspected cases of microcephaly are not the disorder. Suspected ones under investigation continued to decline to 3,433. May 12: CDC adds Grenada to countries and territories with active outbreaks, bringing total to 47. May 13: Puerto Rico reports first case of Zika-related microcephaly. May 20: WHO says an outbreak of Zika virus on the African island chain of Cape Verde is of the same strain as the one blamed for birth abnormalities in Brazil. May 24: Brazil reports the number of confirmed cases of microcephaly at 1,434 for the latest week to May 21. Suspected ones under investigation declined to 3,257. May 26: CDC adds Argentina to countries and territories with active outbreaks, bringing total to 48. June 9: WHO issues updated guidelines on prevention of sexual transmission of the Zika virus, including advising women living in areas where the virus is being transmitted to delay getting pregnant. June 14: El Salvador confirms first case of microcephaly linked to Zika. SOURCES: World Health Organization, U.S. Centers for Disease Control and Prevention, Reuters ']\n",
            "['Global health officials are racing to better understand the Zika virus behind a major outbreak that began in Brazil last year and has spread to many countries in the Americas.  The following are some questions and answers about the virus and current outbreak: How do people become infected? Zika is transmitted to people through the bite of infected female mosquitoes, primarily the Aedes aegypti mosquito, the same type that spreads dengue, chikungunya and yellow fever. The Pan American Health Organization (PAHO) said Aedes mosquitoes are found in all countries in the Americas except Canada and continental Chile, and the virus will likely reach all countries and territories of the region where Aedes mosquitoes are found. How do you treat Zika? There is no treatment or vaccine for Zika infection. Companies and scientists are racing to develop a safe and effective vaccine for Zika, but the World Health Organization (WHO) had said it would take at least 18 months to start large-scale clinical trials of potential preventative shots. How dangerous is it? The U.S. Centers for Disease Control and Prevention concluded that infection with the Zika virus in pregnant women is a cause of the birth defect microcephaly and other severe brain abnormalities in babies. The CDC said now that the causal relationship has been established, several important questions must still be answered with studies that could take years. According to the World Health Organization, there is strong scientific consensus that Zika can cause the birth defect microcephaly in babies, a condition defined by unusually small heads that can result in developmental problems. In addition, the agency said it could cause Guillain-Barre syndrome, a rare neurological disorder that can result in paralysis. Conclusive proof of the damage caused by Zika may take months or years. Brazil reports the number of confirmed cases of microcephaly at 1,434 through May 21 as doctors and Brazilian health officials find that some suspected cases of microcephaly are not the disorder. Suspected ones under investigation declined to 3,257. Colombia confirmed two cases of microcephaly linked to Zika. Brazil registered 91,387 likely cases of the Zika virus from February until April 2. Current research in Brazil indicates the greatest microcephaly risk is associated with infection during the first trimester of pregnancy, but health officials have warned an impact could be seen in later weeks. Recent studies have shown evidence of Zika in amniotic fluid, placenta and fetal brain tissue. What are the symptoms of Zika infection?     People infected with Zika may have a mild fever, skin rash, conjunctivitis, muscle and joint pain and fatigue that can last for two to seven days. But as many as 80 percent of people infected never develop symptoms. The symptoms are similar to those of dengue or chikungunya, which are transmitted by the same type of mosquito. How can Zika be contained? Efforts to control the spread of the virus focus on eliminating mosquito breeding sites and taking precautions against mosquito bites such as using insect repellent and mosquito nets. U.S. and international health officials have advised pregnant women to avoid travel to Latin American and Caribbean countries where they may be exposed to Zika. Cases of sexual transmission have also been reported, prompting health officials to advise use of condoms, or abstaining from sex, to prevent infection between partners. How widespread is the outbreak? Active Zika outbreaks have been reported in at least 48 countries or territories, most of them in the Americas, according to the U.S. Centers for Disease Control and Prevention (CDC). Brazil has been the country most affected. (1.usa.gov/1ovAJyh) Africa (1): Cape Verde  Americas (39): Argentina, Aruba, Barbados, Belize, Bolivia, Bonaire, Brazil, Colombia, Costa Rica, Cuba, Curaçao, Dominica, Dominican Republic, Ecuador, El Salvador, French Guiana, Grenada, Guadeloupe, Guatemala, Guyana, Haiti, Honduras, Jamaica, Martinique, Mexico, Nicaragua, Panama, Paraguay, Peru, Puerto Rico, Saint Barthelmy, Saint Lucia, Saint Martin, Saint Vincent and the Grenadines, St. Maarten, Suriname, Trinidad and Tobago, U.S. Virgin Islands and Venezuela Oceania/Pacific Islands (8): American Samoa, Fiji, Kosrae, Federated States of Micronesia, Marshall Islands, New Caledonia, Papua New Guinea, Samoa, and Tonga.  What is the history of the Zika virus? The Zika virus is found in tropical locales with large mosquito populations. Outbreaks of Zika have been recorded in Africa, the Americas, Southern Asia and the Western Pacific. The virus was first identified in Uganda in 1947 in rhesus monkeys and was first identified in people in 1952 in Uganda and Tanzania, according to the WHO.  Can Zika be transmitted through sexual contact? The World Health Organization (WHO) said sexual transmission is “relatively common” and has advised pregnant women not to travel to areas with ongoing outbreaks of Zika virus. It also  advised women living in areas where the virus is being transmitted to delay getting pregnant. The U.S. CDC is investigating about a dozen cases of possible sexual transmission. All cases involve possible transmission of the virus from men to their sex partners. The WHO has also identified Zika cases in Argentina, Chile, France, Italy and New Zealand as likely caused by sexual transmission.  British health officials reported Zika was found in a man’s semen two months after he was infected, suggesting the virus may linger in semen long after infection symptoms fade. The PAHO said Zika can be transmitted through blood, but this is an infrequent transmission mechanism. There is no evidence Zika can be transmitted to babies through breast milk. What other complications are associated with Zika? Zika has also been associated with other neurological disorders, including serious brain and spinal cord infections. The long-term health consequences of Zika infection are unclear. Other uncertainties surround the incubation period of the virus and how Zika interacts with other viruses that are transmitted by mosquitoes, such as dengue. ']\n",
            "['WASHINGTON - Republican presidential candidate Donald Trump said a U.S. jobs report on Friday that showed the weakest hiring in more than five years proved that Democratic economic policies are pushing the country in the wrong direction. The report gave Trump his biggest opening yet to target Democratic rival Hillary Clinton on the economy, after months of mostly solid economic indicators. “It’s going the wrong way folks. They’ve been kidding themselves, they’re playing games. It’s going the wrong way,” Trump told a rally in Redding, California. Clinton, the front-runner to be the Democratic nominee for the Nov. 8 election, has credited President Barack Obama for reviving the U.S. economy after the 2008 recession but has also said that the recovery is not over. In a CNN interview, Clinton acknowledged the figures were “disappointing to anybody.” “I think President Obama inherited a terrible situation and I’ve said that repeatedly over the past year and we’ve come a long way out of the ditch we were dropped into by failed Republican policies,” Clinton told CNN’s Jake Tapper. The unemployment rate in May fell three-tenths of a percentage point to 4.7 percent, the lowest level since November 2007, but that was in part due to people dropping out of the labor force. Overall, nonfarm payrolls increased by only 38,000 jobs in May.  If disappointing jobs reports continue, Trump could use Clinton’s pledge to build on Obama’s work against her to woo working-class voters in states such as Ohio. The state has lost well-paying manufacturing jobs and is also a key presidential battleground - closely competitive because it does not lean heavily Republican or Democratic. Clinton, a former secretary of state, is likely to finally clinch the Democratic nomination over challenger Bernie Sanders on Tuesday when six states hold nominating contests. One is California, the most populous U.S. state, with the most Democratic delegates of any other state and where both candidates have been campaigning heavily. In a Reuters/Ipsos poll released on Friday, some 46 percent of likely voters said they supported Clinton, while 35 percent said they supported Trump, and another 19 percent said they would not support either. The survey of 1,421 people was conducted between May 30 and June 3. Trump, a real estate developer, has already sewn up the Republican nomination. In the general election campaign, job creation plans are expected to be a priority, particularly in states that have been hit hard by manufacturing-sector job losses.  Trump has promised to toss out international trade deals to revive U.S. manufacturing and sweep away a slew of environmental regulations to bolster the ailing energy sector.  Job creation in the manufacturing and construction sectors fell sharply in May, according to Friday’s jobs report.  Trump has already begun working economic numbers into his stump speeches. He has said he could put 15 states that have voted for Democratic presidents in recent elections in play, including Pennsylvania, Ohio and Michigan, which have all lost manufacturing-sector jobs. Peter Morici, a conservative economist and professor in the business school at the University of Maryland, said the poor jobs numbers reflected trends that have driven voter frustration and fueled the populist campaigns of both Trump and Sanders.  He said Trump needed to add detail to his economic policies, such as detailing changes to social programs like Medicaid, which provides healthcare for the poor. “We can’t just turn around and cut income taxes without doing something about those things,” Morici said. Republican strategists agreed that Friday’s jobs report created an opportunity for Trump to differentiate his policies from Obama’s or Clinton’s. “It allows Donald Trump to tout how he would do things differently as president and focus on some of the job-creation plans that he has,” Republican strategist Ron Bonjean said, adding it would also allow Trump to talk about his record as a businessman.     Trump has been fleshing out his foreign policy ideas and has released a tax plan, but he has been light on other details, such as how he would oversee the U.S. financial system. ']\n",
            "['It’s the near future, and North Korea’s regime is on the brink of collapse. As rumors swirl of palace coups, forces on both sides of the world’s most militarized border are on heightened alert. The U.S. military faces a much bigger problem. Somewhere in the Pacific, a North Korean submarine is believed to be carrying nuclear warheads and the missiles to deliver them. And nobody knows where it is.  It sounds like the plot of a “Hunt for Red October”-style technothriller. But if Pyongyang’s technicians continue at their current pace, experts say it is becoming ever more likely.  One thing is certain: North Korea is plowing considerable resources into building its nuclear capability. And it is clearly making progress – even if Tuesday’s failed missile test shows it still has a long way to go.  Japanese officials said what appeared to be a conventional Musudan rocket, which theoretically has the ability to reach Japan and the U.S. territory and military base of Guam, exploded either as or shortly after it left its launcher. North Korea is estimated to have some 20 to 30 of the missiles – first deployed in 2007, but yet to be launched successfully.  What North Korean leader Kim Jong Un wants, most analysts believe, is simple – a rocket that can fire a nuclear warhead at least to regional targets. His ultimate ambition, however, is to be able to hit U.S. cities on the West Coast, most likely from a submarine that could hide itself at sea.  North Korea has been steadily improving its rockets – which can also carry conventional explosives – for decades. It detonated its first nuclear device in 2006 but most experts believe it has yet to build one small enough to be placed on a missile. Having the credible ability to do all of that and get the missiles to sea could take well over a decade, perhaps considerably more.  Once it happens, however, it will be a strategic game changer. At worst, U.S. cities on the West Coast would have to deal with the prospect, however remote, that they might be struck by a North Korean atomic weapon. At the very least, a North Korea armed with nuclear submarines would hugely complicate the calculus for any U.S. president handling a crisis on the Korean peninsula itself.  That, of course, is exactly the plan.  The fact that Pyongyang has conducted so many tests this year, some experts believe, suggests Kim is pushing his scientists harder than ever to deliver working rockets and warheads. North Korea is believed to have tagged the expertise of Russian Cold War-era scientists, and while its capabilities on both fronts lag well behind established nuclear states such as Russia and China, it is already believed to be well ahead of Iran.  In April, South Korean and U.S. officials said a North Korean submarine successfully launched a ballistic missile that traveled some 18 miles — a major step forward.  Technical experts say TV footage appeared to show a solid fuel rocket successfully launching from underwater, essentially the same system used by Western forces to achieve the same goal.  When she testified before the Senate Armed Services Committee in April, the incoming head of the U.S. Northern Command – responsible for defending the mainland United States – delivered a stark warning.  “The North Korean threat is real,” U.S. Air Force General Lori Robinson – previously head of U.S. air forces in the Pacific – told lawmakers. “For now, it’s a medium range but they are trying very hard to be able to hit the homeland.”  It’s impossible to know exactly how much money and expertise the North Koreans are expending. The scale of the effort, however, is seen as large – in many ways, the same level of commitment the United States gave to the Manhattan Project to build the world’s first atomic bomb during World War Two. Pyongyang’s reason is clear: building that kind of credible ability to strike is seen as central to the long-term survival of the Kim dynasty and its ruling party.  Earlier this month, at the first meeting of its ruling party in 36 years, Kim said North Korea was a responsible nuclear weapons state and would never use its weapons – unless it were threatened. That seemed a clear warning to outside powers, particularly Washington, to steer clear of any attempts to destabilize or attack the regime.  Getting a submarine-based deterrent would be a very big deal – and not just because it might allow the North Koreans to move the launch point much closer to the target. Submarines are central to what nuclear weapons states call a “second strike” capability, the ability to launch missiles even in the aftermath of an overwhelming and perhaps surprise preemptive attack.  The United States, Russia, Britain and France all retain what they call a “continuous at sea deterrent,” at least one submarine offshore at all times ready to fight back even if the homeland and all other military forces are completely taken out. Israel is also believed to have the ability to mount nuclear cruise missiles on its Dolphin-class conventional submarines, while China is now moving quickly towards new ballistic missile submarines for its own at sea deterrent.  This technology isn’t new – the United States and Russia developed it in the late 1950s based in part on plans originally developed to hit Nazi German U-boats in the dying days of World War Two. There is no good reason it should not eventually work for North Korea, too.  If and when it does, Pyongyang is likely to try to keep its submarines very close to its coasts—and its home defenses—at first. Still, once the first nuclear-armed submarine exists, Japan and the United States might feel political pressure to destroy it.  That would come with considerable risks. The North is known to have huge volumes of conventional artillery based along the South Korean border, much of it in range of Seoul and its 10 million residents. The risk of those weapons inflicting massive casualties is one of the key factors that has deterred multiple U.S. administrations from considering the kind of preemptive strike on Pyongyang’s weapons programs that the United States has threatened against Iran.  The Korean War – frozen by its 1953 cease-fire but never otherwise resolved – may not be over yet.  ']\n",
            "['WASHINGTON - Former U.S. Republican presidential candidate Marco Rubio on Sunday ruled out becoming Donald Trump’s vice presidential running mate, but said he’d be “honored” to play some kind of a role in helping him win the White House. Rubio, who clashed bitterly with Trump in the brutal race for the Republican nomination, said his policy differences with the real estate mogul were too great for Rubio to join the ticket. “I wouldn’t be the right choice for him,” Rubio said in an extensive interview with CNN’s “State of the Union” program. “Donald deserves to have a vice president - he’s earned the nomination - and he deserves to have a running mate that more fully embraces some of the things he stands for.” Rubio, a U.S. senator from Florida, ended his White House bid in March after an embarrassing loss in his home state. Trump, who has practically ensured he will emerge as the nominee from the Republican convention in July, derided Rubio as a lightweight and dubbed him “Little Marco.”  Rubio called the real estate mogul a con artist and quipped about his small hands, a charge that Trump took to mean as questioning the size of his manhood. Rubio and Trump differed sharply on policy issues, with Trump eschewing the interventionist approach favored by Rubio and Rubio criticizing Trump’s call for temporarily banning the entry of Muslims into the United States. Ahead of the July 18-21 Republican convention, Trump has sought to unify the party behind him and gain the backing of other prominent party figures. Rubio said he expected to attend the convention and did not rule out a speaking role. He said he wanted to be helpful to Trump’s presidential run because he wants to see likely Democratic nominee Hillary Clinton defeated in the Nov. 8 U.S. election. “I don’t want Hillary Clinton to be president. If there’s something I can do to help that from happening and it’s helpful to the cause I’d most certainly be honored to be considered for that,” Rubio said. In another olive branch to Trump, Rubio said he regretted making the “small hands” remark about his former foe. “I actually told Donald at one of the debates. I forget which one - I apologized to him for that,” Rubio said. “I said ‘I’m sorry that I said that.’ It’s not who I am. And I shouldn’t have done it.” ']\n",
            "['LONDON/WASHINGTON - Republican presidential candidate Donald Trump said on Friday that British Prime Minister David Cameron had asked him to visit, but a UK spokesman said no invitation had been extended. The apparent crossed signals were the latest sign of tension between the presumptive Republican Party nominee and the leader of a major U.S. ally, who has criticized Trump’s call for a temporary ban on Muslims entering the United States. Trump, in a morning interview with MSNBC, said Cameron extended the invitation to visit 10 Downing Street two days ago and that he “might do it.” He gave no other details. A spokesman for Cameron’s office said it was a longstanding practice for the prime minister to meet with the Republican and Democrat presidential nominees if they visited Britain.  “Given the parties have yet to choose their nominees, there are no confirmed dates for this,” the spokesman said. However, a Downing Street source said a formal invite would not be sent out to presidential candidates.        Trump’s comments followed a transatlantic exchange between the two men over Cameron’s criticism.  In December, Cameron called Trump “divisive, stupid and wrong” and suggested Trump would unite Britain against him if he visited the United Kingdom.  After Trump clinched his party’s nomination this month, Cameron acknowledged the achievement but said he stood by his earlier comments and would not apologize.  Trump fired back this week, saying on Monday that he was likely not to have a good relationship with Cameron.    But the next day he said he expected to have “a good relationship” and on Friday Trump said Cameron had invited him to London. “I will do just fine with David Cameron. I think he’s a nice guy. I will do just fine,” Trump told MSNBC. “But they have asked me to visit 10 Downing Street - and I might do it.” Cameron has said he will work with the winner of the Nov. 8 U.S. presidential election and is committed to maintaining the special U.S.-UK relationship, his spokesman has said. Trump’s proposed ban also drew criticism from Sadiq Khan, who was elected mayor of London this month and is the first Muslim to hold the post. Khan said last week that Trump’s “ignorant view of Islam could make both our countries less safe.” ']\n",
            "['NEW YORK - Presumptive Republican nominee Donald Trump told Reuters in a wide-ranging interview on Tuesday that he would be willing to talk to North Korean leader Kim Jong Un to try to stop Pyongyang’s nuclear program. He also called for a renegotiation of the Paris climate accord and said he would dismantle most of the Dodd-Frank financial regulations if he is elected president. Here are excerpts of the interview. On speaking to Kim Jong Un: “I would speak to him. I would have no problem speaking to him. At the same time, I would put a lot of pressure on China because economically we have tremendous power over China. People don’t realize that. They are extracting vast billions of dollars out of our country. Billions. And we have tremendous power over China. China can solve that problem with one meeting or one phone call.” On breaking up big banks:  “The big banks aren’t big banks compared to other big banks. In other words if you look at the big banks in Germany or if you look at the big banks in China, I have the biggest bank in the world right downstairs four or five floors below us. ... If we make our big banks too much not big, they won’t be able to compete with the banks from China and the banks from Germany and other big banks.” On repealing Dodd-Frank:  “I’m going to be making a statement about this in approximately two weeks having to do with Dodd-Frank. Much of it is very bad. Much of it gives so much power to the regulators that the bankers are unable to function.” “Dodd Frank has made it impossible for bankers to function. ... It makes it very hard for bankers to loan money for people to create jobs, for people with businesses to create jobs. And that has to stop. And will there be bad loans made? Yes, but there are bad loans made now with Dodd-Frank, OK, I mean all you have to do is take a look.” “The rules and regulations of Dodd Frank have made it so impossible to carry out business and to, especially with respect to lending to businesses who are going to employ a lot of people. So I’m going to make a statement about it. But Dodd-Frank – I mean there are some things in Dodd-Frank that can stay but overall Dodd-Frank has been very bad.” On tech stocks: “You have a stock market that is very strange. Could be a little bit similar to, would you say it’s nine years ago now? I guess it’s sort of nine years ago. But you know, you look at some of these tech stocks that are so, so weak as a concept and a company and they’re selling for so much money. And I would have said can that ever happen again? I think that could happen again.” “I’m talking about companies that have never made any money, that have a bad concept and that are valued at billions of dollars. So here we go again.” On auditing the Fed:  “I think number one, the Federal Reserve should be audited. You know, they’re not auditing it. And so far not too many people have been able to tell me why. I’m not one that says we should get rid of the Federal Reserve because I think the Federal Reserve has an important function, but it should certainly be audited and ... we should at least watch what they’re doing from the dollar standpoint.” On timing for audit-the-Fed legislation:  “It’s not my highest priority. I have other priorities like rebuild our military. ... It’s not my number one priority. But certainly it’s one of the things that we’ll be doing.” On replacing Fed Chair Janet Yellen:  “I’m not a person that thinks Janet Yellen is doing a bad job. I happen to be a low interest rate person, unless inflation rears its ugly head, which could happen at some point. It doesn’t seem like it’s happening any time soon. I don’t think I want to at this point - I mean, number one, she’s got time left.” “I would rather have a Republican in the position, but I am not the enemy of Janet Yellen. ... Look, if interest rates were raised and if the dollar went up more, we’d be doing no business. We’re being killed by other countries devaluing their currencies.” On the Paris accords: “Not a big fan. No. Not a big fan because other countries don’t adhere to it and China doesn’t adhere to it, and China’s spewing into the atmosphere.” “Take a look at China with certain agreements where they have to do it within 30 years, and we have to do it almost immediately. You understand what I mean by that? The agreements are not fair agreements, number one. And I would say that I will be looking at that very, very seriously, and at a minimum, I will be renegotiating those agreements. At a minimum. Ok? And at a maximum, I may do something else. But those agreements are one-sided agreements, and they’re bad for the United States.” On devaluation of the yuan: “China was in big trouble a year ago, now all of a sudden they cut their currency. They’re taking more business out of the United States. ... China, whenever they have a problem, they devalue their currency. And they take more money out of the United States. Jobs, money, product.” Trade: “We cannot allow China and other countries to rip the soul out of our country. And they will understand that.” South China Sea: “They’re building a massive fortress in the South China Sea. They’re not supposed to be doing that.”  On Russian presence in Ukraine: “I don’t like it. I don’t like it at all.” On Russian President Vladimir Putin: “Putin made very nice statements about me. Very strong, very nice statements. I think that’s not a bad thing, that’s a good thing.  I think I’ll have a good relationship with Russia, and I may not. And the fact that he’s said good things about me doesn’t mean that, you know, it’s going to help him in a negotiation. It won’t help him at all. And I’ll know pretty soon in whether or not I’ll have a good relationship with Russia. But wouldn’t it be wonderful if we actually did have a good relationship with foreign countries as opposed to the way they’re treating us now?” “Everyone knows. You know on Nov. 1, they’re going to announce new - the numbers are going to come out for Obamacare. They are going to be catastrophic.” “It’s beyond terrible healthcare. And Obamacare in ‘17 collapses. Don’t forget, Obama pushed everything to ‘17 because he’ll be out on the golf course. He’ll be playing a nice round of golf someplace. Obamacare is part of the bubble problem. Now, we’re going to terminate Obamacare, and we’re going to replace it with something much better and much less expensive.” “Well, the lines are very important. The lines meaning the state borders. These people are protected from competition. And you go to these states and they have - it’s almost like a monopoly in many of the states. You have to get rid of the lines. And they almost did it with Obamacare. It almost worked out. “ “I think that Medicaid should be sent to the states. Ok? Let them work it.” “It’s very important that we protect Social Security and our Medicare without cuts. And I’m the only Republican that says that.”   “I think he was inappropriate. I think he was totally inappropriate. He’s got plenty of problems, and I think he was inappropriate. So that’s fine... I’m sure I’ll have a good relationship with him.”  ']\n",
            "['WASHINGTON, 2016 - A top aide to Donald Trump said on Sunday he did not believe the Republican presidential front-runner posed as his own spokesman to brag about his personal life, a controversy that came as Democrats sharpen their attacks on the billionaire’s character.  The Washington Post released an audio recording on Friday of a man who identified himself as Trump publicist “John Miller” and talked about the real estate tycoon’s romantic encounters in a 1991 conversation with a People magazine reporter. After listening to the tape while appearing on CNN’s “State of the Union” show, senior Trump adviser Paul Manafort said he did not believe it was the Republican candidate’s voice despite his past admissions of sometimes using a pseudonym.  “I could barely understand it,” Manafort said. “I couldn’t tell who it is. Donald Trump says it’s not him, I believe it’s not him.” Trump told NBC’s “Today” show on Friday that the voice was not his, although he has admitted in years past to using at least one pseudonym to speak to reporters.  The original People article, which ran in 1991, winkingly described Miller as “a mysterious PR man who sounds just like Donald.” Within a few days of that article, Sue Carswell, the People reporter who originally made the recording, reported that Trump had admitted that he posed as Miller as a joke and had apologized for it. Trump earlier this month effectively locked up the Republican nomination to run in the Nov. 8 presidential election and has been working to try to unify his party after many of its leaders opposed his candidacy. Leading Democratic presidential candidate Hillary Clinton’s allies have described Trump as “deceptive” and honed in on his treatment of women. Clinton has begun attacking Trump more aggressively since he effectively secured the nomination, deriding his character and recently suggesting he is hiding something by not releasing his tax returns. Trump has reacted angrily to criticism he sometimes reduces women to their appearances, and in turn has criticized Clinton for how she and her husband, Bill Clinton, treated women who accused the former president of sexual indiscretions. Bill Clinton has admitted to having extra-marital affairs with two women: Monica Lewinsky, a White House intern, and Gennifer Flowers, a singer and actor from Arkansas.   On Sunday, Trump used his Twitter account to deride a New York Times article in which several women said he had “unnerved” them over the years with comments about their looks and unwelcome advances. The article also said he had a good track record of promoting women to senior positions, which was rare in the real estate industry. “Everyone is laughing at the @nytimes for the lame hit piece they did on me and women,” went one message posted on Trump’s account on Sunday. Democratic President Barack Obama used a commencement speech at a university on Sunday to criticize Trump’s positions, including a proposal to temporarily ban non-American Muslims from entering the United States. “Isolating or disparaging Muslims, suggesting that they should be treated differently when it comes to entering this country, that is not just a betrayal of our values, that is not who Americans are,” he told the students at Rutgers University in New Jersey.  Although it was widely reported in the early 1990s that Trump sometimes posed as a fake spokesman in order to shape media coverage, the recording of what is said to be such an occurrence only emerged a few days ago. It quickly rippled through American media. The comedy television program “Saturday Night Live” showed a skit with an actor posing as Trump calling reporters pretending to be his own spokesman, named John Pepperoni. Trump’s willingness to pose as a fake spokesman first emerged in 1990, when he testified during a lawsuit that he had used the pseudonym John Baron, sometimes rendered in news reports as John Barron, when speaking to journalists by telephone. “Lots of people use pen names,” Newsday quoted Trump as saying after his testimony. “Ernest Hemingway used one.”  ']\n",
            "['GOP leaders have unleashed a stunning level of vitriol against their party’s most successful presidential candidate.  House Speaker Paul Ryan (R-Wis.), emphatically declared last week that he was not ready to endorse Donald Trump, his party’s presumptive presidential nominee. This move was unprecedented in modern American history. Trump’s response was that Ryan may need to be replaced as head of the Republican National Convention.  Ryan’s rebuke reminds Americans that Trump is deeply unpopular, particularly among a significant number of powerful Republicans. Former GOP presidential nominee Mitt Romney belittled the GOP’s new leader as a moral cretin unfit to be the standard bearer. Former President George W. Bush and his father, President George H.W. Bush, both say they are not attending the GOP convention in Cleveland.  Such attacks, however, are nothing new.  Political elders have lambasted their party’s leading presidential contenders throughout U.S. history. The big difference now is that this battle is playing out in public. In the past, attacks were largely in party backrooms, behind closed doors.  To be sure, some serious breaks have been acted out in public. With dire results. President Theodore Roosevelt, for example, realized in 1912 that his progressive agenda was being abandoned by his chosen successor, William Howard Taft. TR challenged Taft in the Republican primaries. “We stand at Armageddon,” Roosevelt thundered at the convention, “and we battle for the Lord!”  When Taft prevailed, Roosevelt bolted the party. He ran as a third-party candidate in 1912 on a Progressive Party ticket. Ultimately, the Democratic nominee, Woodrow Wilson, won.  In most other cases, however, the internecine bloodletting took place in private, preserving the appearance of party unity and making it easier to heal any rifts.  The 1944 Republican nominee Thomas Dewey ignored former President Herbert Hoover at an important state funeral that October and drew the national leader’s ire. “Dewey has no inner reservoir of knowledge on which to draw for his thinking.” Hoover sneered to a friend. “A man couldn’t wear a mustache like that without having it affect his mind.”  Hoover, though, sought to keep his beliefs private  Former presidents have kept mum even when they see a nominee as a threat to their legacy. In 1964, for example, former President Dwight D. Eisenhower didn’t have much regard for Senator Barry Goldwater. The conservative firebrand had repudiated Eisenhower’s presidency as a “dime-store New Deal.” Nonetheless, Eisenhower gave only halting support to the party’s anti-Goldwater forces. Despite Eisenhower’s contempt, the Arizonan became the Republican nominee, only to lose in a landslide to President Lyndon B. Johnson.  Four years earlier, the Democratic power brokers were not as reticent. They viewed Senator John F. Kennedy, their party’s leading candidate in 1960, as too conservative and inexperienced. They disliked the campaign role of Joseph Kennedy, JFK’s father, and his controversial past. In addition, party leaders worried that JFK could not win national office because he was a Catholic.  During the primaries, Truman, the titular head of the party, told a TV news conference that a nominee should have “the greatest possible maturity and experience” -- a clear dig at JFK’s relative youth. The former president beseeched his party to hold a brokered convention and find a way to avoid nominating Kennedy. Eventually, however, Truman endorsed Kennedy in the general election, reasoning that GOP nominee Richard M. Nixon was worse  Adlai Stevenson, the Democratic nominee in 1952 and 1956, also refused to back Kennedy during the primary. Even Kennedy’s promise to name Stevenson as secretary of state could not persuade him.  Still, most of the party elders’ scathing criticism against JFK was confined to backroom conversations. Senate Majority Leader Lyndon B. Johnson, who also wanted the nomination, privately mocked Kennedy as “a scrawny little fellow with rickets.” Johnson urged Eisenhower to oppose Kennedy during the primary contest, calling him “a [Senate] nobody” and “a dangerous man.”  But Johnson’s efforts to stop Kennedy were not aired before the country in real time. In fact, 1960 demonstrated how the Democratic elders were able to prevent serious rifts from destroying their party’s chances. After securing the nomination, JFK offered — and LBJ accepted — the second slot on the ticket.  The resentment of party elders toward party nominees was often rooted in a sense that the candidate was repudiating a mentor’s record. In the 1960 GOP presidential race, for example, Eisenhower resented Vice President Nixon’s implication that he would offer more robust leadership. Close to Election Day, Ike was asked to name an instance when Nixon’s advice influenced a presidential decision. “If you give me a week,” Eisenhower replied, “I might think of one.”  In the reverse situation, Vice President Al Gore sought to distance himself from President Bill Clinton during the 2000 presidential campaign. Gore declared in his announcement that he would provide “moral leadership” and defend the American family — not-so-subtle knocks against Clinton’s sexual relationship with a White House intern, Monica Lewinsky. The bitterness between the two men festered and Gore never asked Clinton to campaign with him. After Gore lost to George W. Bush, Clinton upbraided his former vice president for running a lame, visionless campaign.  The current spectacle — in which former Senator Bob Dole will likely be the only past Republican presidential nominee to come to the convention and endorse the party’s standard bearer — is partly a function of Trump’s scorched-earth multi-media campaign. His attacks have been leveled personally, in real-time, via Twitter and cable news. Wounds are deeper, and could be harder to heal.  Trump’s presidential primary campaign is the apotheosis of the anti-Washington mood that has gripped presidential politics since Jimmy Carter’s 1976 White House run. One reason Trump vanquished his foes was because he ran against the GOP’s leadership as out-of-touch and inept.  This played out even as party elders have less power to shape national tickets — and outsiders more ability to tear down anything that smacks of Washington politics-as-usual.  Republican-on-Republican hits on Trump and his main rival, Ted Cruz, have contributed to the fraying of the GOP. The anti-Trump former presidents, as well as current and former party chairmen and congressional leaders, have much at stake. They are fighting for, as they see it, their legacies, their party’s future, their professional identities — and their own power.  In recent decades, party elders have been clinging to an increasingly tenuous position. Think former Majority Leader Eric Cantor, who lost a primary election, as Sarah Palin recently noted. Or former House Speaker John Boehner, who was unable to control his party’s Tea Party wing. Boehner is still so incensed that he called Senator Ted Cruz (R-Tex.) “Lucifer in the flesh.” As we are seeing now with Ryan, Trump’s ferocious public attacks could yet come back to haunt him. Unlike so many past presidential primaries, this rift might prove irreparable.  ']\n",
            "['CLEVELAND/NEW YORK - Bracing for a general election fight with Donald Trump, Democratic presidential front-runner Hillary Clinton and her allies are putting resources into industrial states such as Ohio and Pennsylvania to try to block Trump from making inroads with working-class voters there. Labor leaders, progressive groups and Democratic operatives told Reuters in interviews that they took seriously Trump’s appeal with white working-class voters and were studying how to respond to his promises to create jobs and negotiate better trade deals. The desire to stop the presumptive Republican presidential nominee from wresting away the support of unionized workers has even led a group organized to back Bernie Sanders, Labor for Bernie, to consider its next steps if Sanders does not win the Democratic nomination. “It may well be our task to work hard to reach out to our (labor union) members who support Trump and begin an important dialogue,” said Rand Wilson, a staunch Sanders supporter and Labor for Bernie spokesman. The Rust Belt, which includes Ohio, Pennsylvania, Michigan, Illinois, Wisconsin, Indiana and West Virginia, has suffered heavy job losses in sectors such as autos, coal and steel that have faced fierce competition from abroad. The region, home to many unionized workers, has been a stronghold for Democrats. The exceptions are socially conservative West Virginia, which has gone Republican in the past four presidential elections, and Indiana, which has gone Democratic only twice since 1940. Ohio has switched back and forth. Trump has aggressively courted working-class voters ahead of the Nov. 8 election to succeed Democratic President Barack Obama. He has criticized the North American Free Trade Agreement (NAFTA) and promised to rip up the Trans-Pacific Partnership (TPP) trade deal. He has also said he will consider raising the minimum wage and backing higher taxes on the wealthy.  On Monday, Trump sought to backtrack from those comments on taxes. “Now if I increase it on the wealthy, that means they’re still going to be paying less than they are paying now,” he told CNN. “I’m talking about increasing it from my (original) tax proposal.” Trump campaign manager Corey Lewandowski told Reuters the campaign was targeting industrial states like Pennsylvania and Michigan, which have voted Democratic in presidential elections since 1992. Working America, an advocacy group affiliated with the AFL-CIO labor federation, is expanding operations in states like Ohio and Pennsylvania and plans to open an office in Wisconsin. Its first mission is talking to voters about jobs and the economy and trying to gauge where they are leaning in the presidential race. Later in the campaign, the group will work more aggressively to win over voters. In Ohio, the Democratic Party has doubled its field operation over the past month, thanks to an infusion of cash raised by the Clinton campaign for the national and state parties. Clinton, who has a strong lead over Sanders but has yet to secure the Democratic nomination, has already hired state directors in Ohio and Pennsylvania. Working America field director Soren Norris knocked on doors on the west side of Cleveland last week as part of an effort to gauge voter sentiment. At the first house, Tamara Phillips, 44, told Norris she was not enthusiastic about either Clinton or Trump but that she would vote for the New York businessman if forced to choose. Phillips, who works in publishing, said taxes on her commission income rose during former President Bill Clinton’s administration. But she said she had reservations about Trump’s “gruff” demeanor. With an eye toward voters across the Rust Belt, Clinton visited Appalachia last week with stops in West Virginia and Ohio. She apologized for previous statements related to shutting down the coal industry and told protesters she was committed to solving their economic problems even if they did not support her. Union activists said their strategy for undercutting Trump’s support would be pointing out discrepancies in his positions. His comment that he is open to raising the minimum wage comes after he said in a November debate that “wages are too high” and that an increase would hurt the economy. Although Trump rails against trade deals and businesses that move operations to Mexico, critics say that items such as ties and suits in his clothing line were made in China. “The best way to go after Trump is to make him run against himself,” said political strategist Brad Bannon, who advises labor unions. Tom Buffenbarger, a Clinton surrogate to labor and the past president of the machinists’ union, said Democrats would have “a lot of fun” highlighting Trump’s inconsistencies, although he acknowledged the Republican candidate presented a threat in some Rust Belt states. “Are we concerned about the industrial states in the upcoming election?” Buffenbarger said. “Yeah, Donald Trump’s done a good job complaining about the trade deal while he continues to ship work from the U.S. to China.” ']\n",
            "['Caitlyn Jenner posted a video on Wednesday (April 26) of herself using a women’s bathroom at Republican Presidential candidate Donald Trump’s New York hotel. Published on her Facebook page, Jenner’s video shows her walking along the street, entering the Trump International Hotel and Tower and making her way to the restrooms. The video was spurred on by Trump, who, during an appearance on The Today Show last week, said in an interview that he would not care if Jenner used the women’s room at his properties. His comment came following the trending topic of so-called “bathroom bills,” like the one passed in North Carolina, which prohibits transgender people from using bathrooms consistent with their gender identity.']\n",
            "['WASHINGTON/NEW YORK - Democratic presidential front-runner Hillary Clinton has spent about $15 per vote so far in the race for the party’s nomination, less than her rival Bernie Sanders, who spent $22, according to campaign finance reports filed on Wednesday. Clinton’s efficiency with money could offset concern among some of her backers that Sanders, the U.S. Senator from Vermont, has outraised her in each of the last two months as he wages a fierce fight to get onto the presidential ballot. The former first lady’s campaign has spent a total of $157.8 million since launching last April and has yielded a total of 10.4 million votes in state nominating contests. That includes $28.7 million for 8.7 million votes in March, the filings show. Sanders, in turn, has spent $168.4 million since launching his bid for the White House, while netting 7.7 million votes. Sanders’ campaign has often touted its ability to tap a large number of small donors to outraise Clinton. In March, Sanders pulled in nearly $46 million from 900,000 people, with an average donation of just over $26, it said. That compared to $29.3 million for Clinton in March, from 400,000 people.  Some 96 percent of Sanders’ donors have given less in total than the $2,700 maximum, according to his campaign, meaning he can go back to them for more funds.  Some of Clinton’s backers say they are nervous about her campaign’s fundraising strategy of relying heavily on donors who are able to write big checks, and who max out more quickly. “I think we’re going to see her doing more small dollar fund raisers,” said Lorraine Hariton, who has raised more than $100,000 for the campaign.  But the Clinton campaign’s spending efficiency has helped it preserve a warchest. At the end of March, Clinton had $29 million left in the bank — more than anyone else running for president. Sanders had just $17 million. Preserving the war chest is crucial for Clinton’s chance of winning the White House in the general election against a Republican, letting her campaign effectively in swing states, attack her opponent’s vulnerabilities and defend her own. Should she face off against Republican front-runner Donald Trump, she will need a bank account sufficient to compete with a candidate who has mastered the knack of earning free coverage. Approaching the end of the primary campaign with a surplus is a far different scenario from the one in which Clinton found herself at the end of her failed 2008 bid for the nomination against Barack Obama, when she ended up $9.5 million in debt. An example of the campaign’s frugality: it cut advertising spending by $5 million to $12 million in March, a month heavy with primaries and caucuses, by using more digital advertising instead of television ads.  Clinton spent only $1.6 million on digital ads. The campaign also reduced real estate costs and limited increases in payroll as it staffed up.  “We set ambitious goals to ensure we’d have the resources we need to win a competitive primary and we’ve blown past every goal, recently surpassing the million-donor mark,” spokesman Josh Schwerin said.  ']\n",
            "['WASHINGTON - Bernie Sanders won the U.S. presidential Democratic nominating contest in Wyoming on Saturday, besting rival Hillary Clinton and adding to a string of recent victories as the two candidates gear up for a crucial matchup in New York. Sanders, a U.S. senator from Vermont, has won seven out of the last eight state-level Democratic nominating contests, trying to chip away at Clinton’s big lead in the number of delegates needed to secure the party’s nomination. Wyoming’s 14 Democratic delegates - fewer than any other state - are awarded proportionally based on support from individuals participating in the nominating contest.  Early estimates showed that while Sanders won the contest, both he and Clinton would likely receive seven delegates each in the close race, maintaining Clinton’s lead overall. Going into Wyoming, Clinton had more than half of the 2,383 delegates needed to win the nomination. Sanders trailed her by 250 pledged delegates, those awarded based on the results of the state nominating contests.   Clinton’s lead widens when superdelegates, Democratic leaders who can decide whom to support at the party’s July convention, are included in the tallies. Clinton and Sanders both spent Saturday campaigning in New York, which holds its contest on April 19 and where a total of 291 delegates are up for grabs, more than 10 percent of the tally needed to win the party’s nomination. Sanders’ wife, Jane Sanders, went onstage where he was speaking at a community college in Queens, a borough of New York City, to alert him to Saturday’s victory. “News bulletin - we just won Wyoming!” Sanders said to cheers. Speaking to reporters after the event, Sanders said he believed he had enough momentum to secure the nomination. “We are closing very fast,” Sanders said.   Clinton, a former U.S. secretary of state, campaigned in the nearby borough of Brooklyn, where her campaign is based. Clinton represented New York as a U.S. senator and considers the state her home turf. Recent polls have shown Clinton more than 10 points ahead in the state. Tension between the two candidates flared earlier this week in a party race that has typically focused on policies and not personal attacks. The candidates dialed back their criticism of one another on Friday. In Wyoming’s Republican contest last month, U.S. Senator Ted Cruz of Texas beat New York billionaire Donald Trump, the party’s front-runner. Cruz is trying to block Trump from receiving enough delegates to win the nomination outright, which would lead to a contested convention in July. A new Reuters/Ipsos poll shows that a third of Trump’s Republican supporters could consider abandoning the party’s candidate if Trump is denied the nomination at a contested convention. ']\n",
            "['WASHINGTON - Donald Trump proposed on Tuesday forcing Mexico to pay for his planned border wall by threatening to block remittances from illegal immigrants, which he said amounts to “welfare” for poor families in Mexico that their government does not provide. The Republican presidential candidate’s campaign said in a memo that if elected in November, Trump would use a U.S. anti-terrorism law to cut off such money transfers unless Mexico made a one-time payment of $5 billion to $10 billion for the wall. Trump’s pledge to build the wall has been a much-touted highlight of a platform targeting illegal immigration in the United States that has helped make him the front-runner to be the Republican nominee for the Nov. 8 election.  It is unclear how much a wall along the nearly 2,000-mile (3,200-km) U.S.-Mexico border would cost, and Mexico has been adamant it would not pay. The memo elaborated on an idea Trump floated in August, when he suggested seizing all remittances tied to “illegal wages.” It said that upon taking office a Trump administration would propose a rule mandating companies such as Western Union Co WU.N to require customers to prove they were legally in the United States. If Mexico agreed to fund the wall, Trump would drop the proposed rule, it said. “It’s an easy decision for Mexico,” his campaign said, adding the country receives about $24 billion a year in remittances from Mexicans in the United States, most of them in the country illegally. “It (remittances) serves as de facto welfare for poor families in Mexico. There is no significant social safety net provided by the state in Mexico,” it said.  According to the World Bank Remittances project, flows from the U.S. to Mexico in 2014, the last full year for which it has data, were nearly $24 billion although it is unclear what portion comes from Mexicans living in the country illegally. Democratic President Barack Obama called the remittance-blocking idea impractical and possibly self-defeating. “The notion that we’re going to track every Western Union bit of money that’s being sent to Mexico, you know, good luck with that,” he told reporters. If Mexico’s economy collapses, it would just drive more immigrants to the United States, Obama added.  Mexican President Enrique Pena Nieto appeared to dismiss the proposal as campaign rhetoric. “The (Mexican) Presidency has no comment on any opinion made in the heat of the electoral process to choose candidates for the U.S. presidency,” the president’s office said in a text message to Reuters.  Any move to target payments sent home by people living in the United States could have a crushing financial effect in Mexico, the leading recipient of U.S. remittances.  Trump’s proposal could also affect banks and companies that handle wire transfers, which also include MoneyGram International Inc (MGI.O) and PayPal Holdings Inc’s (PYPL.O) Xoom.  The companies did not respond to requests for comment. In addition to his wall proposal, Trump has accused Mexico of sending rapists and drug runners to the United States. Democrats and many Republicans have repeatedly condemned his comments as inflammatory, but his remarks have been enthusiastically received by his supporters, especially by white working-class voters. In the memo, first reported by The Washington Post, Trump’s campaign repeated its pledge to target visas. It also cited imposing trade tariffs or enforcing existing trade rules as a way of forcing Mexico to pay. Trump supporter Benjamin Proto, a Connecticut lawyer, acknowledged the remittance plan was unrealistic but praised the candidate for “looking at different ways to do things.” The memo emerged as Republican candidate Ted Cruz appeared set to beat Trump in Wisconsin’s primary contest on Tuesday, a win he would hope would mark him as the best alternative to the New York billionaire. ']\n",
            "['WASHINGTON - Democratic presidential front-runner Hillary Clinton rebuked Senate Republicans on Monday for denying a hearing to U.S. Supreme Court nominee Merrick Garland, accusing them of obstructionism, and warned of dangers if Donald Trump appointed the next justice. In a speech in Wisconsin, Clinton put the future of the Supreme Court at the center of the election debate, cautioning that any Trump-appointed justices would be likely to roll back workers’ and abortion rights and “demolish pillars of the progressive movement.” “What kind of justice would a President Trump appoint, or for that matter what kind of attorney general?” she asked, noting the Republican front-runner wants a temporary ban on Muslims entering the country and the deportation of millions of undocumented immigrants. “Once you make the extreme normal, you open the door to even worse,” she said in Madison, Wisconsin, as part of a two-day trip to the state ahead of its April 5 Democratic and Republican primary elections. Clinton called on Republican Chuck Grassley, chairman of the Senate Judiciary Committee, to “do his job” and convene a hearing for Garland, a moderate federal appeals judge who is President Barack Obama’s nominee to fill the seat vacated by the Feb. 13 death of Antonin Scalia. Grassley and other Senate Republicans have said they will not hold a hearing or a vote on an Obama nominee in a presidential election year, contending that voters should have a say when they elect the next president on Nov. 8. “I’d say my voice is being ignored right now because of their obstructionism,” Clinton said. “We chose a president — we chose him twice — and now Republicans in the Senate are acting like our votes didn’t count and President Obama is not still our nation’s leader.” Clinton said the Republican refusal to consider Garland was the “latest in a long line of actions aimed at disrupting our government and undermining our president, and the result is an America that is more divided, less functional and less secure.” Grassley, a six-term senator from Iowa who has tangled with Clinton over the investigation into her use of a private e-mail account while secretary of state, responded that Clinton wanted to distract voters from the ongoing email investigations. “This is simply a blatant attempt by Secretary Clinton to politicize the Supreme Court and to change the conversation,” Grassley, who heads the committee that must hold hearings on any Supreme Court nominee, said in a statement ahead of Clinton’s speech. Clinton has apologized for the email arrangement, which is being investigated by the Federal Bureau of Investigation and has been slammed by Republicans for potentially compromising security. Clinton has said she did nothing wrong and she believes the government will vindicate her. Garland traveled to Capitol Hill on Monday to meet with Democratic Senators Ben Cardin of Maryland and Joe Donnelly of Indiana. His first visit with a Republican, Senator Mark Kirk of Illinois, is scheduled for Tuesday. Democratic members of the Senate Judiciary Committee wrote to Grassley on Monday and proposed hearings on Garland in April, with votes on the nomination by May 25. Clinton’s speech came as her campaign aides argued with rival Bernie Sanders’ campaign in competing calls with the media over whether Sanders has a viable path to the Democratic presidential nomination. Sanders, a U.S. senator from Vermont, won contests in Alaska, Hawaii and Washington on Saturday, chipping away at Clinton’s lead in the race for the 2,382 delegates needed to secure the Democratic nomination at the party’s Philadelphia convention in July. Clinton now has a lead of 268 pledged delegates over Sanders. When superdelegates, party leaders who can support any candidate, are added, Clinton leads 1,712-1,004, according to an Associated Press count. But Sanders aides said he could eclipse Clinton’s advantage once the final round of contests are held on June 7, and that superdelegates would begin to switch to back Sanders once he did. “We are in this to win it, and there is a path to do so,” campaign manager Jeff Weaver said. Clinton’s campaign described her lead as “insurmountable” given the party’s proportional allocation of delegates in all states, which means Clinton will keep piling up delegates even in states Sanders wins. “You have to win these big states very big, you have to win by landslides” to make up the deficit, Clinton strategist Joel Benenson told reporters. Trump also plans to campaign in Wisconsin this week as he seeks to build his lead over Republican rivals U.S. Senator Ted Cruz of Texas and Ohio Governor John Kasich.  Trump has won 738 of the 1,237 delegates needed to take the Republican nomination at its July convention in Cleveland. Cruz has won 463, while Kasich has won 143, according to The New York Times. ']\n",
            "['WASHINGTON - Republican Ted Cruz on Friday denounced an article in the National Enquirer tabloid claiming he had extramarital affairs as “complete and utter lies” and accused rival Donald Trump of being the source of the story. The story took the Republican presidential race to a new level of personal rancor and Trump issued a statement saying he was not responsible for it. “I have nothing to do with the National Enquirer and unlike Lyin’ Ted Cruz I do not surround myself with political hacks and henchman and then pretend total innocence,” Trump said. Cruz, a U.S. senator from Texas, addressed the Enquirer story at a news conference in Wisconsin, saying, “Let me be clear. This National Enquirer story is garbage. It is complete and utter lies. It’s tabloid smear and it is a smear that has come from Donald Trump and his henchmen.” Trump’s statement pointed to other articles the Enquirer, a tabloid known for its gossip and unflattering celebrity photos, had been correct about in the past. “Ted Cruz’s problem with the National Enquirer is his and his alone, and while they were right about O.J. Simpson, John Edwards, and many others, I certainly hope they are not right about Lyin’ Ted Cruz,” the billionaire New York developer said. Trump and Cruz have sparred in recent days about their wives as they battle to be the Republican nominee in the Nov. 8 election. Earlier this week Trump accused Cruz of posting a nude photo of Trump’s wife, Melania, on Twitter. Cruz denied having any role in the photo being circulated on the Internet and Trump responded by threatening to “spill the beans” on Cruz’s wife. Cruz said the Enquirer story was evidence that Trump is unfit to be president. “This man would be an embarrassment,” he said. The Enquirer published blurred images of five women with whom it said Cruz has had affairs but did not name them. Two women who appeared to be pictured in the Enquirer stepped forward on Friday and called the article false. The National Enquirer could not immediately be reached for comment on the story. Cruz’ wife, Heidi Cruz, was campaigning with him on Friday and he gave her a hug and kiss before he began a town hall event. She sat off stage smiling while he spoke. This is not the first time a presidential candidate has been accused of extramarital sex. During the 1992 campaign, Gennifer Flowers came forward to detail an affair she had with Bill Clinton. Subsequently, more women admitted to having affairs with him, including then-White House intern Monica Lewinsky. Former Colorado Senator Gary Hart, a Democrat, had his 1988 presidential campaign derailed when reports surfaced that he was having an affair. Former North Carolina Senator John Edwards admitted to having an affair with a campaign photographer during his 2004 campaign, although the public did not learn about the romance until after he was defeated. The Enquirer’s Cruz story exploded on the social media site Twitter overnight on Thursday. By Thursday afternoon, #CruzSexScandal was a worldwide trending topic on Twitter. ']\n",
            "['The Democratic and Republican nominees for the Nov. 8 presidential election are decided in a series of state-by-state contests. The key to winning the nomination for each party is ultimately not about the popular vote, but about securing the number of delegates needed to win the nomination at each party’s convention - July 18-21 in Cleveland for the Republicans and July 25-28 in Philadelphia for the Democrats. The following is a guide to the nominating process: Q: Is the delegate selection process the same for the Republican and Democratic parties? A: No. The parties set their own rules. One thing that is the same is that at each party convention, a candidate needs to reach only a simple majority of the delegate votes to win the nomination. Q: How many delegates are there? A: The Democratic convention will be attended by about 4,763 delegates, with 2,382 delegates needed to win the nomination. The Republican convention will be attended by 2,472 delegates, with 1,237 delegates needed to win. Q: I keep hearing about “superdelegates.” Are they different from other delegates? Do both the Republicans and Democrats have superdelegates? A: Superdelegates, officially known as unpledged delegates, are a sort of wild card in the nominating process, but only the Democrats have them. The category was created for the 1984 Democratic convention, and according to political scientists, they are a legacy of the 1980 convention when there was a fight for the nomination between President Jimmy Carter, who was seeking a second term in the White House, and Senator Edward Kennedy of Massachusetts. Members of Congress were frustrated by their lack of influence, because delegates elected to support one candidate could not switch to support another. So Democratic members of the House of Representatives led an effort to win a role for themselves. That resulted in the creation of superdelegates. Unlike other delegates, superdelegates may change what candidate they are supporting right up to the convention. There is no fixed number of superdelegates because the group is defined by various categories whose members change from one election cycle to another. Here is who gets to be a superdelegate:  All Democratic members of the House of Representatives and the Senate; the Democratic governors; the Democratic president and vice president of the United States; former Democratic presidents and vice presidents; former Democratic leaders of the U.S. Senate; former Democratic speakers of the House and former Democratic minority leaders. Throw in the members of the Democratic National Committee and the former chairs of the DNC and you finally have the whole pool of superdelegates. Q: What about the other delegates? Do they get to choose which candidate to support? A: Both the Democratic and Republican parties send delegates to their conventions based on the popular vote in the primary elections and caucuses held in each of the 50 states. But the parties have different rules on how delegates are allotted to a candidate. The Democratic Party applies uniform rules to all states. In each state, delegates are allocated in proportion to the percentage of the primary or caucus vote in each district. But a candidate must win at least 15 percent of the vote to be allocated any delegates. The Republican Party lets states determine their own rules, although it does dictate some things. Some states award delegates proportionate to the popular vote, although most such states have a minimum percentage that a candidate must reach to win any delegates. Some other states use the winner-take-all method, in which the candidate with the highest percentage of the popular vote is awarded all the delegates. Other states use a combination of the two methods. States that use the proportionate method may instead use the winner-take-all method if one candidate wins more than 50 percent of the popular vote.  In addition, the Republican Party requires that all states with nominating contests held between March 1 and March 14 use the proportional method, meaning that all the states holding votes on Super Tuesday will have to award delegates proportionally.  Q: What happens to delegates if a candidate drops out of the race? A: Another good question, because we have certainly seen that happen this year. For the Democratic Party, in every state, delegates are reallocated to the remaining candidates. For the Republican Party, it varies by state. In some states, delegates are required to stick with their original candidate at least through the first ballot at the Republican National Convention. In some other states, if a candidate drops out, his or her delegates may immediately pledge to another candidate. There is also a middle ground in which those delegates are reallocated to the remaining candidates. Republican National Committee: here here Democratic National Committee: here Battlopedia: here,_2016 Vote for Bernie: here www.realclearpolitics.com here here www.demconvention.com/ ']\n",
            "['WASHINGTON - A Donald Trump rally in Virginia was repeatedly disrupted on Monday by protesters, including some from the Black Lives Matter movement, in a stark display of the divisions the Republican front-runner’s presidential campaign has long been accused of sowing. A Time magazine photographer trying to document the exit of dozens of black protesters from the rally in southwestern Radford, Virginia, was grabbed by the neck and shoved to the ground by a U.S. Secret Service agent. Hecklers disrupted the rally on a day when the New York billionaire fended off criticism that he had not clearly condemned white supremacist support during an interview on CNN on Sunday. Trump taunted the protesters, shouting “Are you from Mexico?” at one of them. Supporters in the audience confronted the hecklers in angry, face-to-face exchanges. As black protesters were escorted from the rally, the crowd around them began to chant, “All lives matter.” Trump waited for the scene to quiet down before saying, “Folks, you’re going to hear it once: All lives matter.” The crowd roared with applause.   Black Lives Matter is a civil rights movement that sprang from police shootings of black Americans in recent years. The Trump rally took place on the eve of Super Tuesday, the biggest voting day in the race to pick the 2016 presidential nominees for the November election. A number of Southern states including Virginia are holding contests on Tuesday, and opinion polls show Trump is likely to consolidate his status as favorite to win the Republican nomination. It was unclear whether Trump would be damaged by support from white supremacists. He has risen in opinion polls and won three of four early nominating contests while proposing a temporary ban on Muslims entering the country, calling Mexican immigrants criminals and insulting women. His rivals for the Republican nomination, Ted Cruz and Marco Rubio, urged him to ask the New York Times to release a recording of his recent interview with its editorial board, following a report he told it he was not serious about his immigration proposals. On Monday, the protesters disrupted Trump’s remarks several times for long stretches, prompting him to shout to security guards several times, “Get them out please, get them out.”  Trump appeared to relish the discord, saying after the turmoil in the crowd that his rallies were more exciting than those of the other candidates: “But it is fun, and exciting.” At a rally last week in Nevada, Trump also jumped into the fray with a protester when he said, “I’d like to punch him in the face.” Time photographer Chris Morris was on the fringe of an enclosed media section when he was seized by an agent from the  Secret Service, which has the job of protecting the U.S. president and some White House candidates. “I stepped 18 inches out of the (press) pen and then he grabbed me by the neck and started choking me and then he slammed me to the ground,” Morris told CNN at the scene. The Trump campaign said it was not aware of the details of the incident and directed inquires to local law enforcement. Secret Service spokesman Robert Hoback said the agency was aware of the incident involving one of its employees but it still working to “determine the exact circumstances that led up to this incident.” Earlier on Monday, Trump’s rivals criticized him for equivocating on white supremacist support when he was asked repeatedly on CNN if he would condemn the Klan and disavow support from white supremacists, including David Duke, a former Klan grand wizard from Louisiana. Trump said that he had been hampered by a faulty earpiece during the CNN interview. Duke on Monday denied that he had endorsed Trump. But he said he planned to vote for him and had advised his friends to do so too because of the candidate’s views on immigration and world peace. Duke told Fox News Radio he disapproved of Trump’s “lip service” in support of Israel, but “I told my people to vote for him in the election” for strategic reasons. He said he had not been part of the Ku Klux Klan for nearly 40 years.     On the Democratic side, front-runner Hillary Clinton alluded to the country’s divisions on Monday after a landslide victory on Saturday in South Carolina’s primary shifted her attention from party rival Bernie Sanders to the candidate she may end up facing in November. “I don’t think America ever stopped being great,” she told supporters in Massachusetts, adding a twist to Trump’s “Make America Great Again” slogan. “What we need to do now is make America whole.”   (Additional reporting by Amanda Becker, Susan Heavey, Megan Cassella and Eric Walsh; Writing by Doina Chiacu; Editing by Jonathan Oatis, Frances Kerry and Cynthia Osterman) This article was funded in part by SAP. It was independently created by the Reuters editorial staff. SAP had no editorial involvement in its creation or production.']\n",
            "['WASHINGTON - U.S. President Barack Obama on Saturday laid out a plan to help support the income of workers who lose their jobs and end up in lower paying positions, as part of a push to get unemployed Americans back to work. The proposal would offer experienced workers who now make less than $50,000 a form of wage insurance, allowing them to replace half of their lost pay. The benefit would cover up to $10,000 over two years. “It’s a way to give families some stability and encourage folks to rejoin the workforce - because we shouldn’t just be talking about unemployment; we should be talking about re-employment,” Obama said in his weekly radio and Internet address, broadcast on Saturday. The wage insurance proposal will be included in a broader effort to overhaul the unemployment insurance system. Details about the program’s proposed funding will be further outlined in Obama’s budget for fiscal year 2017 expected to be released next month. Obama promised in his State of the Union earlier this week to advocate for legislative action on issues with bipartisan support during his last year in office. During the address, he pointed to wage insurance as one measure where lawmakers may be able to work together. The White House plan would require states to provide insurance for workers laid off from jobs they had held for at least three years. The plan would be federally-funded, but it would be administered through state unemployment insurance programs. Other measures proposed by the White House on Saturday included a requirement that all states provide at least 26 weeks of unemployment insurance benefits, and the creation of a permanent program that would automatically provide up to 52 additional weeks of federally-funded benefits for states experiencing rapid job-losses or high unemployment.       ']\n",
            "['WASHINGTON - The chairman of a U.S. House committee that oversees child abuse issues opened an inquiry Friday into whether the federal government is failing to enforce a law meant to protect thousands of babies born dependent on drugs each year. The inquiry, launched by Representative John Kline of Minnesota, comes in response to a Reuters investigation last month that identified 110 examples of children who were exposed to opioids while in the womb and later died preventable deaths after leaving the hospital. No more than nine states comply with a 2003 law that calls on hospitals to alert social workers whenever a baby is born dependent on drugs, the news agency found. Since the law was enacted, the number of newborns diagnosed with Neonatal Abstinence Syndrome has skyrocketed – from 4,991 cases in 2003 to 27,315 in 2013, federal data show. A Reuters analysis found that thousands of drug-dependant newborns are sent home each year without a referral to social service agencies, contrary to the intent of the federal law. Those referrals are intended to help social workers develop a “plan of safe care” for the newborns and mothers. Although most states fail to comply with the provisions, Reuters found none has lost federal funding. In a letter Friday, Kline told Health and Human Services Secretary Sylvia Burwell that he was “deeply concerned” that the agency may not be enforcing the law.  “A Reuters investigation released in December cast serious doubts over whether these basic requirements in federal law are being followed,” wrote Kline, a Republican who chairs the House Education and the Workforce Committee. The letter was co-signed by Todd Rokita, an Indiana Republican, who chairs a subcommittee on early childhood education. “The Reuters investigation reveals the shocking and deadly consequences when these vital federal and state child welfare policies are not properly implemented and enforced,” the lawmakers wrote. “Even more troubling, according to the Reuters report, there are some states that have failed to put these policies in place altogether, yet not a single state is being denied … funds.” Kline and Rokita asked Health and Human Services officials to explain the review process for determining whether each state has created a safe-care plan for babies born drug-dependent, and to make clear the consequences for states that do not comply. Agency officials did not immediately respond to the lawmakers’ letter.\\xa0 The primary backer of a key provision in the 2003 law, former Representative James Greenwood, said he was “delighted” that Kline and Rokita took “this step to light a fire under” the Department of Health and Human Services.  “Precious little lives are at stake,” Greenwood said. Last month, top U.S. senators also called for action. Sen. Charles Schumer, a Democrat from New York, asked for an “emergency surge” of funds to help protect the newborns, and Sen. Robert Casey, a Democrat from Pennsylvania, sought oversight hearings. The senior Republican in the Senate, Majority Leader Mitch McConnell, said the series “brings to the forefront a problem” that he has urged the Obama Administration to address faster. The Reuters investigation, “Helpless & Hooked,” can be found here. (reut.rs/1NSc7uC) Kline and Rokita’s letter to the Health and Human Services secretary can be found here. (1.usa.gov/235146g) ']\n",
            "['NEW YORK - Democrat Hillary Clinton plans to pour half of her presidential campaign’s budget into advertising in the first three months of this year as she seeks to fend off an increasingly tough challenge from chief rival Bernie Sanders, according to a summary of her spending plans reviewed by Reuters. The first-quarter advertising blitz would represent almost a doubling of the proportion of money that the campaign devoted to such spending, on average, during 2015.  The report, prepared by her team’s finance committee, aims to paint a picture of a fiscally prudent campaign operation that has been spending heavily on digital tools and organizing last year and is now ready to ramp up ad spending as the 2016 White House race moves into a critical new phase. “The significant early resources mobilized by our Finance Committee in 2015 helped us make smart early investments in key areas – and will enable us to continue with strategic allocations in Q1 of 2016,” the report reads. The first quarter is a crucial period in the presidential nominating contest. It kicks off with the Iowa caucus on Feb. 1, followed by the New Hampshire primary on Feb. 9 and a series of other early votes through March, including “Super Tuesday” on March 1 when 11 states hold nominating contests.  Many of the contests during March, the report notes, “are in big states with expensive media markets.” In 2015, the campaign devoted nearly 10 percent of its spending to technology and digital tools, about a fifth of the budget on list-building and almost another quarter on state organizing, according to the year-end document. List-building refers to amassing names of potential voters who a campaign wants to woo. The Clinton campaign declined to comment on the spending report. The increased focus on advertising spending comes as the campaign expects to shrink the ratios of spending in other areas, especially those that appear related to infrastructure. State organizing, for example, is projected to go from 23 percent in 2015 to 18 percent in the first quarter of this year. List-building is expected to go from 21 percent in 2015 to 14 percent in the first three months of 2016. The report comes two weeks before the Iowa contest, with Clinton locked in a tightening race with Sanders, the fiery U.S. senator from Vermont who has been drawing big crowds in the early-voting states with his calls to crack down on Wall Street.  The emphasis on fiscal prudence is part of a broader effort by the Clinton campaign to reassure supporters that it has learned from her 2008 campaign, which was plagued by missteps, including a failure to match the organizational and digital prowess of Barack Obama, who ultimately won the Democratic nomination - and the general election.  Clinton’s campaign raised more than $112 million last year for the primary fight, according to a previously released statement from Jan. 1. That includes $37 million raised in the fourth quarter. The campaign had nearly $38 million in cash on hand headed into this year, according to the statement. The year-end report only notes budget categories as a percentage of total spending and does not include dollar amounts for categories or line items. Nor did the document include a dollar amount for the overall budget. Through the third quarter of last year, the campaign spent more than $12 million on direct marketing, online ads and media buys, according to campaign finance filings.  Federal Elections Commission filings for the fourth quarter for all presidential campaigns are due Jan. 31.  (Additional reporting by Emily Flitter and Grant Smith; Editing by Caren Bohan and Leslie Adler) SAP is the sponsor of this coverage which is independently produced by the staff of Reuters News Agency.']\n",
            "['BALTIMORE - The prospect of running for re-election with Donald Trump at the top of the Republican ticket was worrying some party lawmakers as they huddled for an annual retreat, where a few forecast trouble if Trump becomes the party’s presidential nominee. “Heaven help us,” Representative Peter Roskam said when asked about it by a reporter. But the Illinois Republican quickly added, “I’m not going to comment on the presidential candidates at this point.” That reticence was shared by many lawmakers asked about running on Trump’s coattails during an event in Baltimore where Senate and House of Representatives Republicans gathered to talk through their priorities for a coming year whose highlight is the November election. Some were not reluctant to express concerns. Trump would not help Republicans if he topped the ticket, despite his appeal to Americans fed up with politicians, said Representative Justin Amash, a favorite of the conservative Tea Party movement who has endorsed Kentucky Republican Senator Rand Paul for president. “He does appeal to the anger,” Amash said of Trump, the outspoken real estate mogul who is front-runner to be the party’s presidential nominee. But he said Trump’s “policy prescriptions will take us in the wrong direction, and it won’t be long before many of those people are angry at him and angry at Republicans again.” The idea of Trump capturing the Republican nomination seemed highly unlikely just months ago, but it was sinking in as an actual possibility this week across the Republican Party. In addition to voting for a new president, Americans will elect members of the Senate and the House on Nov. 8. In U.S. politics, a party’s presidential nominee has a big impact on  the campaigns of candidates for both chambers of Congress. At the party gathering, Republican leaders were keen to talk policy, not presidential politics. “What happens above us on the presidential ballot, you really don’t control,” Senator John Thune, a senior party leader from South Dakota, told reporters. House Speaker Paul Ryan, of Wisconsin, said: “We are not sitting here thinking about who the nominee is going to be. We don’t have time to think about that.” But in the hallways of the retreat, at a hotel on Baltimore’s restored waterfront, Trump was often the hot topic. He is leading national opinion polls ahead of the Feb. 1 Iowa caucus, the first step in the nominating process. Representative Jason Chaffetz said it was important to have a presidential nominee who will not “embarrass” the rest of the party’s candidates as they defend the Republican majorities in both congressional chambers. Chaffetz, who is from Utah, has endorsed Marco Rubio, a Republican senator from Florida. Polls show Rubio in third place behind Trump and Texas Senator Ted Cruz in Iowa. “Marco Rubio is not going to embarrass us ... He’s not as sensational in his comments as the others, but there’s a good quality to that, and I think that’s also something you look for in a president,” Chaffetz said. Among other proposals, Trump has called for a temporary ban on Muslims entering the United States and a wall along the U.S. border with Mexico to stop the flow of illegal immigrants. Representative Tom Cole said Republicans’ fate will be linked closely to the Republican nominee, whoever it is.  Trump would be a wild card, said Cole, of Oklahoma. “I don’t know what he (Trump) will do. I can see a situation where he could be a great asset, because I do think he will bring some people out (to vote) who have not been brought before.” Representative Peter King of New York agreed that Trump is “more of a gamble” at the top of the ticket. “The conventional wisdom is that he would hurt more than he would help,” said King, who was unable to attend the retreat but spoke by telephone. “But on the other hand, he is tapping into something (among voters) out there.”  (Editing by Kevin Drawbaugh, Caren Bohan and Frances Kerry) SAP is the sponsor of this coverage which is independently produced by the staff of Reuters News Agency.']\n",
            "['WASHINGTON - President Barack Obama took aim on Tuesday at Republican presidential front-runner Donald Trump and accused critics of playing into the hands of Islamic State in a speech meant to cement his legacy and set a positive tone for his final year in office. Obama, delivering his last annual State of the Union speech to Congress as president, called for leaders to “fix” U.S. politics and criticized candidates such as Trump for using anti-Muslim rhetoric that betrayed American values. “When politicians insult Muslims ... that doesn’t make us safer,” he said, drawing applause from the crowd in the House of Representatives chamber. “It’s just wrong. It diminishes us in the eyes of the world. It makes it harder to achieve our goals.” Trump, whom Obama did not mention by name in his speech, is leading the Republican field ahead of the Nov. 8 election to pick the next president. The billionaire businessman, citing national security concerns, has called for a temporary ban on Muslims entering the United States and a wall on the U.S. border with Mexico to stop the flow of illegal immigrants, ideas the White House strongly opposes. Obama sought to contrast his more optimistic view of America’s future with those of the Republican candidates trying to replace him.  He said it was “fiction” to describe the country as being in economic decline. While acknowledging that al Qaeda and Islamic State posed a direct threat to Americans, he said comparing the effort to defeat the militants who control swaths of Iraq and Syria to World War Three gave the group just what it wanted. “Masses of fighters on the back of pickup trucks, twisted souls plotting in apartments or garages: they pose an enormous danger to civilians; they have to be stopped. But they do not threaten our national existence,” Obama said. Republicans say the president’s strategy to defeat Islamic State is flawed and insufficient. “His policies aren’t working. He didn’t have an answer for how to defeat ISIS,” Republican House of Representatives Speaker Paul Ryan said in a statement after the speech, using an acronym for Islamic State.  Obama’s address to lawmakers, Cabinet members and Supreme Court justices was one of his last remaining chances to capture the attention of millions of Americans before the November election. The next president will take office in January 2017. Trump, in a posting on Twitter, called the speech “boring” and lacking in substance. “New leadership fast!” But South Carolina Governor Nikki Haley, who delivered the Republican response to Obama’s address, took her own jab at Trump and other less moderate candidates in her party. “During anxious times, it can be tempting to follow the siren call of the angriest voices. We must resist that temptation,” said Haley, the daughter of Indian immigrants.     “No one who is willing to work hard, abide by our laws, and love our traditions should ever feel unwelcome in this country,” she said. Obama’s address came as 10 sailors aboard two U.S. Navy boats were taken into Iranian custody. Iran told the United States the crew members would be “promptly” returned, U.S. officials said. The event gave Republicans further fodder to criticize Obama’s nuclear deal with Tehran. Obama did not address the issue in his speech. The White House expects the situation to be resolved quickly. Obama, who is constitutionally barred from a third term, stuck to themes he hopes will define his legacy, including last year’s nuclear pact with Tehran. He noted areas where compromise was possible with Republicans in Congress including criminal justice reform, trade and poverty reduction. He called for lawmakers to ratify a Pacific trade pact, advance tighter gun laws and lift an embargo on Cuba. The president also said he regretted not having been able to elevate U.S. political discourse during his time in office. “It’s one of the few regrets of my presidency - that the rancor and suspicion between the parties has gotten worse instead of better,” he said. To help “fix” U.S. politics, Obama pressed for an end to “gerrymandering,” the practice of drawing voting districts in ways that gives advantage to a particular party; reducing the influence of “dark money” or political spending in which funding sources do not have to be disclosed; and making voting easier. Obama also said he had tasked Vice President Joe Biden, whose son died last year of cancer, to lead an effort to find a cure for the disease. The president noted some outstanding promises from his own 2008 campaign. He pledged to continue to work to close the U.S. prison at Guantanamo Bay, Cuba, and called on Congress to lift the embargo on the Communist-ruled island nation. Obama, whose 2008 victory was driven partially by his opposition to the Iraq war, said the United States could not serve as policeman of the world. “We also can’t try to take over and rebuild every country that falls into crisis, even if it’s done with the best of intentions,” he said. “It’s the lesson of Vietnam; it’s the lesson of Iraq; and we should have learned it by now.” Obama is eager for a Democrat to win the White House to preserve his legacy, but anger over his policies and fears about security threats have helped push non-traditional candidates to the fore in the Republican and, to a lesser extent, the Democratic races to succeed him.  Trump and Senator Ted Cruz of Texas are at the top of the Republican field, while self-described “socialist” Bernie Sanders, a U.S. senator from Vermont, is giving former Secretary of State Hillary Clinton tough competition in early voting states for the Democratic primary contest.  ']\n",
            "['SKOPJE - Macedonia s parliament has adopted a 2018 draft budget, lowering the deficit to 2.7 percent of national output from 2.9 this year and forecasting growth of 3.2 percent. The budget, totaling 221.7 billion denars ($4.28 billion) and adopted late on Friday, allocated spending equivalent to about 400 million euros ($474.28 million) for capital investment, while average annual inflation was expected to be 1.7 percent. Revenues were forecast at 193.5 billion denars. The main opposition VMRO-DPMNE party boycotted the budget vote in protest at the arrest of a former interior minister, several lawmakers and political activists on charges related to violence in parliament in April, which pushed the nation into a political crisis. Macedonia s central bank revised its economic growth forecast for 2017 down to 0.5 percent from 2.5 percent, citing a poor economic performance in the first half of the year because of political instability. Macedonia s two-year crisis over a wiretapping scandal that toppled the government of nationalist Prime Minister Nikola Gruevski, ended in June with the appointment of a pro-Western government of the Social Democrat Prime Minister Zoran Zaev. Finance Minister Dragan Tevdovski told parliament that the government planned to finance the deficit through a combination of domestic and foreign loans.   The borrowing abroad may be done through a Eurobond or favorable foreign loans,  Tevdovski said. The economy of the landlocked Balkan country grew by 2.4 percent in 2016 but national output contracted 1.9 percent in the second quarter of 2017, the first decline since 2012.  Macedonia, which won independence from former Yugoslavia in 1991, has made little progress towards membership of the European Union and the NATO alliance due to a name dispute with Greece. ($1 = 0.8434 euros) ']\n",
            "['PYONGYANG - North Koreans stage a demonstration of devotion to their leader Kim Jong Un at least once a year, in a large ceremonial square in Pyongyang.  Mansae!  the people call as they parade past the 33-year old, who stands on a balcony above them:  Live long!  This December, Kim will mark six years in power. In that time he has purged or executed around 340 people, according to the Institute for National Security Strategy, a think tank of South Korea s National Intelligence Service (NIS). The people on parade carry flowers including North Korea s national blooms, Kimilsungia and Kimjongilia, which were specially created in honor of Kim s grandfather and father, Kim Il Sung and Kim Jong Il. North Korea is the only socialist country to have passed power down the family line. Images of former presidents are pinned on the left side of every jacket and dress. They are worn there to be close to the wearers  hearts. In private conversations, some North Koreans quietly lament the shortcomings of their system: It s too bureaucratic, takes too long to get things done, is disorganized, they say. But few dare to openly criticize the Supreme Leader. North Korea s GDP per capita, estimated at $1,700 in the CIA Factbook, places it 215th in the world   it is poorer than Haiti, Zimbabwe and Afghanistan. Defectors say many North Koreans lead double lives, earning money in unofficial market places to supplement state incomes. The leadership turns a blind eye to this. Traditionally, Pyongyang has been the home of North Korea s elites. But the inhabitants of the capital must also prepare for the parades. Around this time, everyone everywhere must increase production in a process known as a  battle.  People, organized into work units, are assigned duties on top of their usual jobs. The  70-day battle  ahead of a Party congress in 2016 meant long after-work hours sprucing up the capital. State media released a report: Some work units had delivered 110 percent of their quotas. The fatigue shows in some flower-wavers  faces.  On June 1, 2016, the country announced that a new campaign of celebration was to be held. This time, it said, the battle would last 200 days.  ']\n",
            "['BARCELONA - Prime Minister Mariano Rajoy urged Catalans to turn out in force in a December election to  restore normality  to a region buffeted by attempts to split from Spain. In his first visit to Barcelona since Madrid imposed direct rule on Catalonia and sacked its separatist leaders, Rajoy said the Dec. 21 election would safeguard the economy and stop companies moving out of the economically important region.  We want a massive turnout to begin a new political era of tranquillity, normality, coexistence and respect,  Rajoy told the Catalan wing of his conservative People s Party (PP).   We must urgently bring back normality to Catalonia ... to reduce social tension and stop damage to the economy.  Despite opposition to the early election imposed by Madrid as a way to resolve the impasse, the two leading pro-independence parties, PDeCAT of deposed leader Carles Puigdemont, and the ERC, have said they will participate.  However, they failed to agree to run on a united ticket, potentially harming the separatist camp s chances of winning a majority in the regional parliament.  The far-left pro-independence CUP party, whose support was key to Puigdemont s government, decided on Sunday to run in the upcoming election. Madrid s imposition of direct rule on Catalonia has widened a rift between political parties both in regional politics and at the municipal level.  On Sunday, the party of Barcelona Mayor Ada Colau voted to break its pact to govern with the Catalan Socialist Party (PSC), citing the latter s support for the application of direct rule. Some 54 percent of Spaniards evaluate positively Madrid s handling of the Catalan crisis, but only 28 percent of Catalans share this view, according to a poll for newspaper El Pais. On Saturday, 750,000 people marched in Barcelona to call for the release of separatist leaders from pre-trial detention. ']\n",
            "['BEIJING - China will expand a pilot project for anti-graft supervision reforms nationwide next year that will consolidate existing corruption agencies, state-run news agency Xinhua reported, as President Xi Jinping expands his signature policy drive. Xinhua said in a report published late on Saturday China s top legislature adopted a decision calling for new supervisory commissions to be set up by the People s Congresses at provincial, city and county-levels to  supervise those exercising public power . Xi s signature anti-graft drive has jailed or otherwise punished nearly 1.4 million Communist Party members since 2012. The leader, who began his second five-year term in October, has vowed to maintain the  irreversible  momentum of the campaign to root out corruption. China aims to pass a national supervision law and set up a new commission at the annual parliament meetings early next year. The new National Supervision Commission will work with the Communist Party s anti-graft body, the Central Commission for Discipline Inspection, expanding the purview of Xi s anti-graft campaign to include employees at state-backed institutions.  Xinhua said the commissions to be set up nationwide under the China legislature s new directive will have the power to investigate illegal activities such as graft, misuse of authority, neglect of duty, and wasting public funds. The commissions will have the ability to conduct searches, freeze assets and detain suspects as part of those efforts, the Xinhua report said. ']\n",
            "['DUBAI, - Billionaire Saudi Arabian Prince Alwaleed bin Talal, who owns investment firm Kingdom Holding 4280.SE, is among people detained and under investigation by a new anti-corruption body, a senior Saudi official told Reuters on Sunday. Also detained and under investigation is former Saudi finance minister Ibrahim al-Assaf, said the official, who declined to be identified under briefing rules. Neither man could be reached immediately for comment. King Salman announced late on Saturday the creation of a new anti-corruption committee chaired by Crown Prince Mohammed bin Salman, which Saudi-owned Al Arabiya television said had detained 11 princes, four current ministers and tens of former ministers. ']\n",
            "['MADRID - Catalan regional leader Carles Puigdemont planned on Tuesday to address a session of the regional parliament that might adopt a unilateral declaration of independence from Spain.  Below are the main points of the Catalan legal framework that permitted the Oct. 1 referendum on independence and would underpin a new state before a constitution is established. Spain s Constitutional Court has suspended the new laws. WHAT DOES LEGISLATION SAY ABOUT DECLARATION OF INDEPENDENCE? Legislation passed in the Catalan parliament on Sept. 6 states that the outcome of the referendum is binding, and if it produces more affirmative than negative votes, this implies the independence of Catalonia.  Within two days of the official announcement of the result of the referendum, the Catalan parliament will formally declare independence, explain the effects of the decision and start the process of founding a republic.                  The legislation describes Catalonia as  a social and democratic republic of law , in which the people of the region are sovereign. It says European Union and international law continue to apply, and defines the sovereign territory of Catalonia.  The law says EU rules in force in Catalonia when independence is declared, whether enforced by national or regional institutions, will continue to apply under the same conditions established by the law of the bloc. It also says EU laws passed after an independent state is declared will be automatically integrated into Catalan law. Not clear. A break from Spain would leave Catalonia outside the EU, but it could aim to continue using the euro, as non-EU members Kosovo and Montenegro do. Exit from the bloc would mean Catalan lenders cease to be supervised by the European Central Bank, whose deposit insurance scheme protects bank customers.   HOW WOULD CATALONIA MANAGE TRADE RELATIONS AND IMMIGRATION?  The exact terms of future trade relationships have not been set out, but the legislation says the Catalan government acts in accordance with the customs and excise regime set out in EU law.   International treaties signed by Spain are incorporated into Catalan law provided that they are considered compatible with application there. The Catalan government will decide within one year which treaties to authorize. Foreigners have the same rights and obligations as Catalan citizens, but citizenship is required for those holding positions of public power. Anyone born in Catalonia who does not have any other legal citizenship is considered Catalan.    The current Supreme Court of Justice of Catalonia becomes the new Supreme Court of Catalonia. The current civil and criminal court is divided into separate civil and criminal chambers.  A Superior Court of Guarantees is created to handle any appeals and conflicts of jurisdiction. This consists of the chairman of the Supreme Court, the chairmen of the other four chambers and two judges appointed by parliament. Spanish citizens resident in Catalonia since before Dec. 31 2016 are deemed citizens, while those who took up residency after Dec. 31, 2016 but before the self-determination law takes hold can apply for citizenship after two years.  Those who were born in Catalonia, have Catalan parents or have lived in the region for at least five years in the past, but are not resident there, can also apply for citizenship. Babies born to or adopted by Catalan parents after independence is declared are considered citizens. Catalan citizenship can be acquired by legal and continuous residence in Catalonia for a period of five years immediately prior to the request. For foreigners, the legal residence time includes that which has elapsed before the law comes into force. An applicant to be a Catalan citizen does not have to give up their citizenship of Spain or any other country.  ']\n",
            "['TOKYO - Tokyo Governor Yuriko Koike has made no secret of her desire to be Japan s first female prime minister - she even named her pet terrier  Sori , Japanese for  premier . But Koike, 65, whose fledgling Party of Hope poses a growing threat to Prime Minister Shinzo Abe s ruling bloc in an election this month, faces a tough choice: run now for a seat in parliament to become eligible for the top job, or wait and bet her party positions itself to win the next national poll. Abe called the Oct. 22 poll in hopes his Liberal Democratic Party-led bloc could keep its majority in the lower house, where it now holds a two-thirds  super majority , but Koike s party has upended forecasts.  If Koike resigns as governor little more than a year after defying Abe s LDP to run successfully for that post, she would risk a backlash from voters. Waiting might let her best shot at the premiership slip through her fingers.  If she thinks of the nation, it is important that she boldly announce her candidacy, present her ideas about important matters ... and debate policies head on,  Abe s ally, Chief Cabinet Secretary Yoshihide Suga, told reporters on Monday. Koike, a media-savvy former LDP member and defense minister, has said she would not resign as governor to run now, especially ahead of the 2020 Olympic Games, which Tokyo will host. But her carefully phrased remarks have failed to kill speculation that she will run. Candidates must register on Oct. 10, when the campaign officially starts. Koike is certain to be watching opinion polls as she weighs her decision.  A TV Asahi survey published on Monday showed 72 percent of respondents were negative about her potential candidacy. A separate NHK poll showed that support for Abe dropped seven points to 37 percent. Voters were split on Koike s new party, with about 47 percent having hopes for it, versus the same percentage with little or no expectations. Further complicating the outlook, Yukio Edano, an executive  of the failed opposition Democratic Party -  which last week decided to run no candidates of its own and have members run on the Party of Hope ticket - announced on Monday the formation of a new Constitutional Democratic Party of Japan with fellow liberals. It was not essential that Koike run this time around, her close ally, Masaru Wakasa, said on Sunday.   If there is a firm prospect of a change in government, party chief Koike might run for parliament, but if we can achieve a change in the  next, next  election, she doesn t have to run now,  Wakasa said during a debate on NHK. Koike, however, has already once blindsided Wakasa, who led   efforts to form the new party, by announcing, on the day Abe called the snap poll, that she would lead the Party of Hope herself, not entrust it to allies. On Monday, she told Jiji news agency her party aimed to run more than the 233 candidates needed to take a majority in the 465-seat lower house.  If you don t buy a lottery ticket, you can t win,  she said. But she again denied she would seek a seat in parliament now.  I was in national politics for 24 years and I have no intention to go back to a place where you can achieve nothing despite spending so much time,  she said. A former TV announcer who speaks Arabic and English and peppers her speeches with foreign words, Koike wants to build a  pro-reform, conservative  party to compete with the LDP, in part by cannibalizing the failed main opposition Democratic Party and luring smaller parties to her side. Her cool, polished demeanor belies a steeliness beneath.  She can take a punch with a smile and sharpen her knives at the same time,  said Jesper Koll, head of equity fund Wisdom Tree, who has followed Japanese politics for years. Like former prime minister Junichiro Koizumi, one of her past mentors, Koike promises to  break free of vested interests , a slogan that resonates with voters looking for an alternative to the LDP - although critics question just how different that alternative would be from Abe s LDP. To differentiate her party from the LDP, Koike has adopted popular policies, such as an end to atomic power amid public safety worries after the 2011 Fukushima nuclear crisis, and proposes to freeze a planned sales tax hike from 2019. But she also backs Abe s push to expand the role of the military overseas and his goal of revising the post-war constitution - although recently she has avoided focusing on the divisive issue of amending its pacifist Article 9. She has also said in the past that Japan should consider having nuclear weapons, breaking a taboo in the only country to suffer an atomic attack, and, like Abe, has visited the Yasukuni Shrine for war dead, seen in China and South Korea as a symbol of Japan s past militarism. Koike entered politics in a small reformist party and migrated through several other groups before joining the LDP and in 2008 became the first woman to run for head of the conservative party. She came in a distant third. ']\n"
          ]
        }
      ],
      "source": [
        "# Apply keyword applies the function to each row of the pandas dataframe. This is like calling the above function for every row in pandas dataframe.\n",
        "# We replace the filtered result in same column.\n",
        "true['text'] = true['text'].apply(remove_news_name)"
      ]
    },
    {
      "cell_type": "code",
      "execution_count": 149,
      "metadata": {
        "colab": {
          "base_uri": "https://localhost:8080/",
          "height": 0
        },
        "id": "gnybcoJyBPbf",
        "outputId": "9f28ef8d-d27a-4377-ae81-15be377595a5"
      },
      "outputs": [
        {
          "output_type": "execute_result",
          "data": {
            "text/plain": [
              "((23481, 5), (21417, 5))"
            ]
          },
          "metadata": {},
          "execution_count": 149
        }
      ],
      "source": [
        "fake.shape, true.shape"
      ]
    },
    {
      "cell_type": "code",
      "execution_count": 150,
      "metadata": {
        "colab": {
          "base_uri": "https://localhost:8080/",
          "height": 206
        },
        "id": "kT2Li-ANn61C",
        "outputId": "df51bad0-3391-451f-c451-ade276d7d720"
      },
      "outputs": [
        {
          "output_type": "execute_result",
          "data": {
            "text/plain": [
              "                                               title  \\\n",
              "0   Donald Trump Sends Out Embarrassing New Year’...   \n",
              "1   Drunk Bragging Trump Staffer Started Russian ...   \n",
              "2   Sheriff David Clarke Becomes An Internet Joke...   \n",
              "3   Trump Is So Obsessed He Even Has Obama’s Name...   \n",
              "4   Pope Francis Just Called Out Donald Trump Dur...   \n",
              "\n",
              "                                                text subject  \\\n",
              "0  Donald Trump just couldn t wish all Americans ...    News   \n",
              "1  House Intelligence Committee Chairman Devin Nu...    News   \n",
              "2  On Friday, it was revealed that former Milwauk...    News   \n",
              "3  On Christmas day, Donald Trump announced that ...    News   \n",
              "4  Pope Francis used his annual Christmas Day mes...    News   \n",
              "\n",
              "                date  class  \n",
              "0  December 31, 2017      0  \n",
              "1  December 31, 2017      0  \n",
              "2  December 30, 2017      0  \n",
              "3  December 29, 2017      0  \n",
              "4  December 25, 2017      0  "
            ],
            "text/html": [
              "\n",
              "  <div id=\"df-7678c6f7-c723-4d82-9f3c-ce7c28a8367f\">\n",
              "    <div class=\"colab-df-container\">\n",
              "      <div>\n",
              "<style scoped>\n",
              "    .dataframe tbody tr th:only-of-type {\n",
              "        vertical-align: middle;\n",
              "    }\n",
              "\n",
              "    .dataframe tbody tr th {\n",
              "        vertical-align: top;\n",
              "    }\n",
              "\n",
              "    .dataframe thead th {\n",
              "        text-align: right;\n",
              "    }\n",
              "</style>\n",
              "<table border=\"1\" class=\"dataframe\">\n",
              "  <thead>\n",
              "    <tr style=\"text-align: right;\">\n",
              "      <th></th>\n",
              "      <th>title</th>\n",
              "      <th>text</th>\n",
              "      <th>subject</th>\n",
              "      <th>date</th>\n",
              "      <th>class</th>\n",
              "    </tr>\n",
              "  </thead>\n",
              "  <tbody>\n",
              "    <tr>\n",
              "      <th>0</th>\n",
              "      <td>Donald Trump Sends Out Embarrassing New Year’...</td>\n",
              "      <td>Donald Trump just couldn t wish all Americans ...</td>\n",
              "      <td>News</td>\n",
              "      <td>December 31, 2017</td>\n",
              "      <td>0</td>\n",
              "    </tr>\n",
              "    <tr>\n",
              "      <th>1</th>\n",
              "      <td>Drunk Bragging Trump Staffer Started Russian ...</td>\n",
              "      <td>House Intelligence Committee Chairman Devin Nu...</td>\n",
              "      <td>News</td>\n",
              "      <td>December 31, 2017</td>\n",
              "      <td>0</td>\n",
              "    </tr>\n",
              "    <tr>\n",
              "      <th>2</th>\n",
              "      <td>Sheriff David Clarke Becomes An Internet Joke...</td>\n",
              "      <td>On Friday, it was revealed that former Milwauk...</td>\n",
              "      <td>News</td>\n",
              "      <td>December 30, 2017</td>\n",
              "      <td>0</td>\n",
              "    </tr>\n",
              "    <tr>\n",
              "      <th>3</th>\n",
              "      <td>Trump Is So Obsessed He Even Has Obama’s Name...</td>\n",
              "      <td>On Christmas day, Donald Trump announced that ...</td>\n",
              "      <td>News</td>\n",
              "      <td>December 29, 2017</td>\n",
              "      <td>0</td>\n",
              "    </tr>\n",
              "    <tr>\n",
              "      <th>4</th>\n",
              "      <td>Pope Francis Just Called Out Donald Trump Dur...</td>\n",
              "      <td>Pope Francis used his annual Christmas Day mes...</td>\n",
              "      <td>News</td>\n",
              "      <td>December 25, 2017</td>\n",
              "      <td>0</td>\n",
              "    </tr>\n",
              "  </tbody>\n",
              "</table>\n",
              "</div>\n",
              "      <button class=\"colab-df-convert\" onclick=\"convertToInteractive('df-7678c6f7-c723-4d82-9f3c-ce7c28a8367f')\"\n",
              "              title=\"Convert this dataframe to an interactive table.\"\n",
              "              style=\"display:none;\">\n",
              "        \n",
              "  <svg xmlns=\"http://www.w3.org/2000/svg\" height=\"24px\"viewBox=\"0 0 24 24\"\n",
              "       width=\"24px\">\n",
              "    <path d=\"M0 0h24v24H0V0z\" fill=\"none\"/>\n",
              "    <path d=\"M18.56 5.44l.94 2.06.94-2.06 2.06-.94-2.06-.94-.94-2.06-.94 2.06-2.06.94zm-11 1L8.5 8.5l.94-2.06 2.06-.94-2.06-.94L8.5 2.5l-.94 2.06-2.06.94zm10 10l.94 2.06.94-2.06 2.06-.94-2.06-.94-.94-2.06-.94 2.06-2.06.94z\"/><path d=\"M17.41 7.96l-1.37-1.37c-.4-.4-.92-.59-1.43-.59-.52 0-1.04.2-1.43.59L10.3 9.45l-7.72 7.72c-.78.78-.78 2.05 0 2.83L4 21.41c.39.39.9.59 1.41.59.51 0 1.02-.2 1.41-.59l7.78-7.78 2.81-2.81c.8-.78.8-2.07 0-2.86zM5.41 20L4 18.59l7.72-7.72 1.47 1.35L5.41 20z\"/>\n",
              "  </svg>\n",
              "      </button>\n",
              "      \n",
              "  <style>\n",
              "    .colab-df-container {\n",
              "      display:flex;\n",
              "      flex-wrap:wrap;\n",
              "      gap: 12px;\n",
              "    }\n",
              "\n",
              "    .colab-df-convert {\n",
              "      background-color: #E8F0FE;\n",
              "      border: none;\n",
              "      border-radius: 50%;\n",
              "      cursor: pointer;\n",
              "      display: none;\n",
              "      fill: #1967D2;\n",
              "      height: 32px;\n",
              "      padding: 0 0 0 0;\n",
              "      width: 32px;\n",
              "    }\n",
              "\n",
              "    .colab-df-convert:hover {\n",
              "      background-color: #E2EBFA;\n",
              "      box-shadow: 0px 1px 2px rgba(60, 64, 67, 0.3), 0px 1px 3px 1px rgba(60, 64, 67, 0.15);\n",
              "      fill: #174EA6;\n",
              "    }\n",
              "\n",
              "    [theme=dark] .colab-df-convert {\n",
              "      background-color: #3B4455;\n",
              "      fill: #D2E3FC;\n",
              "    }\n",
              "\n",
              "    [theme=dark] .colab-df-convert:hover {\n",
              "      background-color: #434B5C;\n",
              "      box-shadow: 0px 1px 3px 1px rgba(0, 0, 0, 0.15);\n",
              "      filter: drop-shadow(0px 1px 2px rgba(0, 0, 0, 0.3));\n",
              "      fill: #FFFFFF;\n",
              "    }\n",
              "  </style>\n",
              "\n",
              "      <script>\n",
              "        const buttonEl =\n",
              "          document.querySelector('#df-7678c6f7-c723-4d82-9f3c-ce7c28a8367f button.colab-df-convert');\n",
              "        buttonEl.style.display =\n",
              "          google.colab.kernel.accessAllowed ? 'block' : 'none';\n",
              "\n",
              "        async function convertToInteractive(key) {\n",
              "          const element = document.querySelector('#df-7678c6f7-c723-4d82-9f3c-ce7c28a8367f');\n",
              "          const dataTable =\n",
              "            await google.colab.kernel.invokeFunction('convertToInteractive',\n",
              "                                                     [key], {});\n",
              "          if (!dataTable) return;\n",
              "\n",
              "          const docLinkHtml = 'Like what you see? Visit the ' +\n",
              "            '<a target=\"_blank\" href=https://colab.research.google.com/notebooks/data_table.ipynb>data table notebook</a>'\n",
              "            + ' to learn more about interactive tables.';\n",
              "          element.innerHTML = '';\n",
              "          dataTable['output_type'] = 'display_data';\n",
              "          await google.colab.output.renderOutput(dataTable, element);\n",
              "          const docLink = document.createElement('div');\n",
              "          docLink.innerHTML = docLinkHtml;\n",
              "          element.appendChild(docLink);\n",
              "        }\n",
              "      </script>\n",
              "    </div>\n",
              "  </div>\n",
              "  "
            ]
          },
          "metadata": {},
          "execution_count": 150
        }
      ],
      "source": [
        "fake.head()"
      ]
    },
    {
      "cell_type": "code",
      "execution_count": 151,
      "metadata": {
        "colab": {
          "base_uri": "https://localhost:8080/",
          "height": 206
        },
        "id": "4B-fzRiin-UK",
        "outputId": "6dd93de6-db76-4a59-c621-231ecf987b65"
      },
      "outputs": [
        {
          "output_type": "execute_result",
          "data": {
            "text/plain": [
              "                                               title  \\\n",
              "0  As U.S. budget fight looms, Republicans flip t...   \n",
              "1  U.S. military to accept transgender recruits o...   \n",
              "2  Senior U.S. Republican senator: 'Let Mr. Muell...   \n",
              "3  FBI Russia probe helped by Australian diplomat...   \n",
              "4  Trump wants Postal Service to charge 'much mor...   \n",
              "\n",
              "                                                text       subject  \\\n",
              "0   The head of a conservative Republican faction...  politicsNews   \n",
              "1   Transgender people will be allowed for the fi...  politicsNews   \n",
              "2   The special counsel investigation of links be...  politicsNews   \n",
              "3   Trump campaign adviser George Papadopoulos to...  politicsNews   \n",
              "4   President Donald Trump called on the U.S. Pos...  politicsNews   \n",
              "\n",
              "                 date  class  \n",
              "0  December 31, 2017       1  \n",
              "1  December 29, 2017       1  \n",
              "2  December 31, 2017       1  \n",
              "3  December 30, 2017       1  \n",
              "4  December 29, 2017       1  "
            ],
            "text/html": [
              "\n",
              "  <div id=\"df-2d36bb10-b4f3-473d-9c4d-a26f7f9dcde6\">\n",
              "    <div class=\"colab-df-container\">\n",
              "      <div>\n",
              "<style scoped>\n",
              "    .dataframe tbody tr th:only-of-type {\n",
              "        vertical-align: middle;\n",
              "    }\n",
              "\n",
              "    .dataframe tbody tr th {\n",
              "        vertical-align: top;\n",
              "    }\n",
              "\n",
              "    .dataframe thead th {\n",
              "        text-align: right;\n",
              "    }\n",
              "</style>\n",
              "<table border=\"1\" class=\"dataframe\">\n",
              "  <thead>\n",
              "    <tr style=\"text-align: right;\">\n",
              "      <th></th>\n",
              "      <th>title</th>\n",
              "      <th>text</th>\n",
              "      <th>subject</th>\n",
              "      <th>date</th>\n",
              "      <th>class</th>\n",
              "    </tr>\n",
              "  </thead>\n",
              "  <tbody>\n",
              "    <tr>\n",
              "      <th>0</th>\n",
              "      <td>As U.S. budget fight looms, Republicans flip t...</td>\n",
              "      <td>The head of a conservative Republican faction...</td>\n",
              "      <td>politicsNews</td>\n",
              "      <td>December 31, 2017</td>\n",
              "      <td>1</td>\n",
              "    </tr>\n",
              "    <tr>\n",
              "      <th>1</th>\n",
              "      <td>U.S. military to accept transgender recruits o...</td>\n",
              "      <td>Transgender people will be allowed for the fi...</td>\n",
              "      <td>politicsNews</td>\n",
              "      <td>December 29, 2017</td>\n",
              "      <td>1</td>\n",
              "    </tr>\n",
              "    <tr>\n",
              "      <th>2</th>\n",
              "      <td>Senior U.S. Republican senator: 'Let Mr. Muell...</td>\n",
              "      <td>The special counsel investigation of links be...</td>\n",
              "      <td>politicsNews</td>\n",
              "      <td>December 31, 2017</td>\n",
              "      <td>1</td>\n",
              "    </tr>\n",
              "    <tr>\n",
              "      <th>3</th>\n",
              "      <td>FBI Russia probe helped by Australian diplomat...</td>\n",
              "      <td>Trump campaign adviser George Papadopoulos to...</td>\n",
              "      <td>politicsNews</td>\n",
              "      <td>December 30, 2017</td>\n",
              "      <td>1</td>\n",
              "    </tr>\n",
              "    <tr>\n",
              "      <th>4</th>\n",
              "      <td>Trump wants Postal Service to charge 'much mor...</td>\n",
              "      <td>President Donald Trump called on the U.S. Pos...</td>\n",
              "      <td>politicsNews</td>\n",
              "      <td>December 29, 2017</td>\n",
              "      <td>1</td>\n",
              "    </tr>\n",
              "  </tbody>\n",
              "</table>\n",
              "</div>\n",
              "      <button class=\"colab-df-convert\" onclick=\"convertToInteractive('df-2d36bb10-b4f3-473d-9c4d-a26f7f9dcde6')\"\n",
              "              title=\"Convert this dataframe to an interactive table.\"\n",
              "              style=\"display:none;\">\n",
              "        \n",
              "  <svg xmlns=\"http://www.w3.org/2000/svg\" height=\"24px\"viewBox=\"0 0 24 24\"\n",
              "       width=\"24px\">\n",
              "    <path d=\"M0 0h24v24H0V0z\" fill=\"none\"/>\n",
              "    <path d=\"M18.56 5.44l.94 2.06.94-2.06 2.06-.94-2.06-.94-.94-2.06-.94 2.06-2.06.94zm-11 1L8.5 8.5l.94-2.06 2.06-.94-2.06-.94L8.5 2.5l-.94 2.06-2.06.94zm10 10l.94 2.06.94-2.06 2.06-.94-2.06-.94-.94-2.06-.94 2.06-2.06.94z\"/><path d=\"M17.41 7.96l-1.37-1.37c-.4-.4-.92-.59-1.43-.59-.52 0-1.04.2-1.43.59L10.3 9.45l-7.72 7.72c-.78.78-.78 2.05 0 2.83L4 21.41c.39.39.9.59 1.41.59.51 0 1.02-.2 1.41-.59l7.78-7.78 2.81-2.81c.8-.78.8-2.07 0-2.86zM5.41 20L4 18.59l7.72-7.72 1.47 1.35L5.41 20z\"/>\n",
              "  </svg>\n",
              "      </button>\n",
              "      \n",
              "  <style>\n",
              "    .colab-df-container {\n",
              "      display:flex;\n",
              "      flex-wrap:wrap;\n",
              "      gap: 12px;\n",
              "    }\n",
              "\n",
              "    .colab-df-convert {\n",
              "      background-color: #E8F0FE;\n",
              "      border: none;\n",
              "      border-radius: 50%;\n",
              "      cursor: pointer;\n",
              "      display: none;\n",
              "      fill: #1967D2;\n",
              "      height: 32px;\n",
              "      padding: 0 0 0 0;\n",
              "      width: 32px;\n",
              "    }\n",
              "\n",
              "    .colab-df-convert:hover {\n",
              "      background-color: #E2EBFA;\n",
              "      box-shadow: 0px 1px 2px rgba(60, 64, 67, 0.3), 0px 1px 3px 1px rgba(60, 64, 67, 0.15);\n",
              "      fill: #174EA6;\n",
              "    }\n",
              "\n",
              "    [theme=dark] .colab-df-convert {\n",
              "      background-color: #3B4455;\n",
              "      fill: #D2E3FC;\n",
              "    }\n",
              "\n",
              "    [theme=dark] .colab-df-convert:hover {\n",
              "      background-color: #434B5C;\n",
              "      box-shadow: 0px 1px 3px 1px rgba(0, 0, 0, 0.15);\n",
              "      filter: drop-shadow(0px 1px 2px rgba(0, 0, 0, 0.3));\n",
              "      fill: #FFFFFF;\n",
              "    }\n",
              "  </style>\n",
              "\n",
              "      <script>\n",
              "        const buttonEl =\n",
              "          document.querySelector('#df-2d36bb10-b4f3-473d-9c4d-a26f7f9dcde6 button.colab-df-convert');\n",
              "        buttonEl.style.display =\n",
              "          google.colab.kernel.accessAllowed ? 'block' : 'none';\n",
              "\n",
              "        async function convertToInteractive(key) {\n",
              "          const element = document.querySelector('#df-2d36bb10-b4f3-473d-9c4d-a26f7f9dcde6');\n",
              "          const dataTable =\n",
              "            await google.colab.kernel.invokeFunction('convertToInteractive',\n",
              "                                                     [key], {});\n",
              "          if (!dataTable) return;\n",
              "\n",
              "          const docLinkHtml = 'Like what you see? Visit the ' +\n",
              "            '<a target=\"_blank\" href=https://colab.research.google.com/notebooks/data_table.ipynb>data table notebook</a>'\n",
              "            + ' to learn more about interactive tables.';\n",
              "          element.innerHTML = '';\n",
              "          dataTable['output_type'] = 'display_data';\n",
              "          await google.colab.output.renderOutput(dataTable, element);\n",
              "          const docLink = document.createElement('div');\n",
              "          docLink.innerHTML = docLinkHtml;\n",
              "          element.appendChild(docLink);\n",
              "        }\n",
              "      </script>\n",
              "    </div>\n",
              "  </div>\n",
              "  "
            ]
          },
          "metadata": {},
          "execution_count": 151
        }
      ],
      "source": [
        "true.head()"
      ]
    },
    {
      "cell_type": "markdown",
      "metadata": {
        "id": "dS1RvEMO_PfB"
      },
      "source": [
        "# Merging True and Fake Dataframes\n",
        "Merged the two dataset in single dataset and save it in a csv file by using concat function in pandas.\n"
      ]
    },
    {
      "cell_type": "code",
      "execution_count": 152,
      "metadata": {
        "colab": {
          "base_uri": "https://localhost:8080/",
          "height": 363
        },
        "id": "baSWNUw-oQA4",
        "outputId": "15b6ae6e-caae-4498-c931-c04a99aa24e6"
      },
      "outputs": [
        {
          "output_type": "execute_result",
          "data": {
            "text/plain": [
              "                                               title  \\\n",
              "0   Donald Trump Sends Out Embarrassing New Year’...   \n",
              "1   Drunk Bragging Trump Staffer Started Russian ...   \n",
              "2   Sheriff David Clarke Becomes An Internet Joke...   \n",
              "3   Trump Is So Obsessed He Even Has Obama’s Name...   \n",
              "4   Pope Francis Just Called Out Donald Trump Dur...   \n",
              "5   Racist Alabama Cops Brutalize Black Boy While...   \n",
              "6   Fresh Off The Golf Course, Trump Lashes Out A...   \n",
              "7   Trump Said Some INSANELY Racist Stuff Inside ...   \n",
              "8   Former CIA Director Slams Trump Over UN Bully...   \n",
              "9   WATCH: Brand-New Pro-Trump Ad Features So Muc...   \n",
              "\n",
              "                                                text subject  \\\n",
              "0  Donald Trump just couldn t wish all Americans ...    News   \n",
              "1  House Intelligence Committee Chairman Devin Nu...    News   \n",
              "2  On Friday, it was revealed that former Milwauk...    News   \n",
              "3  On Christmas day, Donald Trump announced that ...    News   \n",
              "4  Pope Francis used his annual Christmas Day mes...    News   \n",
              "5  The number of cases of cops brutalizing and ki...    News   \n",
              "6  Donald Trump spent a good portion of his day a...    News   \n",
              "7  In the wake of yet another court decision that...    News   \n",
              "8  Many people have raised the alarm regarding th...    News   \n",
              "9  Just when you might have thought we d get a br...    News   \n",
              "\n",
              "                date  class  \n",
              "0  December 31, 2017      0  \n",
              "1  December 31, 2017      0  \n",
              "2  December 30, 2017      0  \n",
              "3  December 29, 2017      0  \n",
              "4  December 25, 2017      0  \n",
              "5  December 25, 2017      0  \n",
              "6  December 23, 2017      0  \n",
              "7  December 23, 2017      0  \n",
              "8  December 22, 2017      0  \n",
              "9  December 21, 2017      0  "
            ],
            "text/html": [
              "\n",
              "  <div id=\"df-360a40e8-74fb-4842-9edf-008c6bafe42d\">\n",
              "    <div class=\"colab-df-container\">\n",
              "      <div>\n",
              "<style scoped>\n",
              "    .dataframe tbody tr th:only-of-type {\n",
              "        vertical-align: middle;\n",
              "    }\n",
              "\n",
              "    .dataframe tbody tr th {\n",
              "        vertical-align: top;\n",
              "    }\n",
              "\n",
              "    .dataframe thead th {\n",
              "        text-align: right;\n",
              "    }\n",
              "</style>\n",
              "<table border=\"1\" class=\"dataframe\">\n",
              "  <thead>\n",
              "    <tr style=\"text-align: right;\">\n",
              "      <th></th>\n",
              "      <th>title</th>\n",
              "      <th>text</th>\n",
              "      <th>subject</th>\n",
              "      <th>date</th>\n",
              "      <th>class</th>\n",
              "    </tr>\n",
              "  </thead>\n",
              "  <tbody>\n",
              "    <tr>\n",
              "      <th>0</th>\n",
              "      <td>Donald Trump Sends Out Embarrassing New Year’...</td>\n",
              "      <td>Donald Trump just couldn t wish all Americans ...</td>\n",
              "      <td>News</td>\n",
              "      <td>December 31, 2017</td>\n",
              "      <td>0</td>\n",
              "    </tr>\n",
              "    <tr>\n",
              "      <th>1</th>\n",
              "      <td>Drunk Bragging Trump Staffer Started Russian ...</td>\n",
              "      <td>House Intelligence Committee Chairman Devin Nu...</td>\n",
              "      <td>News</td>\n",
              "      <td>December 31, 2017</td>\n",
              "      <td>0</td>\n",
              "    </tr>\n",
              "    <tr>\n",
              "      <th>2</th>\n",
              "      <td>Sheriff David Clarke Becomes An Internet Joke...</td>\n",
              "      <td>On Friday, it was revealed that former Milwauk...</td>\n",
              "      <td>News</td>\n",
              "      <td>December 30, 2017</td>\n",
              "      <td>0</td>\n",
              "    </tr>\n",
              "    <tr>\n",
              "      <th>3</th>\n",
              "      <td>Trump Is So Obsessed He Even Has Obama’s Name...</td>\n",
              "      <td>On Christmas day, Donald Trump announced that ...</td>\n",
              "      <td>News</td>\n",
              "      <td>December 29, 2017</td>\n",
              "      <td>0</td>\n",
              "    </tr>\n",
              "    <tr>\n",
              "      <th>4</th>\n",
              "      <td>Pope Francis Just Called Out Donald Trump Dur...</td>\n",
              "      <td>Pope Francis used his annual Christmas Day mes...</td>\n",
              "      <td>News</td>\n",
              "      <td>December 25, 2017</td>\n",
              "      <td>0</td>\n",
              "    </tr>\n",
              "    <tr>\n",
              "      <th>5</th>\n",
              "      <td>Racist Alabama Cops Brutalize Black Boy While...</td>\n",
              "      <td>The number of cases of cops brutalizing and ki...</td>\n",
              "      <td>News</td>\n",
              "      <td>December 25, 2017</td>\n",
              "      <td>0</td>\n",
              "    </tr>\n",
              "    <tr>\n",
              "      <th>6</th>\n",
              "      <td>Fresh Off The Golf Course, Trump Lashes Out A...</td>\n",
              "      <td>Donald Trump spent a good portion of his day a...</td>\n",
              "      <td>News</td>\n",
              "      <td>December 23, 2017</td>\n",
              "      <td>0</td>\n",
              "    </tr>\n",
              "    <tr>\n",
              "      <th>7</th>\n",
              "      <td>Trump Said Some INSANELY Racist Stuff Inside ...</td>\n",
              "      <td>In the wake of yet another court decision that...</td>\n",
              "      <td>News</td>\n",
              "      <td>December 23, 2017</td>\n",
              "      <td>0</td>\n",
              "    </tr>\n",
              "    <tr>\n",
              "      <th>8</th>\n",
              "      <td>Former CIA Director Slams Trump Over UN Bully...</td>\n",
              "      <td>Many people have raised the alarm regarding th...</td>\n",
              "      <td>News</td>\n",
              "      <td>December 22, 2017</td>\n",
              "      <td>0</td>\n",
              "    </tr>\n",
              "    <tr>\n",
              "      <th>9</th>\n",
              "      <td>WATCH: Brand-New Pro-Trump Ad Features So Muc...</td>\n",
              "      <td>Just when you might have thought we d get a br...</td>\n",
              "      <td>News</td>\n",
              "      <td>December 21, 2017</td>\n",
              "      <td>0</td>\n",
              "    </tr>\n",
              "  </tbody>\n",
              "</table>\n",
              "</div>\n",
              "      <button class=\"colab-df-convert\" onclick=\"convertToInteractive('df-360a40e8-74fb-4842-9edf-008c6bafe42d')\"\n",
              "              title=\"Convert this dataframe to an interactive table.\"\n",
              "              style=\"display:none;\">\n",
              "        \n",
              "  <svg xmlns=\"http://www.w3.org/2000/svg\" height=\"24px\"viewBox=\"0 0 24 24\"\n",
              "       width=\"24px\">\n",
              "    <path d=\"M0 0h24v24H0V0z\" fill=\"none\"/>\n",
              "    <path d=\"M18.56 5.44l.94 2.06.94-2.06 2.06-.94-2.06-.94-.94-2.06-.94 2.06-2.06.94zm-11 1L8.5 8.5l.94-2.06 2.06-.94-2.06-.94L8.5 2.5l-.94 2.06-2.06.94zm10 10l.94 2.06.94-2.06 2.06-.94-2.06-.94-.94-2.06-.94 2.06-2.06.94z\"/><path d=\"M17.41 7.96l-1.37-1.37c-.4-.4-.92-.59-1.43-.59-.52 0-1.04.2-1.43.59L10.3 9.45l-7.72 7.72c-.78.78-.78 2.05 0 2.83L4 21.41c.39.39.9.59 1.41.59.51 0 1.02-.2 1.41-.59l7.78-7.78 2.81-2.81c.8-.78.8-2.07 0-2.86zM5.41 20L4 18.59l7.72-7.72 1.47 1.35L5.41 20z\"/>\n",
              "  </svg>\n",
              "      </button>\n",
              "      \n",
              "  <style>\n",
              "    .colab-df-container {\n",
              "      display:flex;\n",
              "      flex-wrap:wrap;\n",
              "      gap: 12px;\n",
              "    }\n",
              "\n",
              "    .colab-df-convert {\n",
              "      background-color: #E8F0FE;\n",
              "      border: none;\n",
              "      border-radius: 50%;\n",
              "      cursor: pointer;\n",
              "      display: none;\n",
              "      fill: #1967D2;\n",
              "      height: 32px;\n",
              "      padding: 0 0 0 0;\n",
              "      width: 32px;\n",
              "    }\n",
              "\n",
              "    .colab-df-convert:hover {\n",
              "      background-color: #E2EBFA;\n",
              "      box-shadow: 0px 1px 2px rgba(60, 64, 67, 0.3), 0px 1px 3px 1px rgba(60, 64, 67, 0.15);\n",
              "      fill: #174EA6;\n",
              "    }\n",
              "\n",
              "    [theme=dark] .colab-df-convert {\n",
              "      background-color: #3B4455;\n",
              "      fill: #D2E3FC;\n",
              "    }\n",
              "\n",
              "    [theme=dark] .colab-df-convert:hover {\n",
              "      background-color: #434B5C;\n",
              "      box-shadow: 0px 1px 3px 1px rgba(0, 0, 0, 0.15);\n",
              "      filter: drop-shadow(0px 1px 2px rgba(0, 0, 0, 0.3));\n",
              "      fill: #FFFFFF;\n",
              "    }\n",
              "  </style>\n",
              "\n",
              "      <script>\n",
              "        const buttonEl =\n",
              "          document.querySelector('#df-360a40e8-74fb-4842-9edf-008c6bafe42d button.colab-df-convert');\n",
              "        buttonEl.style.display =\n",
              "          google.colab.kernel.accessAllowed ? 'block' : 'none';\n",
              "\n",
              "        async function convertToInteractive(key) {\n",
              "          const element = document.querySelector('#df-360a40e8-74fb-4842-9edf-008c6bafe42d');\n",
              "          const dataTable =\n",
              "            await google.colab.kernel.invokeFunction('convertToInteractive',\n",
              "                                                     [key], {});\n",
              "          if (!dataTable) return;\n",
              "\n",
              "          const docLinkHtml = 'Like what you see? Visit the ' +\n",
              "            '<a target=\"_blank\" href=https://colab.research.google.com/notebooks/data_table.ipynb>data table notebook</a>'\n",
              "            + ' to learn more about interactive tables.';\n",
              "          element.innerHTML = '';\n",
              "          dataTable['output_type'] = 'display_data';\n",
              "          await google.colab.output.renderOutput(dataTable, element);\n",
              "          const docLink = document.createElement('div');\n",
              "          docLink.innerHTML = docLinkHtml;\n",
              "          element.appendChild(docLink);\n",
              "        }\n",
              "      </script>\n",
              "    </div>\n",
              "  </div>\n",
              "  "
            ]
          },
          "metadata": {},
          "execution_count": 152
        }
      ],
      "source": [
        "# Lets combine the fake and real datasets. Concat is concatenation. So the true dataset is concatenated to fake and the new dataframe is called as merge.\n",
        "merge = pd.concat([fake, true], axis =0 )\n",
        "merge.head(10)"
      ]
    },
    {
      "cell_type": "code",
      "source": [
        "# Check the number of rows in merged dataframe\n",
        "merge.shape"
      ],
      "metadata": {
        "colab": {
          "base_uri": "https://localhost:8080/",
          "height": 0
        },
        "id": "csipxHbBokQA",
        "outputId": "4e0fabfd-0961-4613-f9ce-ecae27259192"
      },
      "execution_count": 153,
      "outputs": [
        {
          "output_type": "execute_result",
          "data": {
            "text/plain": [
              "(44898, 5)"
            ]
          },
          "metadata": {},
          "execution_count": 153
        }
      ]
    },
    {
      "cell_type": "code",
      "execution_count": 154,
      "metadata": {
        "colab": {
          "base_uri": "https://localhost:8080/",
          "height": 0
        },
        "id": "P83WnJscojdA",
        "outputId": "93d96d89-3cdb-41f8-a440-8d30e377afa6"
      },
      "outputs": [
        {
          "output_type": "execute_result",
          "data": {
            "text/plain": [
              "Index(['title', 'text', 'subject', 'date', 'class'], dtype='object')"
            ]
          },
          "metadata": {},
          "execution_count": 154
        }
      ],
      "source": [
        "merge.columns"
      ]
    },
    {
      "cell_type": "code",
      "execution_count": 155,
      "metadata": {
        "colab": {
          "base_uri": "https://localhost:8080/",
          "height": 352
        },
        "id": "2cwWl0Obo4Bb",
        "outputId": "0a1f63ae-86ea-481d-c743-70732b527e8d"
      },
      "outputs": [
        {
          "output_type": "execute_result",
          "data": {
            "text/plain": [
              "<matplotlib.axes._subplots.AxesSubplot at 0x7f3a5dcb1090>"
            ]
          },
          "metadata": {},
          "execution_count": 155
        },
        {
          "output_type": "display_data",
          "data": {
            "text/plain": [
              "<Figure size 720x360 with 1 Axes>"
            ],
            "image/png": "[encoded data removed]"
          },
          "metadata": {
            "needs_background": "light"
          }
        }
      ],
      "source": [
        "# Let’s start by looking at the count of news types in our dataset. \n",
        "\n",
        "# Our dataset has more political news than any other news followed by world news.\n",
        "# We have some repeated class names which express the same meaning such as news, politics, government news, etc which is similar to the alternative. \n",
        "\n",
        "plt.figure(figsize=(10,5))\n",
        "sns.countplot(x='subject', data=merge)"
      ]
    },
    {
      "cell_type": "code",
      "execution_count": 156,
      "metadata": {
        "colab": {
          "base_uri": "https://localhost:8080/",
          "height": 352
        },
        "id": "t7LYywbUpHk4",
        "outputId": "92acb141-27dc-4fb2-a59c-0ace45dff476"
      },
      "outputs": [
        {
          "output_type": "execute_result",
          "data": {
            "text/plain": [
              "<matplotlib.axes._subplots.AxesSubplot at 0x7f3a587de3d0>"
            ]
          },
          "metadata": {},
          "execution_count": 156
        },
        {
          "output_type": "display_data",
          "data": {
            "text/plain": [
              "<Figure size 720x360 with 1 Axes>"
            ],
            "image/png": "[encoded data removed]"
          },
          "metadata": {
            "needs_background": "light"
          }
        }
      ],
      "source": [
        "# Let’s look at the class based on the fake/true outcome.\n",
        "\n",
        "# from the boxplot you can see the that fake class=0 is greater than the true class=1\n",
        "\n",
        "plt.figure(figsize=(10,5))\n",
        "sns.countplot(x='subject', hue='class', data=merge)"
      ]
    },
    {
      "cell_type": "code",
      "execution_count": 157,
      "metadata": {
        "colab": {
          "base_uri": "https://localhost:8080/",
          "height": 351
        },
        "id": "6yGzm8jEbqH-",
        "outputId": "8c18a6b8-879c-47e2-8be4-7c65c8b12ec9"
      },
      "outputs": [
        {
          "output_type": "execute_result",
          "data": {
            "text/plain": [
              "<matplotlib.axes._subplots.AxesSubplot at 0x7f3a58bf3e90>"
            ]
          },
          "metadata": {},
          "execution_count": 157
        },
        {
          "output_type": "display_data",
          "data": {
            "text/plain": [
              "<Figure size 720x360 with 1 Axes>"
            ],
            "image/png": "[encoded data removed]"
          },
          "metadata": {
            "needs_background": "light"
          }
        }
      ],
      "source": [
        "# Verify the class balance in merged dataframe. Both classes have roughly same number of observations.\n",
        "\n",
        "# Let’s check the count of fake and true news and confirm whether our data is balanced or not.\n",
        "\n",
        "# from the boxplot showing the fake and true news are almost balanced.\n",
        "\n",
        "# We have a pretty much-balanced data but the count of fake news is higher than the true news but not so.\n",
        "\n",
        "plt.figure(figsize=(10,5))\n",
        "sns.countplot(x='class', data=merge)"
      ]
    },
    {
      "cell_type": "markdown",
      "source": [
        "# Removing columns : \"subject\" and \"date\" columns"
      ],
      "metadata": {
        "id": "dpyYUp2Vpkhy"
      }
    },
    {
      "cell_type": "markdown",
      "metadata": {
        "id": "zAYC4P9cAgCU"
      },
      "source": [
        "I have dropped the subject - Because the news subject column has a non-consistent distribution in both the real and fake news datasets, so I will drop it.\n",
        "\n",
        "dropped date -  as its not important and doesnt have impact as well."
      ]
    },
    {
      "cell_type": "code",
      "execution_count": 158,
      "metadata": {
        "id": "OXawjaKCpS0C"
      },
      "outputs": [],
      "source": [
        "# We are interested in the complete text so remove the other columns.\n",
        "\n",
        "df = merge.drop([\"subject\",\"date\"], axis = 1)"
      ]
    },
    {
      "cell_type": "code",
      "execution_count": 159,
      "metadata": {
        "colab": {
          "base_uri": "https://localhost:8080/",
          "height": 0
        },
        "id": "Xx42A4xgpZeD",
        "outputId": "5c0d867a-cfbf-4195-ec91-84c0586fdbdf"
      },
      "outputs": [
        {
          "output_type": "execute_result",
          "data": {
            "text/plain": [
              "title    0\n",
              "text     0\n",
              "class    0\n",
              "dtype: int64"
            ]
          },
          "metadata": {},
          "execution_count": 159
        }
      ],
      "source": [
        "df.isnull().sum()"
      ]
    },
    {
      "cell_type": "code",
      "execution_count": 160,
      "metadata": {
        "colab": {
          "base_uri": "https://localhost:8080/",
          "height": 0
        },
        "id": "C6Zeg5Lepdek",
        "outputId": "cfe8a716-cedd-4710-80cc-847a35db802f"
      },
      "outputs": [
        {
          "output_type": "stream",
          "name": "stdout",
          "text": [
            "<class 'pandas.core.frame.DataFrame'>\n",
            "Int64Index: 44898 entries, 0 to 21416\n",
            "Data columns (total 3 columns):\n",
            " #   Column  Non-Null Count  Dtype \n",
            "---  ------  --------------  ----- \n",
            " 0   title   44898 non-null  object\n",
            " 1   text    44898 non-null  object\n",
            " 2   class   44898 non-null  int64 \n",
            "dtypes: int64(1), object(2)\n",
            "memory usage: 2.4+ MB\n"
          ]
        }
      ],
      "source": [
        "df.info()"
      ]
    },
    {
      "cell_type": "markdown",
      "metadata": {
        "id": "tPH7h4Qd_aNp"
      },
      "source": [
        "# Random Shuffling the dataframe"
      ]
    },
    {
      "cell_type": "code",
      "execution_count": 161,
      "metadata": {
        "id": "P2IKrqbKpf98"
      },
      "outputs": [],
      "source": [
        "# Shuffle the dataset\n",
        "\n",
        "df = df.sample(frac = 1)"
      ]
    },
    {
      "cell_type": "code",
      "execution_count": 162,
      "metadata": {
        "colab": {
          "base_uri": "https://localhost:8080/",
          "height": 363
        },
        "id": "2v1LSX9oplxL",
        "outputId": "433c0819-a752-4b05-b731-843b020f7d0e"
      },
      "outputs": [
        {
          "output_type": "execute_result",
          "data": {
            "text/plain": [
              "                                                   title  \\\n",
              "6479    Incoherent Lady Goes On CNN To Inform Paul Ry...   \n",
              "5081   Speaker Ryan says Republican healthcare plan w...   \n",
              "2356   Tillerson says he and Trump disagree over Iran...   \n",
              "6955    This Moving Message To Trump Supporters Might...   \n",
              "10911  FURIOUS FBI Agents Speak Out On Clinton Email ...   \n",
              "16454  Fugitives in Kim Jong Nam killing changed clot...   \n",
              "11930  Thai junta says to allow parties to get ready ...   \n",
              "21564  WOW! COMPANY THAT BUYS ABORTED BABY PARTS FROM...   \n",
              "11013          A low-key Trump ends social media silence   \n",
              "542     GOP Implodes As Trump Launches Nasty Public F...   \n",
              "\n",
              "                                                    text  class  \n",
              "6479   If there s one thing politicians should be ter...      0  \n",
              "5081    U.S. House Speaker Paul Ryan said on Tuesday ...      1  \n",
              "2356    U.S. Secretary of State Rex Tillerson acknowl...      1  \n",
              "6955   What started as a prank to annoy Trump support...      0  \n",
              "10911  FBI Agents are coming forward now to voice the...      0  \n",
              "16454   Four men suspected of killing the North Korea...      1  \n",
              "11930   Thai Prime Minister Prayuth Chan-ocha said on...      1  \n",
              "21564  Last we checked harvesting and selling body pa...      0  \n",
              "11013   After what seemed like a very long silence by...      1  \n",
              "542    Donald Trump is continuing to dig himself into...      0  "
            ],
            "text/html": [
              "\n",
              "  <div id=\"df-611f5d36-fc6c-4bd3-8ebf-e1d034f5ecdf\">\n",
              "    <div class=\"colab-df-container\">\n",
              "      <div>\n",
              "<style scoped>\n",
              "    .dataframe tbody tr th:only-of-type {\n",
              "        vertical-align: middle;\n",
              "    }\n",
              "\n",
              "    .dataframe tbody tr th {\n",
              "        vertical-align: top;\n",
              "    }\n",
              "\n",
              "    .dataframe thead th {\n",
              "        text-align: right;\n",
              "    }\n",
              "</style>\n",
              "<table border=\"1\" class=\"dataframe\">\n",
              "  <thead>\n",
              "    <tr style=\"text-align: right;\">\n",
              "      <th></th>\n",
              "      <th>title</th>\n",
              "      <th>text</th>\n",
              "      <th>class</th>\n",
              "    </tr>\n",
              "  </thead>\n",
              "  <tbody>\n",
              "    <tr>\n",
              "      <th>6479</th>\n",
              "      <td>Incoherent Lady Goes On CNN To Inform Paul Ry...</td>\n",
              "      <td>If there s one thing politicians should be ter...</td>\n",
              "      <td>0</td>\n",
              "    </tr>\n",
              "    <tr>\n",
              "      <th>5081</th>\n",
              "      <td>Speaker Ryan says Republican healthcare plan w...</td>\n",
              "      <td>U.S. House Speaker Paul Ryan said on Tuesday ...</td>\n",
              "      <td>1</td>\n",
              "    </tr>\n",
              "    <tr>\n",
              "      <th>2356</th>\n",
              "      <td>Tillerson says he and Trump disagree over Iran...</td>\n",
              "      <td>U.S. Secretary of State Rex Tillerson acknowl...</td>\n",
              "      <td>1</td>\n",
              "    </tr>\n",
              "    <tr>\n",
              "      <th>6955</th>\n",
              "      <td>This Moving Message To Trump Supporters Might...</td>\n",
              "      <td>What started as a prank to annoy Trump support...</td>\n",
              "      <td>0</td>\n",
              "    </tr>\n",
              "    <tr>\n",
              "      <th>10911</th>\n",
              "      <td>FURIOUS FBI Agents Speak Out On Clinton Email ...</td>\n",
              "      <td>FBI Agents are coming forward now to voice the...</td>\n",
              "      <td>0</td>\n",
              "    </tr>\n",
              "    <tr>\n",
              "      <th>16454</th>\n",
              "      <td>Fugitives in Kim Jong Nam killing changed clot...</td>\n",
              "      <td>Four men suspected of killing the North Korea...</td>\n",
              "      <td>1</td>\n",
              "    </tr>\n",
              "    <tr>\n",
              "      <th>11930</th>\n",
              "      <td>Thai junta says to allow parties to get ready ...</td>\n",
              "      <td>Thai Prime Minister Prayuth Chan-ocha said on...</td>\n",
              "      <td>1</td>\n",
              "    </tr>\n",
              "    <tr>\n",
              "      <th>21564</th>\n",
              "      <td>WOW! COMPANY THAT BUYS ABORTED BABY PARTS FROM...</td>\n",
              "      <td>Last we checked harvesting and selling body pa...</td>\n",
              "      <td>0</td>\n",
              "    </tr>\n",
              "    <tr>\n",
              "      <th>11013</th>\n",
              "      <td>A low-key Trump ends social media silence</td>\n",
              "      <td>After what seemed like a very long silence by...</td>\n",
              "      <td>1</td>\n",
              "    </tr>\n",
              "    <tr>\n",
              "      <th>542</th>\n",
              "      <td>GOP Implodes As Trump Launches Nasty Public F...</td>\n",
              "      <td>Donald Trump is continuing to dig himself into...</td>\n",
              "      <td>0</td>\n",
              "    </tr>\n",
              "  </tbody>\n",
              "</table>\n",
              "</div>\n",
              "      <button class=\"colab-df-convert\" onclick=\"convertToInteractive('df-611f5d36-fc6c-4bd3-8ebf-e1d034f5ecdf')\"\n",
              "              title=\"Convert this dataframe to an interactive table.\"\n",
              "              style=\"display:none;\">\n",
              "        \n",
              "  <svg xmlns=\"http://www.w3.org/2000/svg\" height=\"24px\"viewBox=\"0 0 24 24\"\n",
              "       width=\"24px\">\n",
              "    <path d=\"M0 0h24v24H0V0z\" fill=\"none\"/>\n",
              "    <path d=\"M18.56 5.44l.94 2.06.94-2.06 2.06-.94-2.06-.94-.94-2.06-.94 2.06-2.06.94zm-11 1L8.5 8.5l.94-2.06 2.06-.94-2.06-.94L8.5 2.5l-.94 2.06-2.06.94zm10 10l.94 2.06.94-2.06 2.06-.94-2.06-.94-.94-2.06-.94 2.06-2.06.94z\"/><path d=\"M17.41 7.96l-1.37-1.37c-.4-.4-.92-.59-1.43-.59-.52 0-1.04.2-1.43.59L10.3 9.45l-7.72 7.72c-.78.78-.78 2.05 0 2.83L4 21.41c.39.39.9.59 1.41.59.51 0 1.02-.2 1.41-.59l7.78-7.78 2.81-2.81c.8-.78.8-2.07 0-2.86zM5.41 20L4 18.59l7.72-7.72 1.47 1.35L5.41 20z\"/>\n",
              "  </svg>\n",
              "      </button>\n",
              "      \n",
              "  <style>\n",
              "    .colab-df-container {\n",
              "      display:flex;\n",
              "      flex-wrap:wrap;\n",
              "      gap: 12px;\n",
              "    }\n",
              "\n",
              "    .colab-df-convert {\n",
              "      background-color: #E8F0FE;\n",
              "      border: none;\n",
              "      border-radius: 50%;\n",
              "      cursor: pointer;\n",
              "      display: none;\n",
              "      fill: #1967D2;\n",
              "      height: 32px;\n",
              "      padding: 0 0 0 0;\n",
              "      width: 32px;\n",
              "    }\n",
              "\n",
              "    .colab-df-convert:hover {\n",
              "      background-color: #E2EBFA;\n",
              "      box-shadow: 0px 1px 2px rgba(60, 64, 67, 0.3), 0px 1px 3px 1px rgba(60, 64, 67, 0.15);\n",
              "      fill: #174EA6;\n",
              "    }\n",
              "\n",
              "    [theme=dark] .colab-df-convert {\n",
              "      background-color: #3B4455;\n",
              "      fill: #D2E3FC;\n",
              "    }\n",
              "\n",
              "    [theme=dark] .colab-df-convert:hover {\n",
              "      background-color: #434B5C;\n",
              "      box-shadow: 0px 1px 3px 1px rgba(0, 0, 0, 0.15);\n",
              "      filter: drop-shadow(0px 1px 2px rgba(0, 0, 0, 0.3));\n",
              "      fill: #FFFFFF;\n",
              "    }\n",
              "  </style>\n",
              "\n",
              "      <script>\n",
              "        const buttonEl =\n",
              "          document.querySelector('#df-611f5d36-fc6c-4bd3-8ebf-e1d034f5ecdf button.colab-df-convert');\n",
              "        buttonEl.style.display =\n",
              "          google.colab.kernel.accessAllowed ? 'block' : 'none';\n",
              "\n",
              "        async function convertToInteractive(key) {\n",
              "          const element = document.querySelector('#df-611f5d36-fc6c-4bd3-8ebf-e1d034f5ecdf');\n",
              "          const dataTable =\n",
              "            await google.colab.kernel.invokeFunction('convertToInteractive',\n",
              "                                                     [key], {});\n",
              "          if (!dataTable) return;\n",
              "\n",
              "          const docLinkHtml = 'Like what you see? Visit the ' +\n",
              "            '<a target=\"_blank\" href=https://colab.research.google.com/notebooks/data_table.ipynb>data table notebook</a>'\n",
              "            + ' to learn more about interactive tables.';\n",
              "          element.innerHTML = '';\n",
              "          dataTable['output_type'] = 'display_data';\n",
              "          await google.colab.output.renderOutput(dataTable, element);\n",
              "          const docLink = document.createElement('div');\n",
              "          docLink.innerHTML = docLinkHtml;\n",
              "          element.appendChild(docLink);\n",
              "        }\n",
              "      </script>\n",
              "    </div>\n",
              "  </div>\n",
              "  "
            ]
          },
          "metadata": {},
          "execution_count": 162
        }
      ],
      "source": [
        "df.head(10)"
      ]
    },
    {
      "cell_type": "markdown",
      "metadata": {
        "id": "-I81r2wG_kCx"
      },
      "source": [
        "Resetting the index to make it easier to work with the dataframe."
      ]
    },
    {
      "cell_type": "code",
      "execution_count": 163,
      "metadata": {
        "id": "PtG2brqQptro"
      },
      "outputs": [],
      "source": [
        "# Since we shuffled the dataset, the index is no longer consecutive. So reset the index\n",
        "df.reset_index(inplace = True)\n",
        "\n",
        "# This creates an additional column index which is not needed. So remove the index column.\n",
        "df.drop([\"index\"], axis = 1, inplace = True)"
      ]
    },
    {
      "cell_type": "code",
      "execution_count": 164,
      "metadata": {
        "colab": {
          "base_uri": "https://localhost:8080/",
          "height": 0
        },
        "id": "-PI0sE64pw25",
        "outputId": "33ba75a4-9c02-4f85-e953-b8336b90f696"
      },
      "outputs": [
        {
          "output_type": "execute_result",
          "data": {
            "text/plain": [
              "Index(['title', 'text', 'class'], dtype='object')"
            ]
          },
          "metadata": {},
          "execution_count": 164
        }
      ],
      "source": [
        "df.columns"
      ]
    },
    {
      "cell_type": "code",
      "execution_count": 165,
      "metadata": {
        "colab": {
          "base_uri": "https://localhost:8080/",
          "height": 363
        },
        "id": "lH0CuG53pzvX",
        "outputId": "092fa663-cef8-42e3-c550-fbcfa8158b42"
      },
      "outputs": [
        {
          "output_type": "execute_result",
          "data": {
            "text/plain": [
              "                                               title  \\\n",
              "0   Incoherent Lady Goes On CNN To Inform Paul Ry...   \n",
              "1  Speaker Ryan says Republican healthcare plan w...   \n",
              "2  Tillerson says he and Trump disagree over Iran...   \n",
              "3   This Moving Message To Trump Supporters Might...   \n",
              "4  FURIOUS FBI Agents Speak Out On Clinton Email ...   \n",
              "5  Fugitives in Kim Jong Nam killing changed clot...   \n",
              "6  Thai junta says to allow parties to get ready ...   \n",
              "7  WOW! COMPANY THAT BUYS ABORTED BABY PARTS FROM...   \n",
              "8          A low-key Trump ends social media silence   \n",
              "9   GOP Implodes As Trump Launches Nasty Public F...   \n",
              "\n",
              "                                                text  class  \n",
              "0  If there s one thing politicians should be ter...      0  \n",
              "1   U.S. House Speaker Paul Ryan said on Tuesday ...      1  \n",
              "2   U.S. Secretary of State Rex Tillerson acknowl...      1  \n",
              "3  What started as a prank to annoy Trump support...      0  \n",
              "4  FBI Agents are coming forward now to voice the...      0  \n",
              "5   Four men suspected of killing the North Korea...      1  \n",
              "6   Thai Prime Minister Prayuth Chan-ocha said on...      1  \n",
              "7  Last we checked harvesting and selling body pa...      0  \n",
              "8   After what seemed like a very long silence by...      1  \n",
              "9  Donald Trump is continuing to dig himself into...      0  "
            ],
            "text/html": [
              "\n",
              "  <div id=\"df-0b7dd034-c1c8-4e13-acc1-2625693bd438\">\n",
              "    <div class=\"colab-df-container\">\n",
              "      <div>\n",
              "<style scoped>\n",
              "    .dataframe tbody tr th:only-of-type {\n",
              "        vertical-align: middle;\n",
              "    }\n",
              "\n",
              "    .dataframe tbody tr th {\n",
              "        vertical-align: top;\n",
              "    }\n",
              "\n",
              "    .dataframe thead th {\n",
              "        text-align: right;\n",
              "    }\n",
              "</style>\n",
              "<table border=\"1\" class=\"dataframe\">\n",
              "  <thead>\n",
              "    <tr style=\"text-align: right;\">\n",
              "      <th></th>\n",
              "      <th>title</th>\n",
              "      <th>text</th>\n",
              "      <th>class</th>\n",
              "    </tr>\n",
              "  </thead>\n",
              "  <tbody>\n",
              "    <tr>\n",
              "      <th>0</th>\n",
              "      <td>Incoherent Lady Goes On CNN To Inform Paul Ry...</td>\n",
              "      <td>If there s one thing politicians should be ter...</td>\n",
              "      <td>0</td>\n",
              "    </tr>\n",
              "    <tr>\n",
              "      <th>1</th>\n",
              "      <td>Speaker Ryan says Republican healthcare plan w...</td>\n",
              "      <td>U.S. House Speaker Paul Ryan said on Tuesday ...</td>\n",
              "      <td>1</td>\n",
              "    </tr>\n",
              "    <tr>\n",
              "      <th>2</th>\n",
              "      <td>Tillerson says he and Trump disagree over Iran...</td>\n",
              "      <td>U.S. Secretary of State Rex Tillerson acknowl...</td>\n",
              "      <td>1</td>\n",
              "    </tr>\n",
              "    <tr>\n",
              "      <th>3</th>\n",
              "      <td>This Moving Message To Trump Supporters Might...</td>\n",
              "      <td>What started as a prank to annoy Trump support...</td>\n",
              "      <td>0</td>\n",
              "    </tr>\n",
              "    <tr>\n",
              "      <th>4</th>\n",
              "      <td>FURIOUS FBI Agents Speak Out On Clinton Email ...</td>\n",
              "      <td>FBI Agents are coming forward now to voice the...</td>\n",
              "      <td>0</td>\n",
              "    </tr>\n",
              "    <tr>\n",
              "      <th>5</th>\n",
              "      <td>Fugitives in Kim Jong Nam killing changed clot...</td>\n",
              "      <td>Four men suspected of killing the North Korea...</td>\n",
              "      <td>1</td>\n",
              "    </tr>\n",
              "    <tr>\n",
              "      <th>6</th>\n",
              "      <td>Thai junta says to allow parties to get ready ...</td>\n",
              "      <td>Thai Prime Minister Prayuth Chan-ocha said on...</td>\n",
              "      <td>1</td>\n",
              "    </tr>\n",
              "    <tr>\n",
              "      <th>7</th>\n",
              "      <td>WOW! COMPANY THAT BUYS ABORTED BABY PARTS FROM...</td>\n",
              "      <td>Last we checked harvesting and selling body pa...</td>\n",
              "      <td>0</td>\n",
              "    </tr>\n",
              "    <tr>\n",
              "      <th>8</th>\n",
              "      <td>A low-key Trump ends social media silence</td>\n",
              "      <td>After what seemed like a very long silence by...</td>\n",
              "      <td>1</td>\n",
              "    </tr>\n",
              "    <tr>\n",
              "      <th>9</th>\n",
              "      <td>GOP Implodes As Trump Launches Nasty Public F...</td>\n",
              "      <td>Donald Trump is continuing to dig himself into...</td>\n",
              "      <td>0</td>\n",
              "    </tr>\n",
              "  </tbody>\n",
              "</table>\n",
              "</div>\n",
              "      <button class=\"colab-df-convert\" onclick=\"convertToInteractive('df-0b7dd034-c1c8-4e13-acc1-2625693bd438')\"\n",
              "              title=\"Convert this dataframe to an interactive table.\"\n",
              "              style=\"display:none;\">\n",
              "        \n",
              "  <svg xmlns=\"http://www.w3.org/2000/svg\" height=\"24px\"viewBox=\"0 0 24 24\"\n",
              "       width=\"24px\">\n",
              "    <path d=\"M0 0h24v24H0V0z\" fill=\"none\"/>\n",
              "    <path d=\"M18.56 5.44l.94 2.06.94-2.06 2.06-.94-2.06-.94-.94-2.06-.94 2.06-2.06.94zm-11 1L8.5 8.5l.94-2.06 2.06-.94-2.06-.94L8.5 2.5l-.94 2.06-2.06.94zm10 10l.94 2.06.94-2.06 2.06-.94-2.06-.94-.94-2.06-.94 2.06-2.06.94z\"/><path d=\"M17.41 7.96l-1.37-1.37c-.4-.4-.92-.59-1.43-.59-.52 0-1.04.2-1.43.59L10.3 9.45l-7.72 7.72c-.78.78-.78 2.05 0 2.83L4 21.41c.39.39.9.59 1.41.59.51 0 1.02-.2 1.41-.59l7.78-7.78 2.81-2.81c.8-.78.8-2.07 0-2.86zM5.41 20L4 18.59l7.72-7.72 1.47 1.35L5.41 20z\"/>\n",
              "  </svg>\n",
              "      </button>\n",
              "      \n",
              "  <style>\n",
              "    .colab-df-container {\n",
              "      display:flex;\n",
              "      flex-wrap:wrap;\n",
              "      gap: 12px;\n",
              "    }\n",
              "\n",
              "    .colab-df-convert {\n",
              "      background-color: #E8F0FE;\n",
              "      border: none;\n",
              "      border-radius: 50%;\n",
              "      cursor: pointer;\n",
              "      display: none;\n",
              "      fill: #1967D2;\n",
              "      height: 32px;\n",
              "      padding: 0 0 0 0;\n",
              "      width: 32px;\n",
              "    }\n",
              "\n",
              "    .colab-df-convert:hover {\n",
              "      background-color: #E2EBFA;\n",
              "      box-shadow: 0px 1px 2px rgba(60, 64, 67, 0.3), 0px 1px 3px 1px rgba(60, 64, 67, 0.15);\n",
              "      fill: #174EA6;\n",
              "    }\n",
              "\n",
              "    [theme=dark] .colab-df-convert {\n",
              "      background-color: #3B4455;\n",
              "      fill: #D2E3FC;\n",
              "    }\n",
              "\n",
              "    [theme=dark] .colab-df-convert:hover {\n",
              "      background-color: #434B5C;\n",
              "      box-shadow: 0px 1px 3px 1px rgba(0, 0, 0, 0.15);\n",
              "      filter: drop-shadow(0px 1px 2px rgba(0, 0, 0, 0.3));\n",
              "      fill: #FFFFFF;\n",
              "    }\n",
              "  </style>\n",
              "\n",
              "      <script>\n",
              "        const buttonEl =\n",
              "          document.querySelector('#df-0b7dd034-c1c8-4e13-acc1-2625693bd438 button.colab-df-convert');\n",
              "        buttonEl.style.display =\n",
              "          google.colab.kernel.accessAllowed ? 'block' : 'none';\n",
              "\n",
              "        async function convertToInteractive(key) {\n",
              "          const element = document.querySelector('#df-0b7dd034-c1c8-4e13-acc1-2625693bd438');\n",
              "          const dataTable =\n",
              "            await google.colab.kernel.invokeFunction('convertToInteractive',\n",
              "                                                     [key], {});\n",
              "          if (!dataTable) return;\n",
              "\n",
              "          const docLinkHtml = 'Like what you see? Visit the ' +\n",
              "            '<a target=\"_blank\" href=https://colab.research.google.com/notebooks/data_table.ipynb>data table notebook</a>'\n",
              "            + ' to learn more about interactive tables.';\n",
              "          element.innerHTML = '';\n",
              "          dataTable['output_type'] = 'display_data';\n",
              "          await google.colab.output.renderOutput(dataTable, element);\n",
              "          const docLink = document.createElement('div');\n",
              "          docLink.innerHTML = docLinkHtml;\n",
              "          element.appendChild(docLink);\n",
              "        }\n",
              "      </script>\n",
              "    </div>\n",
              "  </div>\n",
              "  "
            ]
          },
          "metadata": {},
          "execution_count": 165
        }
      ],
      "source": [
        "df.head(10)"
      ]
    },
    {
      "cell_type": "markdown",
      "metadata": {
        "id": "fu0YDyaKy_6y"
      },
      "source": [
        "Defining X and Y"
      ]
    },
    {
      "cell_type": "code",
      "execution_count": 166,
      "metadata": {
        "id": "14B3xupJp7uo"
      },
      "outputs": [],
      "source": [
        "x = df[\"text\"]\n",
        "y = df[\"class\"]"
      ]
    },
    {
      "cell_type": "markdown",
      "metadata": {
        "id": "0dMQKAmZAcSg"
      },
      "source": [
        "##Splitting the dataset into training set and testing set."
      ]
    },
    {
      "cell_type": "markdown",
      "metadata": {
        "id": "HIa-lUtgteFM"
      },
      "source": [
        "Splitting data into training and testting is important part of evaluating data models. Splitting data helps confirm the creation of data models and processes that use data models. If we would not split the data into different sets the model would be evaluated on the same data it has seen during training.  We could ecnounter some problems such as overfitting.\n",
        "\n",
        "The train-test split procedure is applicable when you have a very large dataset, a valuable model to train, or require a good estimate of model performance quickly.\n",
        "\n",
        "\n",
        "------\n",
        "Train/test split: The input data is divided into two parts, that are training set and test set on a ratio of 70:30, 80:20, etc. It provides a high variance, which is one of the biggest disadvantages.\n",
        "\n",
        "•\tTraining Data: The training data is used to train the model, and the dependent variable is known.\n",
        "\n",
        "•\tTest Data: The test data is used to make the predictions from the model that is already trained on the training data. This has the same features as training data but not the part of that.\n",
        "\n",
        "Cross-Validation dataset: It is used to overcome the disadvantage of train/test split by splitting the dataset into groups of train/test splits, and averaging the result. It can be used if we want to optimize our model that has been trained on the training dataset for the best performance. It is more efficient as compared to train/test split as every observation is used for the training and testing both.\n"
      ]
    },
    {
      "cell_type": "code",
      "execution_count": 167,
      "metadata": {
        "id": "S3z5U4owqBpn"
      },
      "outputs": [],
      "source": [
        "# This will split the dataframe into 75% of training and 25% of test\n",
        "x_train, x_test, y_train, y_test = train_test_split(x, y, test_size=0.25)"
      ]
    },
    {
      "cell_type": "markdown",
      "metadata": {
        "id": "uJAO8AC9tKXv"
      },
      "source": [
        "Vectorization is process of mapping our natural language into numerical values which is used to make predictions using different machine learning algorithms. \n",
        "\n",
        "\n",
        "Term frequency-inverse document frequency is a text vectorizer that transforms the text into a usable vector.\n",
        "\n",
        "TF-IDF is a text vectorizer that transforms the text into a usable vector. It combines 2 concepts, Term Frequency (TF) and Document Frequency (DF).\n",
        "\n",
        "TF is the number of occurrences of a specific term in a document. It also indicates how important a specific term in a document. TF represents every text from the data as a matrix whose rows are the number of documents and columns are the number of distinct terms throughout all documents.\n",
        "\n"
      ]
    },
    {
      "cell_type": "code",
      "execution_count": 168,
      "metadata": {
        "id": "BapNnAosqGru"
      },
      "outputs": [],
      "source": [
        "# The feature is a bunch of words. A simple and popular way to convert words to feature is term frequency and inverse document frequency.\n",
        "# The intuition behind tfidf is that it rates a higher value to the words that are more unique towards one row. This is done by \n",
        "# multiplying two fractions i.e. tf and idf.\n",
        "# tf is term frequency i.e. fraction of number of times word t is in the news to number of words in the news.\n",
        "# idf is the fraction of log of total number of documents to the number of documents the word t is present in it.\n",
        "\n",
        "# A sparse matrix of size (1 * number of total words) is formed for each news article.\n",
        "# A sparse matrix of size (number of rows * number of total words) is formed for entire dataset.\n",
        "# A sparse matrix is matrix that contains a lot of zeroes\n",
        "\n",
        "from sklearn.feature_extraction.text import TfidfVectorizer\n",
        "\n",
        "vectorization = TfidfVectorizer()\n",
        "xv_train = vectorization.fit_transform(x_train)\n",
        "xv_test = vectorization.transform(x_test)"
      ]
    },
    {
      "cell_type": "markdown",
      "source": [
        "#Training Models\n",
        "\n",
        "a classifier - is an algorithm that maps the input data to a specific category.\n",
        "\n",
        "classification - refers to a predictive modeling problem where a class label is predicted for a given example of input data.\n",
        "\n",
        "Classification - is a process of categorizing a given set of data into classes.\n",
        "\n",
        "Classification Model – The model predicts or draws a conclusion to the input data given for training, it will predict the class or category for the data.\n",
        "\n",
        "a class - is a discrete value from a set of predefined values\n",
        "\n",
        "The classes - are often referred to as target, label or categories.\n",
        "\n",
        "data set -  collection of data pieces that can be treated by a computer as a single unit for analytic and prediction purposes.\n",
        "\n",
        "Graphs are data structures that can be ingested by various algorithms"
      ],
      "metadata": {
        "id": "O1DLPmayxthv"
      }
    },
    {
      "cell_type": "markdown",
      "source": [
        "\n",
        "#Logistic Regression \n",
        "\n",
        "Logistic regression is a simple and more efficient method for binary and linear classification problems. It is a classification model, which is very easy to realize and achieves very good performance with linearly separable classes."
      ],
      "metadata": {
        "id": "-Mx_NLoJC2l3"
      }
    },
    {
      "cell_type": "code",
      "source": [
        "# lets first fit a simple model with no tuning\n",
        "from sklearn.linear_model import LogisticRegression\n",
        "LR = LogisticRegression()\n",
        "\n",
        "#fitting training set to the model\n",
        "LR.fit(xv_train,y_train)"
      ],
      "metadata": {
        "colab": {
          "base_uri": "https://localhost:8080/",
          "height": 0
        },
        "id": "-FcFkgGgs8GN",
        "outputId": "1f590430-80b8-4e30-d412-574c38c8511e"
      },
      "execution_count": 169,
      "outputs": [
        {
          "output_type": "execute_result",
          "data": {
            "text/plain": [
              "LogisticRegression()"
            ]
          },
          "metadata": {},
          "execution_count": 169
        }
      ]
    },
    {
      "cell_type": "code",
      "source": [
        "# Predicting the test set results based on the model.\n",
        "predictions = LR.predict(xv_test)"
      ],
      "metadata": {
        "id": "H9rsOHdptYwC"
      },
      "execution_count": 170,
      "outputs": []
    },
    {
      "cell_type": "code",
      "source": [
        "LR.score = accuracy_score(y_test, predictions) \n",
        "LR.score"
      ],
      "metadata": {
        "colab": {
          "base_uri": "https://localhost:8080/",
          "height": 0
        },
        "id": "2dsy0dWytQQx",
        "outputId": "70c7801b-50f1-4e38-b225-f8d29340aa75"
      },
      "execution_count": 171,
      "outputs": [
        {
          "output_type": "execute_result",
          "data": {
            "text/plain": [
              "0.9805790645879733"
            ]
          },
          "metadata": {},
          "execution_count": 171
        }
      ]
    },
    {
      "cell_type": "markdown",
      "source": [
        "We got a 98% accuracy. It is very high. This is due to the fact that words can be unique to each news article and the algorithms looks at those words(matrix values) and produce a result.\n",
        "\n",
        "This can be biased because the algorithm is only good to this dataset split."
      ],
      "metadata": {
        "id": "ZtR-FwjiteOt"
      }
    },
    {
      "cell_type": "markdown",
      "source": [
        "#Model Improvement \n",
        "\n",
        "Lets try to improve the model a bit using GridSearch."
      ],
      "metadata": {
        "id": "3rNBHcfmt7jq"
      }
    },
    {
      "cell_type": "code",
      "source": [
        "from sklearn.linear_model import LogisticRegression\n",
        "from sklearn.model_selection import GridSearchCV"
      ],
      "metadata": {
        "id": "a-fGLw5zujv1"
      },
      "execution_count": 172,
      "outputs": []
    },
    {
      "cell_type": "code",
      "source": [
        "# Create a log space for grid search\n",
        "grid={\"C\":np.logspace(-2,2,5), \"penalty\":[\"l2\"]}\n",
        "LR_Grid = LogisticRegression(max_iter=10000)\n",
        "\n",
        "# Perform model selection using cross validation\n",
        "LR_grid = GridSearchCV(LR_Grid, grid, cv=5)\n",
        "LR_grid.fit(xv_train, y_train)"
      ],
      "metadata": {
        "colab": {
          "base_uri": "https://localhost:8080/",
          "height": 0
        },
        "id": "VW2XG7JouJAl",
        "outputId": "8a6ccc67-ad44-4898-a44d-f9a8ae638d7a"
      },
      "execution_count": 173,
      "outputs": [
        {
          "output_type": "execute_result",
          "data": {
            "text/plain": [
              "GridSearchCV(cv=5, estimator=LogisticRegression(max_iter=10000),\n",
              "             param_grid={'C': array([1.e-02, 1.e-01, 1.e+00, 1.e+01, 1.e+02]),\n",
              "                         'penalty': ['l2']})"
            ]
          },
          "metadata": {},
          "execution_count": 173
        }
      ]
    },
    {
      "cell_type": "code",
      "source": [
        "# Predicting the test set results based on the model\n",
        "predictions = LR_grid.predict(xv_test)"
      ],
      "metadata": {
        "id": "_iMTC90YuubI"
      },
      "execution_count": 177,
      "outputs": []
    },
    {
      "cell_type": "code",
      "source": [
        "LR_grid.best_params_"
      ],
      "metadata": {
        "colab": {
          "base_uri": "https://localhost:8080/",
          "height": 0
        },
        "id": "1xJc3MWvv4vp",
        "outputId": "7b3778f9-28fe-4d1e-8a05-480aacab081d"
      },
      "execution_count": 178,
      "outputs": [
        {
          "output_type": "execute_result",
          "data": {
            "text/plain": [
              "{'C': 100.0, 'penalty': 'l2'}"
            ]
          },
          "metadata": {},
          "execution_count": 178
        }
      ]
    },
    {
      "cell_type": "code",
      "source": [
        "accuracy_score(y_test, predictions)"
      ],
      "metadata": {
        "colab": {
          "base_uri": "https://localhost:8080/",
          "height": 0
        },
        "id": "Hasf9A3lu2bw",
        "outputId": "b047716a-c949-4f91-b420-68f7fd5b28e6"
      },
      "execution_count": 180,
      "outputs": [
        {
          "output_type": "execute_result",
          "data": {
            "text/plain": [
              "0.9890423162583519"
            ]
          },
          "metadata": {},
          "execution_count": 180
        }
      ]
    },
    {
      "cell_type": "markdown",
      "metadata": {
        "id": "1WhpUC4wdFXh"
      },
      "source": [
        "##Decision Tree Classifier\n",
        "\n",
        "A decision tree is just an analogy of how a human thinks to take a decision with yes/no questions.\n",
        "\n",
        "A decision tree begins with a single point (or 'node') and then branches (or'splits') in two or more ways. \n",
        "\n",
        "Decision trees can help to divide down complicated data into more manageable data. It is frequently used in various domains for prediction analysis, data categorization, and regression. Decision trees can deal with complex data, which is part of what makes them useful.\n",
        "\n",
        "DT - that builds the classification model in the form of a tree structure.\n",
        "\n",
        "The process goes on with breaking down the data into smaller structures and eventually associating it with an incremental decision tree. The final structure looks like a tree with nodes and leaves\n",
        "\n",
        "\n",
        "Advantages of using DT:\n",
        "\n",
        "*   Requires minimal preparation or data cleaning before use.\n",
        "*   Excellent for dealing with both numerical and non-numerical data.\n"
      ]
    },
    {
      "cell_type": "code",
      "execution_count": 181,
      "metadata": {
        "id": "pWekgR7yqfPm"
      },
      "outputs": [],
      "source": [
        "from sklearn.tree import DecisionTreeClassifier\n",
        "DT = DecisionTreeClassifier()"
      ]
    },
    {
      "cell_type": "code",
      "execution_count": 182,
      "metadata": {
        "id": "SZOJRHPx7e9D"
      },
      "outputs": [],
      "source": [
        "# lets first fit a simple model with no tuning\n",
        "# fitting training set to the model\n",
        "DT.fit(xv_train, y_train)\n",
        "\n",
        "# Predicting the test set results based on the model.\n",
        "predictions = DT.predict(xv_test)"
      ]
    },
    {
      "cell_type": "code",
      "execution_count": 183,
      "metadata": {
        "colab": {
          "base_uri": "https://localhost:8080/",
          "height": 0
        },
        "id": "ET5Fx89j7bWZ",
        "outputId": "5ef99764-765f-429e-aa3d-8c0999e12dd2"
      },
      "outputs": [
        {
          "output_type": "execute_result",
          "data": {
            "text/plain": [
              "0.949576837416481"
            ]
          },
          "metadata": {},
          "execution_count": 183
        }
      ],
      "source": [
        "DT.score = accuracy_score(y_test, predictions) \n",
        "DT.score"
      ]
    },
    {
      "cell_type": "markdown",
      "metadata": {
        "id": "qXS2BMSyosX8"
      },
      "source": [
        "I have got 94% accuracy. As you can see this is a flawed dataset and also why I can easily get such higher accuracy without any effort in processing it. Thats why I have tried to predict using the GridSearch to compare from Decision Tree method which made it the same accuracy."
      ]
    },
    {
      "cell_type": "markdown",
      "metadata": {
        "id": "Dx2hmPv79QhC"
      },
      "source": [
        "The function to measure the quality of a split. Supported criteria are “gini” for the Gini impurity and “entropy” both for the Shannon information gain.\n",
        "\n",
        "\n",
        "So let's go with Decision Tree with hyperparameter tuning."
      ]
    },
    {
      "cell_type": "markdown",
      "source": [
        "# Model Improvement using GridSearch"
      ],
      "metadata": {
        "id": "_GoH8AS1yZwa"
      }
    },
    {
      "cell_type": "code",
      "execution_count": 184,
      "metadata": {
        "id": "L5IR7pjGtyHz"
      },
      "outputs": [],
      "source": [
        "params = {'criterion' : ['gini', 'entropy'], 'max_depth': [1,2,3,4,5,6,7,8,9,10]}"
      ]
    },
    {
      "cell_type": "code",
      "execution_count": 185,
      "metadata": {
        "id": "HgdJqirmt00p"
      },
      "outputs": [],
      "source": [
        "grid = GridSearchCV(DT, params, verbose=1)"
      ]
    },
    {
      "cell_type": "code",
      "execution_count": 186,
      "metadata": {
        "colab": {
          "base_uri": "https://localhost:8080/",
          "height": 0
        },
        "id": "hovVAugUuRR0",
        "outputId": "85b6379e-c5c2-4d00-8092-4074a93b794a"
      },
      "outputs": [
        {
          "output_type": "stream",
          "name": "stdout",
          "text": [
            "Fitting 5 folds for each of 20 candidates, totalling 100 fits\n"
          ]
        },
        {
          "output_type": "execute_result",
          "data": {
            "text/plain": [
              "GridSearchCV(estimator=DecisionTreeClassifier(),\n",
              "             param_grid={'criterion': ['gini', 'entropy'],\n",
              "                         'max_depth': [1, 2, 3, 4, 5, 6, 7, 8, 9, 10]},\n",
              "             verbose=1)"
            ]
          },
          "metadata": {},
          "execution_count": 186
        }
      ],
      "source": [
        "grid.fit(xv_train, y_train)"
      ]
    },
    {
      "cell_type": "code",
      "execution_count": 187,
      "metadata": {
        "id": "1VTweD2ozSIx"
      },
      "outputs": [],
      "source": [
        "predictions = grid.predict(xv_test)"
      ]
    },
    {
      "cell_type": "code",
      "execution_count": 188,
      "metadata": {
        "colab": {
          "base_uri": "https://localhost:8080/",
          "height": 0
        },
        "id": "YGy_48aY7lEP",
        "outputId": "cb2d655e-ece3-4a54-ee31-89111de36cf9"
      },
      "outputs": [
        {
          "output_type": "execute_result",
          "data": {
            "text/plain": [
              "{'criterion': 'entropy', 'max_depth': 10}"
            ]
          },
          "metadata": {},
          "execution_count": 188
        }
      ],
      "source": [
        "grid.best_params_"
      ]
    },
    {
      "cell_type": "code",
      "execution_count": 189,
      "metadata": {
        "colab": {
          "base_uri": "https://localhost:8080/",
          "height": 0
        },
        "id": "mciNbgof7oET",
        "outputId": "b5c3b7bc-45cb-4659-efe9-9d928425b06a"
      },
      "outputs": [
        {
          "output_type": "execute_result",
          "data": {
            "text/plain": [
              "0.9376391982182628"
            ]
          },
          "metadata": {},
          "execution_count": 189
        }
      ],
      "source": [
        "accuracy_score(y_test, predictions)"
      ]
    },
    {
      "cell_type": "markdown",
      "metadata": {
        "id": "onuXtIEWo6ej"
      },
      "source": [
        "GridSearch reached 93% a slightly improved compare to Decision Tree method."
      ]
    },
    {
      "cell_type": "markdown",
      "metadata": {
        "id": "u39JHJxujvio"
      },
      "source": [
        "#Results\n",
        "\n",
        "After implementing the machine learning algorithm, the accuracy of each classifier is calculated. It can be observed that DT and LR classifiers have both accuracy above 80% and the other classifier is below 80%. The results show that Logistic Regression has the most performance on this dataset in the model compare to Decision Tree.\n",
        "\n",
        "I also think that the datasets are flawed because the results are close to 98% which is often not true in Machine Learning. That is why, I have used Gridsearch to improve the models of each classifiers. However, I still have the same results.\n",
        "\n",
        "This can be biased because the algorithm is only good to this dataset split."
      ]
    },
    {
      "cell_type": "code",
      "execution_count": 190,
      "metadata": {
        "colab": {
          "base_uri": "https://localhost:8080/",
          "height": 112
        },
        "id": "oWvoBnJeqyZu",
        "outputId": "08437240-4a93-4921-9f04-e3ceb1aaf89a"
      },
      "outputs": [
        {
          "output_type": "execute_result",
          "data": {
            "text/plain": [
              "                 Model  Accuracy\n",
              "0  Logistic Regression  0.980579\n",
              "1        Decision Tree  0.949577"
            ],
            "text/html": [
              "\n",
              "  <div id=\"df-3f402b00-8d94-4ece-b70e-4629deb8539b\">\n",
              "    <div class=\"colab-df-container\">\n",
              "      <div>\n",
              "<style scoped>\n",
              "    .dataframe tbody tr th:only-of-type {\n",
              "        vertical-align: middle;\n",
              "    }\n",
              "\n",
              "    .dataframe tbody tr th {\n",
              "        vertical-align: top;\n",
              "    }\n",
              "\n",
              "    .dataframe thead th {\n",
              "        text-align: right;\n",
              "    }\n",
              "</style>\n",
              "<table border=\"1\" class=\"dataframe\">\n",
              "  <thead>\n",
              "    <tr style=\"text-align: right;\">\n",
              "      <th></th>\n",
              "      <th>Model</th>\n",
              "      <th>Accuracy</th>\n",
              "    </tr>\n",
              "  </thead>\n",
              "  <tbody>\n",
              "    <tr>\n",
              "      <th>0</th>\n",
              "      <td>Logistic Regression</td>\n",
              "      <td>0.980579</td>\n",
              "    </tr>\n",
              "    <tr>\n",
              "      <th>1</th>\n",
              "      <td>Decision Tree</td>\n",
              "      <td>0.949577</td>\n",
              "    </tr>\n",
              "  </tbody>\n",
              "</table>\n",
              "</div>\n",
              "      <button class=\"colab-df-convert\" onclick=\"convertToInteractive('df-3f402b00-8d94-4ece-b70e-4629deb8539b')\"\n",
              "              title=\"Convert this dataframe to an interactive table.\"\n",
              "              style=\"display:none;\">\n",
              "        \n",
              "  <svg xmlns=\"http://www.w3.org/2000/svg\" height=\"24px\"viewBox=\"0 0 24 24\"\n",
              "       width=\"24px\">\n",
              "    <path d=\"M0 0h24v24H0V0z\" fill=\"none\"/>\n",
              "    <path d=\"M18.56 5.44l.94 2.06.94-2.06 2.06-.94-2.06-.94-.94-2.06-.94 2.06-2.06.94zm-11 1L8.5 8.5l.94-2.06 2.06-.94-2.06-.94L8.5 2.5l-.94 2.06-2.06.94zm10 10l.94 2.06.94-2.06 2.06-.94-2.06-.94-.94-2.06-.94 2.06-2.06.94z\"/><path d=\"M17.41 7.96l-1.37-1.37c-.4-.4-.92-.59-1.43-.59-.52 0-1.04.2-1.43.59L10.3 9.45l-7.72 7.72c-.78.78-.78 2.05 0 2.83L4 21.41c.39.39.9.59 1.41.59.51 0 1.02-.2 1.41-.59l7.78-7.78 2.81-2.81c.8-.78.8-2.07 0-2.86zM5.41 20L4 18.59l7.72-7.72 1.47 1.35L5.41 20z\"/>\n",
              "  </svg>\n",
              "      </button>\n",
              "      \n",
              "  <style>\n",
              "    .colab-df-container {\n",
              "      display:flex;\n",
              "      flex-wrap:wrap;\n",
              "      gap: 12px;\n",
              "    }\n",
              "\n",
              "    .colab-df-convert {\n",
              "      background-color: #E8F0FE;\n",
              "      border: none;\n",
              "      border-radius: 50%;\n",
              "      cursor: pointer;\n",
              "      display: none;\n",
              "      fill: #1967D2;\n",
              "      height: 32px;\n",
              "      padding: 0 0 0 0;\n",
              "      width: 32px;\n",
              "    }\n",
              "\n",
              "    .colab-df-convert:hover {\n",
              "      background-color: #E2EBFA;\n",
              "      box-shadow: 0px 1px 2px rgba(60, 64, 67, 0.3), 0px 1px 3px 1px rgba(60, 64, 67, 0.15);\n",
              "      fill: #174EA6;\n",
              "    }\n",
              "\n",
              "    [theme=dark] .colab-df-convert {\n",
              "      background-color: #3B4455;\n",
              "      fill: #D2E3FC;\n",
              "    }\n",
              "\n",
              "    [theme=dark] .colab-df-convert:hover {\n",
              "      background-color: #434B5C;\n",
              "      box-shadow: 0px 1px 3px 1px rgba(0, 0, 0, 0.15);\n",
              "      filter: drop-shadow(0px 1px 2px rgba(0, 0, 0, 0.3));\n",
              "      fill: #FFFFFF;\n",
              "    }\n",
              "  </style>\n",
              "\n",
              "      <script>\n",
              "        const buttonEl =\n",
              "          document.querySelector('#df-3f402b00-8d94-4ece-b70e-4629deb8539b button.colab-df-convert');\n",
              "        buttonEl.style.display =\n",
              "          google.colab.kernel.accessAllowed ? 'block' : 'none';\n",
              "\n",
              "        async function convertToInteractive(key) {\n",
              "          const element = document.querySelector('#df-3f402b00-8d94-4ece-b70e-4629deb8539b');\n",
              "          const dataTable =\n",
              "            await google.colab.kernel.invokeFunction('convertToInteractive',\n",
              "                                                     [key], {});\n",
              "          if (!dataTable) return;\n",
              "\n",
              "          const docLinkHtml = 'Like what you see? Visit the ' +\n",
              "            '<a target=\"_blank\" href=https://colab.research.google.com/notebooks/data_table.ipynb>data table notebook</a>'\n",
              "            + ' to learn more about interactive tables.';\n",
              "          element.innerHTML = '';\n",
              "          dataTable['output_type'] = 'display_data';\n",
              "          await google.colab.output.renderOutput(dataTable, element);\n",
              "          const docLink = document.createElement('div');\n",
              "          docLink.innerHTML = docLinkHtml;\n",
              "          element.appendChild(docLink);\n",
              "        }\n",
              "      </script>\n",
              "    </div>\n",
              "  </div>\n",
              "  "
            ]
          },
          "metadata": {},
          "execution_count": 190
        }
      ],
      "source": [
        "model_comparison = pd.DataFrame({'Model': ['Logistic Regression', 'Decision Tree'],\n",
        "'Accuracy': [LR.score, DT.score]})\n",
        "model_comparison"
      ]
    },
    {
      "cell_type": "code",
      "execution_count": 191,
      "metadata": {
        "colab": {
          "base_uri": "https://localhost:8080/",
          "height": 369
        },
        "id": "T4u-GJf2q1WG",
        "outputId": "89af652a-94f7-448c-cbc2-88a5cdea921d"
      },
      "outputs": [
        {
          "output_type": "execute_result",
          "data": {
            "text/plain": [
              "Text(0.5, 0, 'Accuracy')"
            ]
          },
          "metadata": {},
          "execution_count": 191
        },
        {
          "output_type": "display_data",
          "data": {
            "text/plain": [
              "<Figure size 720x360 with 1 Axes>"
            ],
            "image/png": "[encoded data removed]"
          },
          "metadata": {
            "needs_background": "light"
          }
        }
      ],
      "source": [
        "plt.figure(figsize=(10,5))\n",
        "sns.barplot(x = 'Accuracy', y = 'Model', data = model_comparison)\n",
        "plt.title(\"Accuracy of Different Classifiers\", fontsize = 15)\n",
        "plt.xlabel('Accuracy', fontsize = 10)"
      ]
    }
  ],
  "metadata": {
    "colab": {
      "collapsed_sections": [],
      "name": "Final of Fake News Prediction",
      "provenance": []
    },
    "kernelspec": {
      "display_name": "Python 3",
      "name": "python3"
    },
    "language_info": {
      "name": "python"
    }
  },
  "nbformat": 4,
  "nbformat_minor": 0
}